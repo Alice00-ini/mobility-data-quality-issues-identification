{
 "cells": [
  {
   "cell_type": "code",
   "execution_count": 1,
   "id": "af183e14-66cd-4c20-8744-7f4f8afbb0e9",
   "metadata": {},
   "outputs": [],
   "source": [
    "import pandas as pd\n",
    "import geopandas as gpd\n",
    "import numpy as np\n",
    "import matplotlib.pyplot as plt\n",
    "%matplotlib inline\n",
    "import pickle\n",
    "import os\n",
    "import seaborn as sns\n",
    "from tqdm.auto import tqdm"
   ]
  },
  {
   "cell_type": "markdown",
   "id": "4263f71d-21c3-4ff1-b47c-0172b3f53dab",
   "metadata": {},
   "source": [
    "## 集大成！"
   ]
  },
  {
   "cell_type": "markdown",
   "id": "8b842801",
   "metadata": {},
   "source": [
    "### 集结P1A3"
   ]
  },
  {
   "cell_type": "code",
   "execution_count": 3,
   "id": "8fa5d87c-67a2-459c-88ac-a6cbb189a6f9",
   "metadata": {},
   "outputs": [
    {
     "data": {
      "application/vnd.jupyter.widget-view+json": {
       "model_id": "ac17c5dab9a3447e962195eb78dbac0a",
       "version_major": 2,
       "version_minor": 0
      },
      "text/plain": [
       "Processing folders:   0%|          | 0/1 [00:00<?, ?it/s]"
      ]
     },
     "metadata": {},
     "output_type": "display_data"
    }
   ],
   "source": [
    "parent_directory = '/scratch/work/lyub2/Problem_output_September/'\n",
    "\n",
    "android_missing_counts_total = 0\n",
    "ios_missing_counts_total = 0\n",
    "df_list = []\n",
    "\n",
    "# Iterate through all 30 folders with tqdm for progress bar\n",
    "for day in tqdm(range(1, 2), desc=\"Processing folders\"):\n",
    "    # Generate folder name in the format 'MMDD_output_csv' (e.g., '0901_output_csv')\n",
    "    folder_name = f\"09{str(day).zfill(2)}_output_csv\"\n",
    "    # Define the full path to the csv file\n",
    "    file_path = os.path.join(parent_directory, folder_name, 'P1A3_missing_values_os.csv')\n",
    "    \n",
    "    # Check if the file exists to avoid errors\n",
    "    if not os.path.isfile(file_path):\n",
    "        print(f\"File not found: {file_path}\")\n",
    "        continue\n",
    "    \n",
    "    # Read the current CSV file\n",
    "    df = pd.read_csv(file_path)\n",
    "    \n",
    "    android_missing_counts_total += df['0_Android_mssing_counts'].sum()\n",
    "    ios_missing_counts_total += df['1_iOS_mssing_counts'].sum()\n",
    "    \n",
    "    df_list.append(df)\n",
    "    \n",
    "total_counts = android_missing_counts_total + ios_missing_counts_total\n",
    "\n",
    "android_missing_percentage_total = (android_missing_counts_total / total_counts) * 100 if total_counts > 0 else 0\n",
    "ios_missing_percentage_total = (ios_missing_counts_total / total_counts) * 100 if total_counts > 0 else 0\n",
    "\n",
    "# Create a final DataFrame to store the results\n",
    "df_a3 = {\n",
    "    '0_Android_missing_counts': [android_missing_counts_total],\n",
    "    '1_iOS_missing_counts': [ios_missing_counts_total],\n",
    "    '0_Android_missing_percentage': [android_missing_percentage_total],\n",
    "    '1_iOS_missing_percentage': [ios_missing_percentage_total]\n",
    "}\n",
    "\n",
    "df_a3 = pd.DataFrame(df_a3)\n",
    "\n",
    "#df_a3.to_csv('/scratch/work/lyub2/Problem_output_September/P1A3/df_a3.csv', index = False)"
   ]
  },
  {
   "cell_type": "code",
   "execution_count": 4,
   "id": "39d105a6",
   "metadata": {},
   "outputs": [
    {
     "data": {
      "text/html": [
       "<div>\n",
       "<style scoped>\n",
       "    .dataframe tbody tr th:only-of-type {\n",
       "        vertical-align: middle;\n",
       "    }\n",
       "\n",
       "    .dataframe tbody tr th {\n",
       "        vertical-align: top;\n",
       "    }\n",
       "\n",
       "    .dataframe thead th {\n",
       "        text-align: right;\n",
       "    }\n",
       "</style>\n",
       "<table border=\"1\" class=\"dataframe\">\n",
       "  <thead>\n",
       "    <tr style=\"text-align: right;\">\n",
       "      <th></th>\n",
       "      <th>0_Android_missing_counts</th>\n",
       "      <th>1_iOS_missing_counts</th>\n",
       "      <th>0_Android_missing_percentage</th>\n",
       "      <th>1_iOS_missing_percentage</th>\n",
       "    </tr>\n",
       "  </thead>\n",
       "  <tbody>\n",
       "    <tr>\n",
       "      <th>0</th>\n",
       "      <td>6490253</td>\n",
       "      <td>1089606</td>\n",
       "      <td>85.624983</td>\n",
       "      <td>14.375017</td>\n",
       "    </tr>\n",
       "  </tbody>\n",
       "</table>\n",
       "</div>"
      ],
      "text/plain": [
       "   0_Android_missing_counts  1_iOS_missing_counts  \\\n",
       "0                   6490253               1089606   \n",
       "\n",
       "   0_Android_missing_percentage  1_iOS_missing_percentage  \n",
       "0                     85.624983                 14.375017  "
      ]
     },
     "execution_count": 4,
     "metadata": {},
     "output_type": "execute_result"
    }
   ],
   "source": [
    "df_a3"
   ]
  },
  {
   "cell_type": "markdown",
   "id": "0ad47374",
   "metadata": {},
   "source": [
    "### 统计全部 上面的不行"
   ]
  },
  {
   "cell_type": "code",
   "execution_count": 25,
   "id": "5cc4a656",
   "metadata": {},
   "outputs": [
    {
     "data": {
      "application/vnd.jupyter.widget-view+json": {
       "model_id": "79785a20a85547b5977270c46447d8f4",
       "version_major": 2,
       "version_minor": 0
      },
      "text/plain": [
       "Processing files:   0%|          | 0/30 [00:00<?, ?it/s]"
      ]
     },
     "metadata": {},
     "output_type": "display_data"
    }
   ],
   "source": [
    "# Define the folder and common file structure\n",
    "folder_path = '/scratch/work/lyub2/2.df_tc_09'\n",
    "file_prefix = 'df_tc_'\n",
    "file_suffix = '.csv'\n",
    "\n",
    "# Columns to check for missing values\n",
    "columns_to_check = ['leg_order', 'id', 'activity', 'km', 'time_start_distance', 'time_end_distance']\n",
    "cols = ['leg_order', 'id', 'activity', 'km', 'time_start_distance', 'time_end_distance', 'operatingSystem']\n",
    "# Initialize accumulators for total counts\n",
    "total_os_counts = pd.Series([0, 0], index=[0, 1])  # Using 0 for Android, 1 for iOS\n",
    "total_missing_counts = pd.DataFrame(0, index=columns_to_check, columns=['0_Android_missing_counts', '1_iOS_missing_counts'])\n",
    "\n",
    "# Loop through each CSV file\n",
    "for i in tqdm(range(1, 31), desc=\"Processing files\"):\n",
    "    file_name = f'{file_prefix}{i:02d}{file_suffix}'\n",
    "    file_path = os.path.join(folder_path, file_name)\n",
    "    \n",
    "    # Check if the file exists to avoid errors\n",
    "    if not os.path.isfile(file_path):\n",
    "        print(f\"File not found: {file_path}\")\n",
    "        continue\n",
    "    \n",
    "    # Read the CSV file\n",
    "    df_tc = pd.read_csv(file_path, usecols = cols)\n",
    "    \n",
    "    # Get the operating system counts for this file\n",
    "    os_counts = df_tc['operatingSystem'].value_counts()\n",
    "    os_counts = os_counts.reindex([0, 1], fill_value=-1)\n",
    "    \n",
    "    # Update the total counts of operating systems\n",
    "    total_os_counts += os_counts\n",
    "\n",
    "    # Group by 'operatingSystem' and count missing values for each column\n",
    "    missing_values_os = df_tc.groupby('operatingSystem')[columns_to_check].apply(lambda x: x.isna().sum())\n",
    "\n",
    "    # Update the total missing counts\n",
    "    total_missing_counts['0_Android_missing_counts'] += missing_values_os.loc[0, columns_to_check].values\n",
    "    total_missing_counts['1_iOS_missing_counts'] += missing_values_os.loc[1, columns_to_check].values\n",
    "\n",
    "# Calculate the overall missing percentages after accumulating all counts\n",
    "total_missing_percentages = pd.DataFrame(0, index=columns_to_check, columns=['0_Android_missing_percentage', '1_iOS_missing_percentage'])\n",
    "total_missing_percentages['0_Android_missing_percentage'] = round((total_missing_counts['0_Android_missing_counts'] / total_os_counts[0]) * 100, 2)\n",
    "total_missing_percentages['1_iOS_missing_percentage'] = round((total_missing_counts['1_iOS_missing_counts'] / total_os_counts[1]) * 100, 2)\n",
    "\n",
    "# Create the final DataFrame combining counts and percentages\n",
    "final_df = pd.concat([total_missing_counts, total_missing_percentages], axis=1)\n",
    "\n"
   ]
  },
  {
   "cell_type": "code",
   "execution_count": 23,
   "id": "3020157c-95d6-4148-8493-35e44027bb96",
   "metadata": {},
   "outputs": [
    {
     "data": {
      "text/plain": [
       "0    18409304\n",
       "1     2691171\n",
       "dtype: int64"
      ]
     },
     "execution_count": 23,
     "metadata": {},
     "output_type": "execute_result"
    }
   ],
   "source": [
    "total_os_counts"
   ]
  },
  {
   "cell_type": "code",
   "execution_count": 26,
   "id": "e4d83f80-6004-4c2c-9793-606136c0073f",
   "metadata": {},
   "outputs": [
    {
     "data": {
      "text/plain": [
       "0    258374813\n",
       "1     34103689\n",
       "dtype: int64"
      ]
     },
     "execution_count": 26,
     "metadata": {},
     "output_type": "execute_result"
    }
   ],
   "source": [
    "total_os_counts"
   ]
  },
  {
   "cell_type": "code",
   "execution_count": 27,
   "id": "cd2822a8-1575-4ff7-be67-8102474232d9",
   "metadata": {},
   "outputs": [
    {
     "data": {
      "text/html": [
       "<div>\n",
       "<style scoped>\n",
       "    .dataframe tbody tr th:only-of-type {\n",
       "        vertical-align: middle;\n",
       "    }\n",
       "\n",
       "    .dataframe tbody tr th {\n",
       "        vertical-align: top;\n",
       "    }\n",
       "\n",
       "    .dataframe thead th {\n",
       "        text-align: right;\n",
       "    }\n",
       "</style>\n",
       "<table border=\"1\" class=\"dataframe\">\n",
       "  <thead>\n",
       "    <tr style=\"text-align: right;\">\n",
       "      <th></th>\n",
       "      <th>0_Android_missing_counts</th>\n",
       "      <th>1_iOS_missing_counts</th>\n",
       "      <th>0_Android_missing_percentage</th>\n",
       "      <th>1_iOS_missing_percentage</th>\n",
       "    </tr>\n",
       "  </thead>\n",
       "  <tbody>\n",
       "    <tr>\n",
       "      <th>leg_order</th>\n",
       "      <td>24689763</td>\n",
       "      <td>3869391</td>\n",
       "      <td>9.56</td>\n",
       "      <td>11.35</td>\n",
       "    </tr>\n",
       "    <tr>\n",
       "      <th>id</th>\n",
       "      <td>24706800</td>\n",
       "      <td>3870436</td>\n",
       "      <td>9.56</td>\n",
       "      <td>11.35</td>\n",
       "    </tr>\n",
       "    <tr>\n",
       "      <th>activity</th>\n",
       "      <td>24706800</td>\n",
       "      <td>3870436</td>\n",
       "      <td>9.56</td>\n",
       "      <td>11.35</td>\n",
       "    </tr>\n",
       "    <tr>\n",
       "      <th>km</th>\n",
       "      <td>24706800</td>\n",
       "      <td>3870436</td>\n",
       "      <td>9.56</td>\n",
       "      <td>11.35</td>\n",
       "    </tr>\n",
       "    <tr>\n",
       "      <th>time_start_distance</th>\n",
       "      <td>24706800</td>\n",
       "      <td>3870436</td>\n",
       "      <td>9.56</td>\n",
       "      <td>11.35</td>\n",
       "    </tr>\n",
       "    <tr>\n",
       "      <th>time_end_distance</th>\n",
       "      <td>24706800</td>\n",
       "      <td>3870436</td>\n",
       "      <td>9.56</td>\n",
       "      <td>11.35</td>\n",
       "    </tr>\n",
       "  </tbody>\n",
       "</table>\n",
       "</div>"
      ],
      "text/plain": [
       "                     0_Android_missing_counts  1_iOS_missing_counts  \\\n",
       "leg_order                            24689763               3869391   \n",
       "id                                   24706800               3870436   \n",
       "activity                             24706800               3870436   \n",
       "km                                   24706800               3870436   \n",
       "time_start_distance                  24706800               3870436   \n",
       "time_end_distance                    24706800               3870436   \n",
       "\n",
       "                     0_Android_missing_percentage  1_iOS_missing_percentage  \n",
       "leg_order                                    9.56                     11.35  \n",
       "id                                           9.56                     11.35  \n",
       "activity                                     9.56                     11.35  \n",
       "km                                           9.56                     11.35  \n",
       "time_start_distance                          9.56                     11.35  \n",
       "time_end_distance                            9.56                     11.35  "
      ]
     },
     "execution_count": 27,
     "metadata": {},
     "output_type": "execute_result"
    }
   ],
   "source": [
    "final_df"
   ]
  },
  {
   "cell_type": "code",
   "execution_count": 28,
   "id": "2c81aecc",
   "metadata": {},
   "outputs": [],
   "source": [
    "final_df.to_csv('/scratch/work/lyub2/Problem_output_September/P1A3/df_a3.csv')"
   ]
  },
  {
   "cell_type": "code",
   "execution_count": null,
   "id": "df2df420-44a1-469e-be6b-e2dcc4f30227",
   "metadata": {},
   "outputs": [],
   "source": []
  },
  {
   "cell_type": "code",
   "execution_count": null,
   "id": "cdf2c167",
   "metadata": {},
   "outputs": [],
   "source": []
  }
 ],
 "metadata": {
  "kernelspec": {
   "display_name": "Python generic (scicomp-python-env/2024-01)",
   "language": "python",
   "name": "python3"
  },
  "language_info": {
   "codemirror_mode": {
    "name": "ipython",
    "version": 3
   },
   "file_extension": ".py",
   "mimetype": "text/x-python",
   "name": "python",
   "nbconvert_exporter": "python",
   "pygments_lexer": "ipython3",
   "version": "3.11.9"
  }
 },
 "nbformat": 4,
 "nbformat_minor": 5
}
