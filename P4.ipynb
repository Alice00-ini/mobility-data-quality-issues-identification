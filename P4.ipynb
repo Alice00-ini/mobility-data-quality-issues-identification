{
 "cells": [
  {
   "cell_type": "code",
   "execution_count": 1,
   "metadata": {},
   "outputs": [
    {
     "name": "stderr",
     "output_type": "stream",
     "text": [
      "/scratch/work/lyub2/.conda_envs/lb-env/lib/python3.12/site-packages/tqdm/auto.py:21: TqdmWarning: IProgress not found. Please update jupyter and ipywidgets. See https://ipywidgets.readthedocs.io/en/stable/user_install.html\n",
      "  from .autonotebook import tqdm as notebook_tqdm\n"
     ]
    }
   ],
   "source": [
    "import pandas as pd\n",
    "import geopandas as gpd\n",
    "import numpy as np\n",
    "import matplotlib.pyplot as plt\n",
    "%matplotlib inline\n",
    "import pickle\n",
    "import os\n",
    "import seaborn as sns\n",
    "from tqdm.auto import tqdm\n",
    "import math"
   ]
  },
  {
   "cell_type": "markdown",
   "metadata": {},
   "source": [
    "## 新尝试"
   ]
  },
  {
   "cell_type": "code",
   "execution_count": 2,
   "metadata": {},
   "outputs": [],
   "source": [
    "# Projected coordinate system\n",
    "MAP_CRS = 'EPSG:3857'\n",
    "CAL_CRS = 'EPSG:3067'\n",
    "\n",
    "# EPSG 4326 uses a coordinate system the same as a GLOBE (curved surface). \n",
    "# EPSG 3857 uses a coordinate system the same as a MAP (flat surface).\n",
    "LONLAT_CRS = 'EPSG:4326'"
   ]
  },
  {
   "cell_type": "code",
   "execution_count": 3,
   "metadata": {},
   "outputs": [],
   "source": [
    "gdf_areas = gpd.read_file(r'/scratch/work/lyub2/HZR/ykr_250_15_kuntaa_grid_v2.geojson').to_crs(CAL_CRS)"
   ]
  },
  {
   "cell_type": "code",
   "execution_count": 26,
   "metadata": {},
   "outputs": [
    {
     "data": {
      "text/plain": [
       "Index(['id', 'geometry'], dtype='object')"
      ]
     },
     "execution_count": 26,
     "metadata": {},
     "output_type": "execute_result"
    }
   ],
   "source": [
    "gdf_areas.columns"
   ]
  },
  {
   "cell_type": "markdown",
   "metadata": {},
   "source": [
    "### 计算功能定义"
   ]
  },
  {
   "cell_type": "code",
   "execution_count": 4,
   "metadata": {},
   "outputs": [],
   "source": [
    "def plot_areas(areas):\n",
    "    plt.figure(figsize=(5, 5), dpi=150)\n",
    "    ax = plt.subplot(1, 1, 1)\n",
    "    gdf_areas[gdf_areas['id'].isin(areas)].plot(ax=ax, ec='k')\n",
    "    #plt.show()"
   ]
  },
  {
   "cell_type": "code",
   "execution_count": 5,
   "metadata": {},
   "outputs": [],
   "source": [
    "def euclidean_distance(x1, y1, x2, y2):\n",
    "    if pd.isnull(x2) or pd.isnull(y2):\n",
    "        return None\n",
    "    return ((x2 - x1)**2 + (y2 - y1)**2)**0.5\n",
    "\n",
    "def grids_to_fill_gap(distance, gap_limit=360, grid_size=250):\n",
    "    if distance <= gap_limit:\n",
    "        return 0\n",
    "    effective_gap = distance - gap_limit\n",
    "    grids_needed = math.ceil(effective_gap / grid_size)\n",
    "    return grids_needed\n",
    "\n",
    "def calculate_diff_distances(gdf_tc):\n",
    "    if 'geometry' not in gdf_tc.columns or not isinstance(gdf_tc['geometry'], gpd.GeoSeries):\n",
    "        raise ValueError(\"The geometry column is missing or is not a GeoSeries in gdf_tc.\")\n",
    "    \n",
    "    gdf_tc['centroid'] = gdf_tc['geometry'].centroid\n",
    "    gdf_tc['x'] = gdf_tc['centroid'].x\n",
    "    gdf_tc['y'] = gdf_tc['centroid'].y\n",
    "\n",
    "    gdf_tc['x_next'] = gdf_tc['x'].shift(-1)\n",
    "    gdf_tc['y_next'] = gdf_tc['y'].shift(-1)\n",
    "    gdf_tc['area_id_next'] = gdf_tc['area_id'].shift(-1)\n",
    "\n",
    "    gdf_tc['diff_dist'] = gdf_tc.apply(\n",
    "        lambda row: euclidean_distance(row['x'], row['y'], row['x_next'], row['y_next']),\n",
    "        axis=1\n",
    "    )\n",
    "    return gdf_tc\n",
    "\n",
    "def calculate_areas_next_to_each_other(gdf_tc, gap_limit=360):\n",
    "    areas_next = gdf_tc[gdf_tc['diff_dist'] <= gap_limit].dropna(subset=['diff_dist'])\n",
    "    adjacent_pairs = areas_next.apply(\n",
    "        lambda row: {\n",
    "            'index': row.name,\n",
    "            'area_id_current': row['area_id'],\n",
    "            'area_id_next': row['area_id_next'],\n",
    "            'distance': row['diff_dist']\n",
    "        },\n",
    "        axis=1\n",
    "    ).tolist()\n",
    "    return adjacent_pairs\n",
    "\n",
    "def calculate_areas_with_gaps(gdf_tc, gap_limit=360, grid_size=250):\n",
    "    gdf_tc_gap = gdf_tc[gdf_tc['diff_dist'] > gap_limit].dropna(subset=['diff_dist'])\n",
    "    if gdf_tc_gap.empty:\n",
    "        return []\n",
    "    else:\n",
    "        gdf_tc_gap['grids_needed'] = gdf_tc_gap['diff_dist'].apply(\n",
    "            lambda d: grids_to_fill_gap(d, gap_limit, grid_size)\n",
    "        )\n",
    "        gaps = gdf_tc_gap.apply(\n",
    "            lambda row: {\n",
    "                'index': row.name,\n",
    "                'area_id_current': row['area_id'],\n",
    "                'area_id_next': row['area_id_next'],\n",
    "                'distance': row['diff_dist'],\n",
    "                'grids_needed': row['grids_needed']\n",
    "            },\n",
    "            axis=1\n",
    "        ).tolist()\n",
    "        return gaps\n",
    "\n",
    "def measure_distance_gap(df_tc):\n",
    "    GAP_LIMIT = 360\n",
    "    GRID_SIZE = 250\n",
    "\n",
    "    gdf_tc = gdf_areas.merge(df_tc, left_on='id', right_on='area_id')\n",
    "    gdf_tc = gpd.GeoDataFrame(gdf_tc, geometry='geometry') ## 新加的\n",
    "    gdf_tc = gdf_tc.sort_values('area_order').reset_index(drop=True)\n",
    "\n",
    "    gdf_tc = calculate_diff_distances(gdf_tc)\n",
    "\n",
    "    #print(\"gdf_tc['diff_dist'] \",gdf_tc['diff_dist'])\n",
    "    dist_total = gdf_tc['diff_dist'].sum() \n",
    "\n",
    "    dist_adj = gdf_tc[gdf_tc['diff_dist'] <= GAP_LIMIT]['diff_dist'].sum()\n",
    "    gap_ratio = ((dist_total - dist_adj) / dist_total) if dist_total else 0\n",
    "    dist_count = gdf_tc['diff_dist'].count()\n",
    "\n",
    "    adjacent_pairs = calculate_areas_next_to_each_other(gdf_tc, GAP_LIMIT)\n",
    "    gaps = calculate_areas_with_gaps(gdf_tc, GAP_LIMIT, GRID_SIZE)\n",
    "\n",
    "    dist_gap_min = gdf_tc[gdf_tc['diff_dist'] > GAP_LIMIT]['diff_dist'].min()\n",
    "    dist_gap_max = gdf_tc[gdf_tc['diff_dist'] > GAP_LIMIT]['diff_dist'].max() \n",
    "    dist_gap_mean = gdf_tc[gdf_tc['diff_dist'] > GAP_LIMIT]['diff_dist'].mean() \n",
    "    dist_gap_count = gdf_tc[gdf_tc['diff_dist'] > GAP_LIMIT]['diff_dist'].count() \n",
    "\n",
    "    areas = set([x['area_id_current'] for x in adjacent_pairs] + [x['area_id_next'] for x in adjacent_pairs])\n",
    "    area_next_to_each_other = len(areas)\n",
    "\n",
    "    areas_with_gaps = np.sum([x['grids_needed'] for x in gaps])\n",
    "    \n",
    "    # print(f\"Total distance: {dist_total}\") #完整的包含gap和没有gap的距离计算结果\n",
    "    # print(f\"Adjacent distance: {dist_adj}\")#相邻的area的总长度\n",
    "    # #print(f\"Total intervals: {dist_count}\")\n",
    "    # print(f\"Adjacent/Total distance ratio: {round(dist_adj / dist_total * 100, 2) if dist_total else 0}\") #这个leg里 非gap区域的距离占比\n",
    "    # print(f\"Gap min distance: {dist_gap_min}\")\n",
    "    # print(f\"Gap max distance: {dist_gap_max}\")\n",
    "    # print(f\"Gap mean distance: {dist_gap_mean}\")\n",
    "    # print(f\"Gap count: {dist_gap_count}\") #这个leg里一共有几段gap\n",
    "    # print(f\"Number of adjacent pairs: {len(adjacent_pairs)}\")\n",
    "    # #print(f\"Number of gaps: {len(gaps)}\")\n",
    "    # print(f\"Areas next to each other: {area_next_to_each_other}\") #这个leg里所有有相邻的areas的数量\n",
    "    # print(f\"Areas with gaps: {areas_with_gaps}\") #要填补这个leg里所有gap需要的格子数量\n",
    "    \n",
    "    # print(\"Gaps:\")\n",
    "    # for gap in gaps:\n",
    "    #     print(gap)\n",
    "    # print(\"\\n\")\n",
    "    \n",
    "    # areas = gdf_tc['area_id'].astype(int).values\n",
    "    # plot_areas(areas)\n",
    "\n",
    "    #return adjacent_pairs, gaps \n",
    "    return adjacent_pairs, gaps, dist_total, dist_adj, gap_ratio, dist_gap_min, dist_gap_max, dist_gap_mean, dist_gap_count, area_next_to_each_other"
   ]
  },
  {
   "cell_type": "code",
   "execution_count": 87,
   "metadata": {},
   "outputs": [
    {
     "name": "stdout",
     "output_type": "stream",
     "text": [
      "000OM3CXMpmd 2\n",
      "0027AfcePA3w 3\n",
      "0028zaGIy9ki 3\n",
      "003za0UCaFe4 2\n",
      "004rm1ePFm5i 2\n",
      "005kboCECfb0 2\n",
      "005yJIA58wyD 2\n"
     ]
    }
   ],
   "source": [
    "group = sorted_bus.head(1000).groupby(\"temp_device\")\n",
    "for temp_device, df in group:\n",
    "    if len(df.leg_order.unique())>1:\n",
    "        print(temp_device,len(df.leg_order.unique()) )"
   ]
  },
  {
   "cell_type": "code",
   "execution_count": 90,
   "metadata": {},
   "outputs": [
    {
     "data": {
      "text/html": [
       "<div>\n",
       "<style scoped>\n",
       "    .dataframe tbody tr th:only-of-type {\n",
       "        vertical-align: middle;\n",
       "    }\n",
       "\n",
       "    .dataframe tbody tr th {\n",
       "        vertical-align: top;\n",
       "    }\n",
       "\n",
       "    .dataframe thead th {\n",
       "        text-align: right;\n",
       "    }\n",
       "</style>\n",
       "<table border=\"1\" class=\"dataframe\">\n",
       "  <thead>\n",
       "    <tr style=\"text-align: right;\">\n",
       "      <th></th>\n",
       "      <th>temp_device</th>\n",
       "      <th>tripchain_id</th>\n",
       "      <th>leg_order</th>\n",
       "      <th>area_id</th>\n",
       "      <th>area_order</th>\n",
       "      <th>mode</th>\n",
       "    </tr>\n",
       "  </thead>\n",
       "  <tbody>\n",
       "    <tr>\n",
       "      <th>0</th>\n",
       "      <td>000OM3CXMpmd</td>\n",
       "      <td>0.0</td>\n",
       "      <td>3.0</td>\n",
       "      <td>64989.0</td>\n",
       "      <td>12.0</td>\n",
       "      <td>BUS</td>\n",
       "    </tr>\n",
       "    <tr>\n",
       "      <th>1</th>\n",
       "      <td>000OM3CXMpmd</td>\n",
       "      <td>0.0</td>\n",
       "      <td>3.0</td>\n",
       "      <td>64991.0</td>\n",
       "      <td>13.0</td>\n",
       "      <td>BUS</td>\n",
       "    </tr>\n",
       "    <tr>\n",
       "      <th>2</th>\n",
       "      <td>000OM3CXMpmd</td>\n",
       "      <td>0.0</td>\n",
       "      <td>3.0</td>\n",
       "      <td>64299.0</td>\n",
       "      <td>14.0</td>\n",
       "      <td>BUS</td>\n",
       "    </tr>\n",
       "    <tr>\n",
       "      <th>3</th>\n",
       "      <td>000OM3CXMpmd</td>\n",
       "      <td>0.0</td>\n",
       "      <td>3.0</td>\n",
       "      <td>63709.0</td>\n",
       "      <td>15.0</td>\n",
       "      <td>BUS</td>\n",
       "    </tr>\n",
       "    <tr>\n",
       "      <th>4</th>\n",
       "      <td>000OM3CXMpmd</td>\n",
       "      <td>0.0</td>\n",
       "      <td>3.0</td>\n",
       "      <td>63092.0</td>\n",
       "      <td>16.0</td>\n",
       "      <td>BUS</td>\n",
       "    </tr>\n",
       "    <tr>\n",
       "      <th>...</th>\n",
       "      <td>...</td>\n",
       "      <td>...</td>\n",
       "      <td>...</td>\n",
       "      <td>...</td>\n",
       "      <td>...</td>\n",
       "      <td>...</td>\n",
       "    </tr>\n",
       "    <tr>\n",
       "      <th>57</th>\n",
       "      <td>000OM3CXMpmd</td>\n",
       "      <td>1.0</td>\n",
       "      <td>1.0</td>\n",
       "      <td>62477.0</td>\n",
       "      <td>29.0</td>\n",
       "      <td>BUS</td>\n",
       "    </tr>\n",
       "    <tr>\n",
       "      <th>58</th>\n",
       "      <td>000OM3CXMpmd</td>\n",
       "      <td>1.0</td>\n",
       "      <td>1.0</td>\n",
       "      <td>62476.0</td>\n",
       "      <td>30.0</td>\n",
       "      <td>BUS</td>\n",
       "    </tr>\n",
       "    <tr>\n",
       "      <th>59</th>\n",
       "      <td>000OM3CXMpmd</td>\n",
       "      <td>1.0</td>\n",
       "      <td>1.0</td>\n",
       "      <td>63092.0</td>\n",
       "      <td>31.0</td>\n",
       "      <td>BUS</td>\n",
       "    </tr>\n",
       "    <tr>\n",
       "      <th>60</th>\n",
       "      <td>000OM3CXMpmd</td>\n",
       "      <td>1.0</td>\n",
       "      <td>1.0</td>\n",
       "      <td>63709.0</td>\n",
       "      <td>32.0</td>\n",
       "      <td>BUS</td>\n",
       "    </tr>\n",
       "    <tr>\n",
       "      <th>61</th>\n",
       "      <td>000OM3CXMpmd</td>\n",
       "      <td>1.0</td>\n",
       "      <td>1.0</td>\n",
       "      <td>63708.0</td>\n",
       "      <td>33.0</td>\n",
       "      <td>BUS</td>\n",
       "    </tr>\n",
       "  </tbody>\n",
       "</table>\n",
       "<p>62 rows × 6 columns</p>\n",
       "</div>"
      ],
      "text/plain": [
       "     temp_device  tripchain_id  leg_order  area_id  area_order mode\n",
       "0   000OM3CXMpmd           0.0        3.0  64989.0        12.0  BUS\n",
       "1   000OM3CXMpmd           0.0        3.0  64991.0        13.0  BUS\n",
       "2   000OM3CXMpmd           0.0        3.0  64299.0        14.0  BUS\n",
       "3   000OM3CXMpmd           0.0        3.0  63709.0        15.0  BUS\n",
       "4   000OM3CXMpmd           0.0        3.0  63092.0        16.0  BUS\n",
       "..           ...           ...        ...      ...         ...  ...\n",
       "57  000OM3CXMpmd           1.0        1.0  62477.0        29.0  BUS\n",
       "58  000OM3CXMpmd           1.0        1.0  62476.0        30.0  BUS\n",
       "59  000OM3CXMpmd           1.0        1.0  63092.0        31.0  BUS\n",
       "60  000OM3CXMpmd           1.0        1.0  63709.0        32.0  BUS\n",
       "61  000OM3CXMpmd           1.0        1.0  63708.0        33.0  BUS\n",
       "\n",
       "[62 rows x 6 columns]"
      ]
     },
     "execution_count": 90,
     "metadata": {},
     "output_type": "execute_result"
    }
   ],
   "source": [
    "test_df = group.get_group(\"000OM3CXMpmd\").reset_index(drop=True)\n",
    "test_df"
   ]
  },
  {
   "cell_type": "code",
   "execution_count": 96,
   "metadata": {},
   "outputs": [
    {
     "data": {
      "text/html": [
       "<div>\n",
       "<style scoped>\n",
       "    .dataframe tbody tr th:only-of-type {\n",
       "        vertical-align: middle;\n",
       "    }\n",
       "\n",
       "    .dataframe tbody tr th {\n",
       "        vertical-align: top;\n",
       "    }\n",
       "\n",
       "    .dataframe thead th {\n",
       "        text-align: right;\n",
       "    }\n",
       "</style>\n",
       "<table border=\"1\" class=\"dataframe\">\n",
       "  <thead>\n",
       "    <tr style=\"text-align: right;\">\n",
       "      <th></th>\n",
       "      <th>temp_device</th>\n",
       "      <th>tripchain_id</th>\n",
       "      <th>leg_order</th>\n",
       "      <th>area_id</th>\n",
       "      <th>area_order</th>\n",
       "      <th>mode</th>\n",
       "      <th>td_tc_lo</th>\n",
       "    </tr>\n",
       "  </thead>\n",
       "  <tbody>\n",
       "    <tr>\n",
       "      <th>0</th>\n",
       "      <td>000OM3CXMpmd</td>\n",
       "      <td>0.0</td>\n",
       "      <td>3.0</td>\n",
       "      <td>64989.0</td>\n",
       "      <td>12.0</td>\n",
       "      <td>BUS</td>\n",
       "      <td>000OM3CXMpmd_0.0_3.0</td>\n",
       "    </tr>\n",
       "    <tr>\n",
       "      <th>1</th>\n",
       "      <td>000OM3CXMpmd</td>\n",
       "      <td>0.0</td>\n",
       "      <td>3.0</td>\n",
       "      <td>64991.0</td>\n",
       "      <td>13.0</td>\n",
       "      <td>BUS</td>\n",
       "      <td>000OM3CXMpmd_0.0_3.0</td>\n",
       "    </tr>\n",
       "    <tr>\n",
       "      <th>2</th>\n",
       "      <td>000OM3CXMpmd</td>\n",
       "      <td>0.0</td>\n",
       "      <td>3.0</td>\n",
       "      <td>64299.0</td>\n",
       "      <td>14.0</td>\n",
       "      <td>BUS</td>\n",
       "      <td>000OM3CXMpmd_0.0_3.0</td>\n",
       "    </tr>\n",
       "    <tr>\n",
       "      <th>3</th>\n",
       "      <td>000OM3CXMpmd</td>\n",
       "      <td>0.0</td>\n",
       "      <td>3.0</td>\n",
       "      <td>63709.0</td>\n",
       "      <td>15.0</td>\n",
       "      <td>BUS</td>\n",
       "      <td>000OM3CXMpmd_0.0_3.0</td>\n",
       "    </tr>\n",
       "    <tr>\n",
       "      <th>4</th>\n",
       "      <td>000OM3CXMpmd</td>\n",
       "      <td>0.0</td>\n",
       "      <td>3.0</td>\n",
       "      <td>63092.0</td>\n",
       "      <td>16.0</td>\n",
       "      <td>BUS</td>\n",
       "      <td>000OM3CXMpmd_0.0_3.0</td>\n",
       "    </tr>\n",
       "    <tr>\n",
       "      <th>...</th>\n",
       "      <td>...</td>\n",
       "      <td>...</td>\n",
       "      <td>...</td>\n",
       "      <td>...</td>\n",
       "      <td>...</td>\n",
       "      <td>...</td>\n",
       "      <td>...</td>\n",
       "    </tr>\n",
       "    <tr>\n",
       "      <th>57</th>\n",
       "      <td>000OM3CXMpmd</td>\n",
       "      <td>1.0</td>\n",
       "      <td>1.0</td>\n",
       "      <td>62477.0</td>\n",
       "      <td>29.0</td>\n",
       "      <td>BUS</td>\n",
       "      <td>000OM3CXMpmd_1.0_1.0</td>\n",
       "    </tr>\n",
       "    <tr>\n",
       "      <th>58</th>\n",
       "      <td>000OM3CXMpmd</td>\n",
       "      <td>1.0</td>\n",
       "      <td>1.0</td>\n",
       "      <td>62476.0</td>\n",
       "      <td>30.0</td>\n",
       "      <td>BUS</td>\n",
       "      <td>000OM3CXMpmd_1.0_1.0</td>\n",
       "    </tr>\n",
       "    <tr>\n",
       "      <th>59</th>\n",
       "      <td>000OM3CXMpmd</td>\n",
       "      <td>1.0</td>\n",
       "      <td>1.0</td>\n",
       "      <td>63092.0</td>\n",
       "      <td>31.0</td>\n",
       "      <td>BUS</td>\n",
       "      <td>000OM3CXMpmd_1.0_1.0</td>\n",
       "    </tr>\n",
       "    <tr>\n",
       "      <th>60</th>\n",
       "      <td>000OM3CXMpmd</td>\n",
       "      <td>1.0</td>\n",
       "      <td>1.0</td>\n",
       "      <td>63709.0</td>\n",
       "      <td>32.0</td>\n",
       "      <td>BUS</td>\n",
       "      <td>000OM3CXMpmd_1.0_1.0</td>\n",
       "    </tr>\n",
       "    <tr>\n",
       "      <th>61</th>\n",
       "      <td>000OM3CXMpmd</td>\n",
       "      <td>1.0</td>\n",
       "      <td>1.0</td>\n",
       "      <td>63708.0</td>\n",
       "      <td>33.0</td>\n",
       "      <td>BUS</td>\n",
       "      <td>000OM3CXMpmd_1.0_1.0</td>\n",
       "    </tr>\n",
       "  </tbody>\n",
       "</table>\n",
       "<p>62 rows × 7 columns</p>\n",
       "</div>"
      ],
      "text/plain": [
       "     temp_device  tripchain_id  leg_order  area_id  area_order mode  \\\n",
       "0   000OM3CXMpmd           0.0        3.0  64989.0        12.0  BUS   \n",
       "1   000OM3CXMpmd           0.0        3.0  64991.0        13.0  BUS   \n",
       "2   000OM3CXMpmd           0.0        3.0  64299.0        14.0  BUS   \n",
       "3   000OM3CXMpmd           0.0        3.0  63709.0        15.0  BUS   \n",
       "4   000OM3CXMpmd           0.0        3.0  63092.0        16.0  BUS   \n",
       "..           ...           ...        ...      ...         ...  ...   \n",
       "57  000OM3CXMpmd           1.0        1.0  62477.0        29.0  BUS   \n",
       "58  000OM3CXMpmd           1.0        1.0  62476.0        30.0  BUS   \n",
       "59  000OM3CXMpmd           1.0        1.0  63092.0        31.0  BUS   \n",
       "60  000OM3CXMpmd           1.0        1.0  63709.0        32.0  BUS   \n",
       "61  000OM3CXMpmd           1.0        1.0  63708.0        33.0  BUS   \n",
       "\n",
       "                td_tc_lo  \n",
       "0   000OM3CXMpmd_0.0_3.0  \n",
       "1   000OM3CXMpmd_0.0_3.0  \n",
       "2   000OM3CXMpmd_0.0_3.0  \n",
       "3   000OM3CXMpmd_0.0_3.0  \n",
       "4   000OM3CXMpmd_0.0_3.0  \n",
       "..                   ...  \n",
       "57  000OM3CXMpmd_1.0_1.0  \n",
       "58  000OM3CXMpmd_1.0_1.0  \n",
       "59  000OM3CXMpmd_1.0_1.0  \n",
       "60  000OM3CXMpmd_1.0_1.0  \n",
       "61  000OM3CXMpmd_1.0_1.0  \n",
       "\n",
       "[62 rows x 7 columns]"
      ]
     },
     "execution_count": 96,
     "metadata": {},
     "output_type": "execute_result"
    }
   ],
   "source": [
    "test_df['td_tc_lo'] = test_df[\"temp_device\"]+\"_\"+ test_df[\"tripchain_id\"].astype(str)+\"_\"+test_df[\"leg_order\"].astype(str)\n",
    "test_df"
   ]
  },
  {
   "cell_type": "code",
   "execution_count": 85,
   "metadata": {},
   "outputs": [],
   "source": [
    "test_df =sorted_bus[sorted_bus.temp_device==\"000OM3CXMpmd\"].reset_index(inplace=True)\n",
    "test_df"
   ]
  },
  {
   "cell_type": "code",
   "execution_count": 86,
   "metadata": {},
   "outputs": [],
   "source": [
    "test_df"
   ]
  },
  {
   "cell_type": "code",
   "execution_count": null,
   "metadata": {},
   "outputs": [],
   "source": [
    "def identify_mode(z):\n",
    "    if not pd.isna(z['line_type']):\n",
    "        return z['line_type']\n",
    "    else:\n",
    "        return z['activity']"
   ]
  },
  {
   "cell_type": "markdown",
   "metadata": {
    "jp-MarkdownHeadingCollapsed": true
   },
   "source": [
    "## 获取输入数据"
   ]
  },
  {
   "cell_type": "markdown",
   "metadata": {
    "jp-MarkdownHeadingCollapsed": true
   },
   "source": [
    "### 试这个"
   ]
  },
  {
   "cell_type": "code",
   "execution_count": null,
   "metadata": {},
   "outputs": [
    {
     "name": "stderr",
     "output_type": "stream",
     "text": [
      "/tmp/ipykernel_3286701/3541719597.py:1: DtypeWarning: Columns (8) have mixed types. Specify dtype option on import or set low_memory=False.\n",
      "  df_tc_01 = pd.read_csv('/scratch/work/lyub2/Problem_output_September/P4/df_p41.csv', usecols= ['temp_device', 'tripchain_id', 'leg_order', 'activity', 'line_type', 'area_order', 'area_id'])\n"
     ]
    }
   ],
   "source": [
    "df_tc_01 = pd.read_csv('/scratch/work/lyub2/Problem_output_September/P4/df_p41.csv', usecols= ['temp_device', 'tripchain_id', 'leg_order', 'activity', 'line_type', 'area_order', 'area_id'])\n",
    "df_tc = df_tc_01.dropna(subset=['leg_order', 'activity', 'line_type'], how='all').reset_index(drop=True)"
   ]
  },
  {
   "cell_type": "code",
   "execution_count": null,
   "metadata": {},
   "outputs": [],
   "source": [
    "df = pd.read_csv('/scratch/work/lyub2/Problem_output_September/P4/df_p41.csv', usecols= ['temp_device', 'tripchain_id', 'leg_order', 'activity', 'line_type', 'area_order', 'area_id'])\n",
    "df_tc_02 = df_tc_02.dropna(subset=['leg_order', 'activity', 'line_type'], how='all').reset_index(drop=True)"
   ]
  },
  {
   "cell_type": "code",
   "execution_count": null,
   "metadata": {},
   "outputs": [],
   "source": [
    "def identify_mode(z):\n",
    "    if not pd.isna(z['line_type']):\n",
    "        return z['line_type']\n",
    "    else:\n",
    "        return z['activity']\n",
    "        \n",
    "df_tc['mode'] = df_tc.apply(identify_mode, axis=1)"
   ]
  },
  {
   "cell_type": "code",
   "execution_count": null,
   "metadata": {},
   "outputs": [],
   "source": [
    "df_walking = df_tc_01[df_tc_01['activity'] == 'WALKING']"
   ]
  },
  {
   "cell_type": "code",
   "execution_count": null,
   "metadata": {},
   "outputs": [
    {
     "data": {
      "text/html": [
       "<div>\n",
       "<style scoped>\n",
       "    .dataframe tbody tr th:only-of-type {\n",
       "        vertical-align: middle;\n",
       "    }\n",
       "\n",
       "    .dataframe tbody tr th {\n",
       "        vertical-align: top;\n",
       "    }\n",
       "\n",
       "    .dataframe thead th {\n",
       "        text-align: right;\n",
       "    }\n",
       "</style>\n",
       "<table border=\"1\" class=\"dataframe\">\n",
       "  <thead>\n",
       "    <tr style=\"text-align: right;\">\n",
       "      <th></th>\n",
       "      <th>temp_device</th>\n",
       "      <th>tripchain_id</th>\n",
       "      <th>leg_order</th>\n",
       "      <th>area_id</th>\n",
       "      <th>area_order</th>\n",
       "      <th>activity</th>\n",
       "      <th>line_type</th>\n",
       "    </tr>\n",
       "  </thead>\n",
       "  <tbody>\n",
       "    <tr>\n",
       "      <th>111</th>\n",
       "      <td>jelLoknH162b</td>\n",
       "      <td>0.0</td>\n",
       "      <td>1.0</td>\n",
       "      <td>56789.0</td>\n",
       "      <td>2.0</td>\n",
       "      <td>WALKING</td>\n",
       "      <td>NaN</td>\n",
       "    </tr>\n",
       "    <tr>\n",
       "      <th>112</th>\n",
       "      <td>jelLoknH162b</td>\n",
       "      <td>0.0</td>\n",
       "      <td>1.0</td>\n",
       "      <td>56788.0</td>\n",
       "      <td>3.0</td>\n",
       "      <td>WALKING</td>\n",
       "      <td>NaN</td>\n",
       "    </tr>\n",
       "    <tr>\n",
       "      <th>123</th>\n",
       "      <td>yIKqMeFibPXa</td>\n",
       "      <td>0.0</td>\n",
       "      <td>0.0</td>\n",
       "      <td>58100.0</td>\n",
       "      <td>0.0</td>\n",
       "      <td>WALKING</td>\n",
       "      <td>NaN</td>\n",
       "    </tr>\n",
       "    <tr>\n",
       "      <th>124</th>\n",
       "      <td>yIKqMeFibPXa</td>\n",
       "      <td>0.0</td>\n",
       "      <td>0.0</td>\n",
       "      <td>63707.0</td>\n",
       "      <td>1.0</td>\n",
       "      <td>WALKING</td>\n",
       "      <td>NaN</td>\n",
       "    </tr>\n",
       "    <tr>\n",
       "      <th>126</th>\n",
       "      <td>GFeSeZhojxwm</td>\n",
       "      <td>0.0</td>\n",
       "      <td>0.0</td>\n",
       "      <td>65824.0</td>\n",
       "      <td>1.0</td>\n",
       "      <td>WALKING</td>\n",
       "      <td>NaN</td>\n",
       "    </tr>\n",
       "    <tr>\n",
       "      <th>...</th>\n",
       "      <td>...</td>\n",
       "      <td>...</td>\n",
       "      <td>...</td>\n",
       "      <td>...</td>\n",
       "      <td>...</td>\n",
       "      <td>...</td>\n",
       "      <td>...</td>\n",
       "    </tr>\n",
       "    <tr>\n",
       "      <th>32772884</th>\n",
       "      <td>V8h4G6Gc7Ski</td>\n",
       "      <td>0.0</td>\n",
       "      <td>0.0</td>\n",
       "      <td>34017.0</td>\n",
       "      <td>40.0</td>\n",
       "      <td>WALKING</td>\n",
       "      <td>NaN</td>\n",
       "    </tr>\n",
       "    <tr>\n",
       "      <th>32773014</th>\n",
       "      <td>uKNIxzkZWsPN</td>\n",
       "      <td>0.0</td>\n",
       "      <td>0.0</td>\n",
       "      <td>52425.0</td>\n",
       "      <td>0.0</td>\n",
       "      <td>WALKING</td>\n",
       "      <td>NaN</td>\n",
       "    </tr>\n",
       "    <tr>\n",
       "      <th>32773015</th>\n",
       "      <td>uKNIxzkZWsPN</td>\n",
       "      <td>0.0</td>\n",
       "      <td>0.0</td>\n",
       "      <td>50488.0</td>\n",
       "      <td>1.0</td>\n",
       "      <td>WALKING</td>\n",
       "      <td>NaN</td>\n",
       "    </tr>\n",
       "    <tr>\n",
       "      <th>32773309</th>\n",
       "      <td>ecKVb5tmuCTJ</td>\n",
       "      <td>0.0</td>\n",
       "      <td>1.0</td>\n",
       "      <td>48517.0</td>\n",
       "      <td>28.0</td>\n",
       "      <td>WALKING</td>\n",
       "      <td>NaN</td>\n",
       "    </tr>\n",
       "    <tr>\n",
       "      <th>32773310</th>\n",
       "      <td>ecKVb5tmuCTJ</td>\n",
       "      <td>0.0</td>\n",
       "      <td>1.0</td>\n",
       "      <td>49163.0</td>\n",
       "      <td>29.0</td>\n",
       "      <td>WALKING</td>\n",
       "      <td>NaN</td>\n",
       "    </tr>\n",
       "  </tbody>\n",
       "</table>\n",
       "<p>4302813 rows × 7 columns</p>\n",
       "</div>"
      ],
      "text/plain": [
       "           temp_device  tripchain_id  leg_order  area_id  area_order activity  \\\n",
       "111       jelLoknH162b           0.0        1.0  56789.0         2.0  WALKING   \n",
       "112       jelLoknH162b           0.0        1.0  56788.0         3.0  WALKING   \n",
       "123       yIKqMeFibPXa           0.0        0.0  58100.0         0.0  WALKING   \n",
       "124       yIKqMeFibPXa           0.0        0.0  63707.0         1.0  WALKING   \n",
       "126       GFeSeZhojxwm           0.0        0.0  65824.0         1.0  WALKING   \n",
       "...                ...           ...        ...      ...         ...      ...   \n",
       "32772884  V8h4G6Gc7Ski           0.0        0.0  34017.0        40.0  WALKING   \n",
       "32773014  uKNIxzkZWsPN           0.0        0.0  52425.0         0.0  WALKING   \n",
       "32773015  uKNIxzkZWsPN           0.0        0.0  50488.0         1.0  WALKING   \n",
       "32773309  ecKVb5tmuCTJ           0.0        1.0  48517.0        28.0  WALKING   \n",
       "32773310  ecKVb5tmuCTJ           0.0        1.0  49163.0        29.0  WALKING   \n",
       "\n",
       "         line_type  \n",
       "111            NaN  \n",
       "112            NaN  \n",
       "123            NaN  \n",
       "124            NaN  \n",
       "126            NaN  \n",
       "...            ...  \n",
       "32772884       NaN  \n",
       "32773014       NaN  \n",
       "32773015       NaN  \n",
       "32773309       NaN  \n",
       "32773310       NaN  \n",
       "\n",
       "[4302813 rows x 7 columns]"
      ]
     },
     "execution_count": 15,
     "metadata": {},
     "output_type": "execute_result"
    }
   ],
   "source": [
    "df_walking"
   ]
  },
  {
   "cell_type": "code",
   "execution_count": null,
   "metadata": {},
   "outputs": [],
   "source": [
    "#df_tc_test = df_tc.head(200000)"
   ]
  },
  {
   "cell_type": "code",
   "execution_count": null,
   "metadata": {},
   "outputs": [
    {
     "name": "stdout",
     "output_type": "stream",
     "text": [
      "/scratch/work/lyub2/Problem_output_September/df_p41.csv\n",
      "/scratch/work/lyub2/Problem_output_September/df_p42.csv\n",
      "/scratch/work/lyub2/Problem_output_September/df_p43.csv\n",
      "/scratch/work/lyub2/Problem_output_September/df_p44.csv\n",
      "/scratch/work/lyub2/Problem_output_September/df_p45.csv\n",
      "/scratch/work/lyub2/Problem_output_September/df_p46.csv\n",
      "['df_p41.csv', 'df_p42.csv', 'df_p43.csv', 'df_p44.csv', 'df_p45.csv', 'df_p46.csv']\n"
     ]
    }
   ],
   "source": [
    "folder_path = '/scratch/work/lyub2/Problem_output_September'\n",
    "file_names = [f'df_p{i}.csv' for i in range(41, 47)]\n",
    "\n",
    "filtered_dfs = []\n",
    "\n",
    "for file_name in file_names:\n",
    "    file_path = os.path.join(folder_path, file_name)\n",
    "    print(file_path)\n",
    "\n",
    "print(file_names)"
   ]
  },
  {
   "cell_type": "markdown",
   "metadata": {},
   "source": [
    "### 非公共交通的"
   ]
  },
  {
   "cell_type": "code",
   "execution_count": null,
   "metadata": {},
   "outputs": [
    {
     "data": {
      "application/vnd.jupyter.widget-view+json": {
       "model_id": "19149eb05b2e419891ec42b5a9f62efd",
       "version_major": 2,
       "version_minor": 0
      },
      "text/plain": [
       "  0%|          | 0/6 [00:00<?, ?it/s]"
      ]
     },
     "metadata": {},
     "output_type": "display_data"
    },
    {
     "name": "stderr",
     "output_type": "stream",
     "text": [
      "/tmp/ipykernel_517226/2379088468.py:9: DtypeWarning: Columns (8) have mixed types. Specify dtype option on import or set low_memory=False.\n",
      "  df = pd.read_csv(file_path, usecols= ['temp_device', 'tripchain_id', 'leg_order', 'activity', 'line_type', 'area_order', 'area_id'])\n",
      "/tmp/ipykernel_517226/2379088468.py:9: DtypeWarning: Columns (8) have mixed types. Specify dtype option on import or set low_memory=False.\n",
      "  df = pd.read_csv(file_path, usecols= ['temp_device', 'tripchain_id', 'leg_order', 'activity', 'line_type', 'area_order', 'area_id'])\n"
     ]
    },
    {
     "name": "stdout",
     "output_type": "stream",
     "text": [
      "start saving file~\n",
      "DONE!\n"
     ]
    }
   ],
   "source": [
    "\n",
    "folder_path = '/scratch/work/lyub2/Problem_output_September/P4'\n",
    "file_names = [f'df_p{i}.csv' for i in range(41, 47)]\n",
    "\n",
    "filtered_dfs = []\n",
    "\n",
    "for file_name in tqdm(file_names):\n",
    "    file_path = os.path.join(folder_path, file_name)\n",
    "    \n",
    "    df = pd.read_csv(file_path, usecols= ['temp_device', 'tripchain_id', 'leg_order', 'activity', 'line_type', 'area_order', 'area_id'])\n",
    "    df = df.dropna(subset=['leg_order', 'activity'], how='any').reset_index(drop=True)\n",
    "        \n",
    "    df_filtered = df[df['activity'].notnull() & df['line_type'].isnull()]\n",
    "    filtered_dfs.append(df_filtered)\n",
    "\n",
    "df_nonPT = pd.concat(filtered_dfs, ignore_index=True)\n",
    "df_nonPT = df_nonPT.drop(columns=['line_type'])\n",
    "df_nonPT.rename(columns={'activity': 'mode'}, inplace=True)\n",
    "\n",
    "print('start saving file~')\n",
    "df_nonPT.to_csv('/scratch/work/lyub2/Problem_output_September/P4/df_nonPT.csv', index=False)\n",
    "print('DONE!')"
   ]
  },
  {
   "cell_type": "code",
   "execution_count": null,
   "metadata": {
    "scrolled": true
   },
   "outputs": [
    {
     "data": {
      "text/html": [
       "<div>\n",
       "<style scoped>\n",
       "    .dataframe tbody tr th:only-of-type {\n",
       "        vertical-align: middle;\n",
       "    }\n",
       "\n",
       "    .dataframe tbody tr th {\n",
       "        vertical-align: top;\n",
       "    }\n",
       "\n",
       "    .dataframe thead th {\n",
       "        text-align: right;\n",
       "    }\n",
       "</style>\n",
       "<table border=\"1\" class=\"dataframe\">\n",
       "  <thead>\n",
       "    <tr style=\"text-align: right;\">\n",
       "      <th></th>\n",
       "      <th>temp_device</th>\n",
       "      <th>tripchain_id</th>\n",
       "      <th>leg_order</th>\n",
       "      <th>area_id</th>\n",
       "      <th>area_order</th>\n",
       "      <th>mode</th>\n",
       "    </tr>\n",
       "  </thead>\n",
       "  <tbody>\n",
       "    <tr>\n",
       "      <th>0</th>\n",
       "      <td>jelLoknH162b</td>\n",
       "      <td>0.0</td>\n",
       "      <td>0.0</td>\n",
       "      <td>56792.0</td>\n",
       "      <td>0.0</td>\n",
       "      <td>IN_VEHICLE</td>\n",
       "    </tr>\n",
       "    <tr>\n",
       "      <th>1</th>\n",
       "      <td>jelLoknH162b</td>\n",
       "      <td>0.0</td>\n",
       "      <td>0.0</td>\n",
       "      <td>56791.0</td>\n",
       "      <td>1.0</td>\n",
       "      <td>IN_VEHICLE</td>\n",
       "    </tr>\n",
       "    <tr>\n",
       "      <th>2</th>\n",
       "      <td>jelLoknH162b</td>\n",
       "      <td>0.0</td>\n",
       "      <td>1.0</td>\n",
       "      <td>56789.0</td>\n",
       "      <td>2.0</td>\n",
       "      <td>WALKING</td>\n",
       "    </tr>\n",
       "    <tr>\n",
       "      <th>3</th>\n",
       "      <td>jelLoknH162b</td>\n",
       "      <td>0.0</td>\n",
       "      <td>1.0</td>\n",
       "      <td>56788.0</td>\n",
       "      <td>3.0</td>\n",
       "      <td>WALKING</td>\n",
       "    </tr>\n",
       "    <tr>\n",
       "      <th>4</th>\n",
       "      <td>jelLoknH162b</td>\n",
       "      <td>1.0</td>\n",
       "      <td>0.0</td>\n",
       "      <td>64989.0</td>\n",
       "      <td>0.0</td>\n",
       "      <td>IN_VEHICLE</td>\n",
       "    </tr>\n",
       "    <tr>\n",
       "      <th>...</th>\n",
       "      <td>...</td>\n",
       "      <td>...</td>\n",
       "      <td>...</td>\n",
       "      <td>...</td>\n",
       "      <td>...</td>\n",
       "      <td>...</td>\n",
       "    </tr>\n",
       "    <tr>\n",
       "      <th>78209284</th>\n",
       "      <td>PsVhPwUuuBI4</td>\n",
       "      <td>0.0</td>\n",
       "      <td>0.0</td>\n",
       "      <td>27558.0</td>\n",
       "      <td>16.0</td>\n",
       "      <td>WALKING</td>\n",
       "    </tr>\n",
       "    <tr>\n",
       "      <th>78209285</th>\n",
       "      <td>PsVhPwUuuBI4</td>\n",
       "      <td>0.0</td>\n",
       "      <td>1.0</td>\n",
       "      <td>27558.0</td>\n",
       "      <td>16.0</td>\n",
       "      <td>WALKING</td>\n",
       "    </tr>\n",
       "    <tr>\n",
       "      <th>78209286</th>\n",
       "      <td>w15wDe1fb2sI</td>\n",
       "      <td>0.0</td>\n",
       "      <td>3.0</td>\n",
       "      <td>70001.0</td>\n",
       "      <td>3.0</td>\n",
       "      <td>WALKING</td>\n",
       "    </tr>\n",
       "    <tr>\n",
       "      <th>78209287</th>\n",
       "      <td>FfPUD6vxsNrN</td>\n",
       "      <td>0.0</td>\n",
       "      <td>0.0</td>\n",
       "      <td>54049.0</td>\n",
       "      <td>2.0</td>\n",
       "      <td>WALKING</td>\n",
       "    </tr>\n",
       "    <tr>\n",
       "      <th>78209288</th>\n",
       "      <td>FfPUD6vxsNrN</td>\n",
       "      <td>0.0</td>\n",
       "      <td>0.0</td>\n",
       "      <td>54048.0</td>\n",
       "      <td>3.0</td>\n",
       "      <td>WALKING</td>\n",
       "    </tr>\n",
       "  </tbody>\n",
       "</table>\n",
       "<p>78209289 rows × 6 columns</p>\n",
       "</div>"
      ],
      "text/plain": [
       "           temp_device  tripchain_id  leg_order  area_id  area_order  \\\n",
       "0         jelLoknH162b           0.0        0.0  56792.0         0.0   \n",
       "1         jelLoknH162b           0.0        0.0  56791.0         1.0   \n",
       "2         jelLoknH162b           0.0        1.0  56789.0         2.0   \n",
       "3         jelLoknH162b           0.0        1.0  56788.0         3.0   \n",
       "4         jelLoknH162b           1.0        0.0  64989.0         0.0   \n",
       "...                ...           ...        ...      ...         ...   \n",
       "78209284  PsVhPwUuuBI4           0.0        0.0  27558.0        16.0   \n",
       "78209285  PsVhPwUuuBI4           0.0        1.0  27558.0        16.0   \n",
       "78209286  w15wDe1fb2sI           0.0        3.0  70001.0         3.0   \n",
       "78209287  FfPUD6vxsNrN           0.0        0.0  54049.0         2.0   \n",
       "78209288  FfPUD6vxsNrN           0.0        0.0  54048.0         3.0   \n",
       "\n",
       "                mode  \n",
       "0         IN_VEHICLE  \n",
       "1         IN_VEHICLE  \n",
       "2            WALKING  \n",
       "3            WALKING  \n",
       "4         IN_VEHICLE  \n",
       "...              ...  \n",
       "78209284     WALKING  \n",
       "78209285     WALKING  \n",
       "78209286     WALKING  \n",
       "78209287     WALKING  \n",
       "78209288     WALKING  \n",
       "\n",
       "[78209289 rows x 6 columns]"
      ]
     },
     "execution_count": 9,
     "metadata": {},
     "output_type": "execute_result"
    }
   ],
   "source": [
    "df_nonPT"
   ]
  },
  {
   "cell_type": "markdown",
   "metadata": {},
   "source": [
    "### 公共交通的"
   ]
  },
  {
   "cell_type": "code",
   "execution_count": null,
   "metadata": {
    "scrolled": true
   },
   "outputs": [
    {
     "data": {
      "application/vnd.jupyter.widget-view+json": {
       "model_id": "8e9ab26116f44bb786c1a8c1879c5707",
       "version_major": 2,
       "version_minor": 0
      },
      "text/plain": [
       "  0%|          | 0/6 [00:00<?, ?it/s]"
      ]
     },
     "metadata": {},
     "output_type": "display_data"
    },
    {
     "name": "stderr",
     "output_type": "stream",
     "text": [
      "/tmp/ipykernel_517226/1244946812.py:9: DtypeWarning: Columns (8) have mixed types. Specify dtype option on import or set low_memory=False.\n",
      "  df = pd.read_csv(file_path, usecols= ['temp_device', 'tripchain_id', 'leg_order', 'line_type', 'area_order', 'area_id'])\n",
      "/tmp/ipykernel_517226/1244946812.py:9: DtypeWarning: Columns (8) have mixed types. Specify dtype option on import or set low_memory=False.\n",
      "  df = pd.read_csv(file_path, usecols= ['temp_device', 'tripchain_id', 'leg_order', 'line_type', 'area_order', 'area_id'])\n"
     ]
    },
    {
     "name": "stdout",
     "output_type": "stream",
     "text": [
      "start saving file~\n",
      "DONE!\n"
     ]
    }
   ],
   "source": [
    "folder_path = '/scratch/work/lyub2/Problem_output_September/P4'\n",
    "file_names = [f'df_p{i}.csv' for i in range(41, 47)]\n",
    "\n",
    "filtered_dfs = []\n",
    "\n",
    "for file_name in tqdm(file_names):\n",
    "    file_path = os.path.join(folder_path, file_name)\n",
    "    \n",
    "    df = pd.read_csv(file_path, usecols= ['temp_device', 'tripchain_id', 'leg_order', 'line_type', 'area_order', 'area_id'])\n",
    "    df = df.dropna(subset=['leg_order', 'line_type'], how='any').reset_index(drop=True)\n",
    "    filtered_dfs.append(df)\n",
    "\n",
    "df_PT = pd.concat(filtered_dfs, ignore_index=True)\n",
    "df_PT.rename(columns={'line_type': 'mode'}, inplace=True)\n",
    "\n",
    "print('start saving file~')\n",
    "df_PT.to_csv('/scratch/work/lyub2/Problem_output_September/P4/df_PT.csv', index=False)\n",
    "print('DONE!')"
   ]
  },
  {
   "cell_type": "code",
   "execution_count": null,
   "metadata": {},
   "outputs": [
    {
     "data": {
      "text/html": [
       "<div>\n",
       "<style scoped>\n",
       "    .dataframe tbody tr th:only-of-type {\n",
       "        vertical-align: middle;\n",
       "    }\n",
       "\n",
       "    .dataframe tbody tr th {\n",
       "        vertical-align: top;\n",
       "    }\n",
       "\n",
       "    .dataframe thead th {\n",
       "        text-align: right;\n",
       "    }\n",
       "</style>\n",
       "<table border=\"1\" class=\"dataframe\">\n",
       "  <thead>\n",
       "    <tr style=\"text-align: right;\">\n",
       "      <th></th>\n",
       "      <th>temp_device</th>\n",
       "      <th>tripchain_id</th>\n",
       "      <th>leg_order</th>\n",
       "      <th>area_id</th>\n",
       "      <th>area_order</th>\n",
       "      <th>mode</th>\n",
       "    </tr>\n",
       "  </thead>\n",
       "  <tbody>\n",
       "    <tr>\n",
       "      <th>0</th>\n",
       "      <td>mLBH9BYePp6u</td>\n",
       "      <td>0.0</td>\n",
       "      <td>3.0</td>\n",
       "      <td>34709.0</td>\n",
       "      <td>76.0</td>\n",
       "      <td>BUS</td>\n",
       "    </tr>\n",
       "    <tr>\n",
       "      <th>1</th>\n",
       "      <td>mLBH9BYePp6u</td>\n",
       "      <td>0.0</td>\n",
       "      <td>3.0</td>\n",
       "      <td>34709.0</td>\n",
       "      <td>76.0</td>\n",
       "      <td>BUS</td>\n",
       "    </tr>\n",
       "    <tr>\n",
       "      <th>2</th>\n",
       "      <td>mLBH9BYePp6u</td>\n",
       "      <td>0.0</td>\n",
       "      <td>3.0</td>\n",
       "      <td>30375.0</td>\n",
       "      <td>87.0</td>\n",
       "      <td>BUS</td>\n",
       "    </tr>\n",
       "    <tr>\n",
       "      <th>3</th>\n",
       "      <td>mLBH9BYePp6u</td>\n",
       "      <td>0.0</td>\n",
       "      <td>3.0</td>\n",
       "      <td>30375.0</td>\n",
       "      <td>87.0</td>\n",
       "      <td>BUS</td>\n",
       "    </tr>\n",
       "    <tr>\n",
       "      <th>4</th>\n",
       "      <td>mLBH9BYePp6u</td>\n",
       "      <td>0.0</td>\n",
       "      <td>3.0</td>\n",
       "      <td>29017.0</td>\n",
       "      <td>92.0</td>\n",
       "      <td>BUS</td>\n",
       "    </tr>\n",
       "    <tr>\n",
       "      <th>...</th>\n",
       "      <td>...</td>\n",
       "      <td>...</td>\n",
       "      <td>...</td>\n",
       "      <td>...</td>\n",
       "      <td>...</td>\n",
       "      <td>...</td>\n",
       "    </tr>\n",
       "    <tr>\n",
       "      <th>56098619</th>\n",
       "      <td>ciJcewM0mr8V</td>\n",
       "      <td>1.0</td>\n",
       "      <td>0.0</td>\n",
       "      <td>63092.0</td>\n",
       "      <td>4.0</td>\n",
       "      <td>BUS</td>\n",
       "    </tr>\n",
       "    <tr>\n",
       "      <th>56098620</th>\n",
       "      <td>r5qosTdRWpF3</td>\n",
       "      <td>2.0</td>\n",
       "      <td>1.0</td>\n",
       "      <td>55661.0</td>\n",
       "      <td>36.0</td>\n",
       "      <td>BUS</td>\n",
       "    </tr>\n",
       "    <tr>\n",
       "      <th>56098621</th>\n",
       "      <td>G6IvMSV94Zi6</td>\n",
       "      <td>0.0</td>\n",
       "      <td>1.0</td>\n",
       "      <td>53509.0</td>\n",
       "      <td>11.0</td>\n",
       "      <td>BUS</td>\n",
       "    </tr>\n",
       "    <tr>\n",
       "      <th>56098622</th>\n",
       "      <td>UjVdCou5qOMZ</td>\n",
       "      <td>1.0</td>\n",
       "      <td>1.0</td>\n",
       "      <td>67621.0</td>\n",
       "      <td>18.0</td>\n",
       "      <td>BUS</td>\n",
       "    </tr>\n",
       "    <tr>\n",
       "      <th>56098623</th>\n",
       "      <td>UjVdCou5qOMZ</td>\n",
       "      <td>1.0</td>\n",
       "      <td>1.0</td>\n",
       "      <td>67621.0</td>\n",
       "      <td>18.0</td>\n",
       "      <td>BUS</td>\n",
       "    </tr>\n",
       "  </tbody>\n",
       "</table>\n",
       "<p>56098624 rows × 6 columns</p>\n",
       "</div>"
      ],
      "text/plain": [
       "           temp_device  tripchain_id  leg_order  area_id  area_order mode\n",
       "0         mLBH9BYePp6u           0.0        3.0  34709.0        76.0  BUS\n",
       "1         mLBH9BYePp6u           0.0        3.0  34709.0        76.0  BUS\n",
       "2         mLBH9BYePp6u           0.0        3.0  30375.0        87.0  BUS\n",
       "3         mLBH9BYePp6u           0.0        3.0  30375.0        87.0  BUS\n",
       "4         mLBH9BYePp6u           0.0        3.0  29017.0        92.0  BUS\n",
       "...                ...           ...        ...      ...         ...  ...\n",
       "56098619  ciJcewM0mr8V           1.0        0.0  63092.0         4.0  BUS\n",
       "56098620  r5qosTdRWpF3           2.0        1.0  55661.0        36.0  BUS\n",
       "56098621  G6IvMSV94Zi6           0.0        1.0  53509.0        11.0  BUS\n",
       "56098622  UjVdCou5qOMZ           1.0        1.0  67621.0        18.0  BUS\n",
       "56098623  UjVdCou5qOMZ           1.0        1.0  67621.0        18.0  BUS\n",
       "\n",
       "[56098624 rows x 6 columns]"
      ]
     },
     "execution_count": 20,
     "metadata": {},
     "output_type": "execute_result"
    }
   ],
   "source": [
    "df_PT"
   ]
  },
  {
   "cell_type": "code",
   "execution_count": null,
   "metadata": {},
   "outputs": [],
   "source": [
    "df_p4.to_csv('/scratch/work/lyub2/Problem_output_September/P4/df_p4.csv', index=False)"
   ]
  },
  {
   "cell_type": "markdown",
   "metadata": {},
   "source": [
    "## 终于可以跑功能了！"
   ]
  },
  {
   "cell_type": "code",
   "execution_count": 6,
   "metadata": {},
   "outputs": [],
   "source": [
    "df_PT = pd.read_csv('/scratch/work/lyub2/Problem_output_September/P4/df_PT.csv')"
   ]
  },
  {
   "cell_type": "code",
   "execution_count": 6,
   "metadata": {},
   "outputs": [],
   "source": [
    "df_nonPT = pd.read_csv('/scratch/work/lyub2/Problem_output_September/P4/df_nonPT.csv')"
   ]
  },
  {
   "cell_type": "code",
   "execution_count": 9,
   "metadata": {},
   "outputs": [
    {
     "name": "stdout",
     "output_type": "stream",
     "text": [
      "['BUS' 'TRAIN' 'SUBWAY' 'TRAM' 'UBUS' 'FERRY']\n",
      "['IN_VEHICLE' 'WALKING' 'RUNNING' 'UNKNOWN' 'ON_BICYCLE' 'BEACON']\n"
     ]
    }
   ],
   "source": [
    "print(df_PT['mode'].unique())\n",
    "print(df_nonPT['mode'].unique())"
   ]
  },
  {
   "cell_type": "code",
   "execution_count": 8,
   "metadata": {},
   "outputs": [
    {
     "data": {
      "text/html": [
       "<div>\n",
       "<style scoped>\n",
       "    .dataframe tbody tr th:only-of-type {\n",
       "        vertical-align: middle;\n",
       "    }\n",
       "\n",
       "    .dataframe tbody tr th {\n",
       "        vertical-align: top;\n",
       "    }\n",
       "\n",
       "    .dataframe thead th {\n",
       "        text-align: right;\n",
       "    }\n",
       "</style>\n",
       "<table border=\"1\" class=\"dataframe\">\n",
       "  <thead>\n",
       "    <tr style=\"text-align: right;\">\n",
       "      <th></th>\n",
       "      <th>temp_device</th>\n",
       "      <th>tripchain_id</th>\n",
       "      <th>leg_order</th>\n",
       "      <th>area_id</th>\n",
       "      <th>area_order</th>\n",
       "      <th>mode</th>\n",
       "    </tr>\n",
       "  </thead>\n",
       "  <tbody>\n",
       "    <tr>\n",
       "      <th>0</th>\n",
       "      <td>mLBH9BYePp6u</td>\n",
       "      <td>0.0</td>\n",
       "      <td>3.0</td>\n",
       "      <td>34709.0</td>\n",
       "      <td>76.0</td>\n",
       "      <td>BUS</td>\n",
       "    </tr>\n",
       "    <tr>\n",
       "      <th>1</th>\n",
       "      <td>mLBH9BYePp6u</td>\n",
       "      <td>0.0</td>\n",
       "      <td>3.0</td>\n",
       "      <td>34709.0</td>\n",
       "      <td>76.0</td>\n",
       "      <td>BUS</td>\n",
       "    </tr>\n",
       "    <tr>\n",
       "      <th>2</th>\n",
       "      <td>mLBH9BYePp6u</td>\n",
       "      <td>0.0</td>\n",
       "      <td>3.0</td>\n",
       "      <td>30375.0</td>\n",
       "      <td>87.0</td>\n",
       "      <td>BUS</td>\n",
       "    </tr>\n",
       "    <tr>\n",
       "      <th>3</th>\n",
       "      <td>mLBH9BYePp6u</td>\n",
       "      <td>0.0</td>\n",
       "      <td>3.0</td>\n",
       "      <td>30375.0</td>\n",
       "      <td>87.0</td>\n",
       "      <td>BUS</td>\n",
       "    </tr>\n",
       "    <tr>\n",
       "      <th>4</th>\n",
       "      <td>mLBH9BYePp6u</td>\n",
       "      <td>0.0</td>\n",
       "      <td>3.0</td>\n",
       "      <td>29017.0</td>\n",
       "      <td>92.0</td>\n",
       "      <td>BUS</td>\n",
       "    </tr>\n",
       "    <tr>\n",
       "      <th>...</th>\n",
       "      <td>...</td>\n",
       "      <td>...</td>\n",
       "      <td>...</td>\n",
       "      <td>...</td>\n",
       "      <td>...</td>\n",
       "      <td>...</td>\n",
       "    </tr>\n",
       "    <tr>\n",
       "      <th>56098619</th>\n",
       "      <td>ciJcewM0mr8V</td>\n",
       "      <td>1.0</td>\n",
       "      <td>0.0</td>\n",
       "      <td>63092.0</td>\n",
       "      <td>4.0</td>\n",
       "      <td>BUS</td>\n",
       "    </tr>\n",
       "    <tr>\n",
       "      <th>56098620</th>\n",
       "      <td>r5qosTdRWpF3</td>\n",
       "      <td>2.0</td>\n",
       "      <td>1.0</td>\n",
       "      <td>55661.0</td>\n",
       "      <td>36.0</td>\n",
       "      <td>BUS</td>\n",
       "    </tr>\n",
       "    <tr>\n",
       "      <th>56098621</th>\n",
       "      <td>G6IvMSV94Zi6</td>\n",
       "      <td>0.0</td>\n",
       "      <td>1.0</td>\n",
       "      <td>53509.0</td>\n",
       "      <td>11.0</td>\n",
       "      <td>BUS</td>\n",
       "    </tr>\n",
       "    <tr>\n",
       "      <th>56098622</th>\n",
       "      <td>UjVdCou5qOMZ</td>\n",
       "      <td>1.0</td>\n",
       "      <td>1.0</td>\n",
       "      <td>67621.0</td>\n",
       "      <td>18.0</td>\n",
       "      <td>BUS</td>\n",
       "    </tr>\n",
       "    <tr>\n",
       "      <th>56098623</th>\n",
       "      <td>UjVdCou5qOMZ</td>\n",
       "      <td>1.0</td>\n",
       "      <td>1.0</td>\n",
       "      <td>67621.0</td>\n",
       "      <td>18.0</td>\n",
       "      <td>BUS</td>\n",
       "    </tr>\n",
       "  </tbody>\n",
       "</table>\n",
       "<p>35023243 rows × 6 columns</p>\n",
       "</div>"
      ],
      "text/plain": [
       "           temp_device  tripchain_id  leg_order  area_id  area_order mode\n",
       "0         mLBH9BYePp6u           0.0        3.0  34709.0        76.0  BUS\n",
       "1         mLBH9BYePp6u           0.0        3.0  34709.0        76.0  BUS\n",
       "2         mLBH9BYePp6u           0.0        3.0  30375.0        87.0  BUS\n",
       "3         mLBH9BYePp6u           0.0        3.0  30375.0        87.0  BUS\n",
       "4         mLBH9BYePp6u           0.0        3.0  29017.0        92.0  BUS\n",
       "...                ...           ...        ...      ...         ...  ...\n",
       "56098619  ciJcewM0mr8V           1.0        0.0  63092.0         4.0  BUS\n",
       "56098620  r5qosTdRWpF3           2.0        1.0  55661.0        36.0  BUS\n",
       "56098621  G6IvMSV94Zi6           0.0        1.0  53509.0        11.0  BUS\n",
       "56098622  UjVdCou5qOMZ           1.0        1.0  67621.0        18.0  BUS\n",
       "56098623  UjVdCou5qOMZ           1.0        1.0  67621.0        18.0  BUS\n",
       "\n",
       "[35023243 rows x 6 columns]"
      ]
     },
     "execution_count": 8,
     "metadata": {},
     "output_type": "execute_result"
    }
   ],
   "source": [
    "df_bus"
   ]
  },
  {
   "cell_type": "code",
   "execution_count": 15,
   "metadata": {},
   "outputs": [],
   "source": [
    "#大宝贝！终于出来了！\n",
    "\n",
    "def get_change_indices(df):\n",
    "    # Identify where the 'id' changes\n",
    "    df['td_tc_lo'] = df[\"temp_device\"]+\"_\"+ df[\"tripchain_id\"].astype(str)+\"_\"+df[\"leg_order\"].astype(str)\n",
    "    change_indices = df.index[df['td_tc_lo'] != df['td_tc_lo'].shift()].tolist()\n",
    "    # Exclude the first index since we only want where changes occur after the start\n",
    "    \n",
    "    return change_indices\n",
    "\n",
    "def calculate_legs_onfire(df):\n",
    "\n",
    "    result =  []\n",
    "\n",
    "    print('Start sorting')\n",
    "    sorted_df = df.sort_values(['temp_device', 'tripchain_id', 'leg_order', 'area_order']).reset_index(drop=True)\n",
    "    print('Sorting done')\n",
    "    \n",
    "    change_indices = get_change_indices(sorted_df)\n",
    "    change_indices.append(len(sorted_df))\n",
    "    \n",
    "    \n",
    "\n",
    "    for i in tqdm(range(len(change_indices)-1)):\n",
    "        # Extract row values\n",
    "        \n",
    "        df_temp = sorted_df.iloc[change_indices[i]:change_indices[i+1]].reset_index(drop=True)\n",
    "        temp_device,tripchain_id,leg_order = df_temp.td_tc_lo[0].split(\"_\")\n",
    " \n",
    "        mode = df_temp[\"mode\"][0]\n",
    "        \n",
    "        # obtain data from measure_distance_gap function.\n",
    "        adjacent_pairs, gaps, dist_total, dist_adj, gap_ratio, dist_gap_min, dist_gap_max, dist_gap_mean, dist_gap_count, area_next_to_each_other  = measure_distance_gap(df_temp)\n",
    "\n",
    "        result.append({\n",
    "            'Mode' : mode,\n",
    "            'Temp' : temp_device,\n",
    "            'Tripchain ID' : tripchain_id,\n",
    "            'Leg Order' : leg_order,\n",
    "            'Total distance': dist_total,\n",
    "            'Adjacent distance': dist_adj,\n",
    "            'Gap ratio': gap_ratio,\n",
    "            'Gap min distance': dist_gap_min,\n",
    "            'Gap max distance': dist_gap_max,\n",
    "            'Gap mean distance': dist_gap_mean,\n",
    "            'Gap count': dist_gap_count, \n",
    "            'Areas next to each other':area_next_to_each_other\n",
    "            })\n",
    "\n",
    "\n",
    "    print('Convert to df and saving as csv')\n",
    "    result = pd.DataFrame(result)\n",
    "    result.to_csv('/scratch/work/lyub2/Problem_output_September/P4/P4_ferry.csv',index = False)\n",
    "    return pd.DataFrame(result)\n"
   ]
  },
  {
   "cell_type": "code",
   "execution_count": 15,
   "metadata": {},
   "outputs": [
    {
     "name": "stdout",
     "output_type": "stream",
     "text": [
      "Start sorting\n"
     ]
    },
    {
     "ename": "",
     "evalue": "",
     "output_type": "error",
     "traceback": [
      "\u001b[1;31mThe Kernel crashed while executing code in the current cell or a previous cell. \n",
      "\u001b[1;31mPlease review the code in the cell(s) to identify a possible cause of the failure. \n",
      "\u001b[1;31mClick <a href='https://aka.ms/vscodeJupyterKernelCrash'>here</a> for more info. \n",
      "\u001b[1;31mView Jupyter <a href='command:jupyter.viewOutput'>log</a> for further details."
     ]
    }
   ],
   "source": [
    "P4_car = calculate_legs_onfire(df_car)"
   ]
  },
  {
   "cell_type": "code",
   "execution_count": 10,
   "metadata": {},
   "outputs": [
    {
     "name": "stdout",
     "output_type": "stream",
     "text": [
      "Start sorting\n",
      "Sorting done\n"
     ]
    },
    {
     "data": {
      "application/vnd.jupyter.widget-view+json": {
       "model_id": "a0ab9571bdf6452aa54fba579d2d2437",
       "version_major": 2,
       "version_minor": 0
      },
      "text/plain": [
       "  0%|          | 0/254588 [00:00<?, ?it/s]"
      ]
     },
     "metadata": {},
     "output_type": "display_data"
    },
    {
     "name": "stdout",
     "output_type": "stream",
     "text": [
      "Convert to df and saving as csv\n"
     ]
    }
   ],
   "source": [
    "P4_train = calculate_legs_onfire(df_train)"
   ]
  },
  {
   "cell_type": "code",
   "execution_count": 14,
   "metadata": {},
   "outputs": [
    {
     "name": "stdout",
     "output_type": "stream",
     "text": [
      "Start sorting\n",
      "Sorting done\n"
     ]
    },
    {
     "data": {
      "application/vnd.jupyter.widget-view+json": {
       "model_id": "5c03b7ff9ff54b01becffdafab71aa1e",
       "version_major": 2,
       "version_minor": 0
      },
      "text/plain": [
       "  0%|          | 0/2908 [00:00<?, ?it/s]"
      ]
     },
     "metadata": {},
     "output_type": "display_data"
    },
    {
     "name": "stdout",
     "output_type": "stream",
     "text": [
      "Convert to df and saving as csv\n"
     ]
    }
   ],
   "source": [
    "P4_ubus = calculate_legs_onfire(df_ubus)"
   ]
  },
  {
   "cell_type": "code",
   "execution_count": 16,
   "metadata": {},
   "outputs": [
    {
     "name": "stdout",
     "output_type": "stream",
     "text": [
      "Start sorting\n",
      "Sorting done\n"
     ]
    },
    {
     "data": {
      "application/vnd.jupyter.widget-view+json": {
       "model_id": "ec653a2d27f843ed9faddacd58289990",
       "version_major": 2,
       "version_minor": 0
      },
      "text/plain": [
       "  0%|          | 0/1110 [00:00<?, ?it/s]"
      ]
     },
     "metadata": {},
     "output_type": "display_data"
    },
    {
     "name": "stdout",
     "output_type": "stream",
     "text": [
      "Convert to df and saving as csv\n"
     ]
    }
   ],
   "source": [
    "P4_ferry = calculate_legs_onfire(df_ferry)"
   ]
  },
  {
   "cell_type": "code",
   "execution_count": 137,
   "metadata": {},
   "outputs": [
    {
     "name": "stdout",
     "output_type": "stream",
     "text": [
      "Start sorting\n",
      "Sorting done\n"
     ]
    },
    {
     "data": {
      "application/vnd.jupyter.widget-view+json": {
       "model_id": "39a0e58a430f4c288743fd8624790601",
       "version_major": 2,
       "version_minor": 0
      },
      "text/plain": [
       "  0%|          | 0/29 [00:00<?, ?it/s]"
      ]
     },
     "metadata": {},
     "output_type": "display_data"
    },
    {
     "name": "stdout",
     "output_type": "stream",
     "text": [
      "Convert to DF\n"
     ]
    }
   ],
   "source": [
    "tram_test = calculate_legs_onfire(df_tram.head(300))"
   ]
  },
  {
   "cell_type": "code",
   "execution_count": null,
   "metadata": {},
   "outputs": [],
   "source": []
  },
  {
   "cell_type": "code",
   "execution_count": 12,
   "metadata": {},
   "outputs": [
    {
     "name": "stdout",
     "output_type": "stream",
     "text": [
      "Start sorting\n",
      "Sorting done\n"
     ]
    },
    {
     "data": {
      "application/vnd.jupyter.widget-view+json": {
       "model_id": "28d3fab434e84db4a15e5347bd91baef",
       "version_major": 2,
       "version_minor": 0
      },
      "text/plain": [
       "  0%|          | 0/142390 [00:00<?, ?it/s]"
      ]
     },
     "metadata": {},
     "output_type": "display_data"
    },
    {
     "name": "stdout",
     "output_type": "stream",
     "text": [
      "Convert to df and saving as csv\n"
     ]
    }
   ],
   "source": [
    "P4_tram = calculate_legs_onfire(df_tram)"
   ]
  },
  {
   "cell_type": "code",
   "execution_count": 11,
   "metadata": {},
   "outputs": [
    {
     "name": "stdout",
     "output_type": "stream",
     "text": [
      "Start sorting\n",
      "Sorting done\n"
     ]
    },
    {
     "data": {
      "application/vnd.jupyter.widget-view+json": {
       "model_id": "f562a5537d5d4396983ed8d0c2fcb946",
       "version_major": 2,
       "version_minor": 0
      },
      "text/plain": [
       "  0%|          | 0/107903 [00:00<?, ?it/s]"
      ]
     },
     "metadata": {},
     "output_type": "display_data"
    },
    {
     "name": "stdout",
     "output_type": "stream",
     "text": [
      "Convert to df and saving as csv\n"
     ]
    }
   ],
   "source": [
    "P4_run = calculate_legs_onfire(df_run)"
   ]
  },
  {
   "cell_type": "code",
   "execution_count": 10,
   "metadata": {},
   "outputs": [
    {
     "name": "stdout",
     "output_type": "stream",
     "text": [
      "Start sorting\n",
      "Sorting done\n"
     ]
    },
    {
     "data": {
      "application/vnd.jupyter.widget-view+json": {
       "model_id": "8abc2a7bec9848fa9302249f5ad20b95",
       "version_major": 2,
       "version_minor": 0
      },
      "text/plain": [
       "  0%|          | 0/423830 [00:00<?, ?it/s]"
      ]
     },
     "metadata": {},
     "output_type": "display_data"
    },
    {
     "name": "stdout",
     "output_type": "stream",
     "text": [
      "Convert to df and saving as csv\n"
     ]
    }
   ],
   "source": [
    "P4_bike= calculate_legs_onfire(df_bike)"
   ]
  },
  {
   "cell_type": "code",
   "execution_count": 9,
   "metadata": {},
   "outputs": [
    {
     "name": "stdout",
     "output_type": "stream",
     "text": [
      "Start sorting\n",
      "Sorting done\n"
     ]
    },
    {
     "data": {
      "application/vnd.jupyter.widget-view+json": {
       "model_id": "28881b6971174856979b94dab496ab69",
       "version_major": 2,
       "version_minor": 0
      },
      "text/plain": [
       "  0%|          | 0/463121 [00:00<?, ?it/s]"
      ]
     },
     "metadata": {},
     "output_type": "display_data"
    },
    {
     "name": "stdout",
     "output_type": "stream",
     "text": [
      "Convert to df and saving as csv\n"
     ]
    }
   ],
   "source": [
    "P4_unknown = calculate_legs_onfire(df_unknown)"
   ]
  },
  {
   "cell_type": "code",
   "execution_count": 11,
   "metadata": {},
   "outputs": [
    {
     "name": "stdout",
     "output_type": "stream",
     "text": [
      "Start sorting\n",
      "Sorting done\n"
     ]
    },
    {
     "data": {
      "application/vnd.jupyter.widget-view+json": {
       "model_id": "ec15ff621dc347dd85eda010921a6ba2",
       "version_major": 2,
       "version_minor": 0
      },
      "text/plain": [
       "  0%|          | 0/1 [00:00<?, ?it/s]"
      ]
     },
     "metadata": {},
     "output_type": "display_data"
    },
    {
     "name": "stdout",
     "output_type": "stream",
     "text": [
      "Convert to df and saving as csv\n"
     ]
    }
   ],
   "source": [
    "P4_beacon = calculate_legs_onfire(df_beacon)"
   ]
  },
  {
   "cell_type": "code",
   "execution_count": 12,
   "metadata": {},
   "outputs": [
    {
     "data": {
      "text/html": [
       "<div>\n",
       "<style scoped>\n",
       "    .dataframe tbody tr th:only-of-type {\n",
       "        vertical-align: middle;\n",
       "    }\n",
       "\n",
       "    .dataframe tbody tr th {\n",
       "        vertical-align: top;\n",
       "    }\n",
       "\n",
       "    .dataframe thead th {\n",
       "        text-align: right;\n",
       "    }\n",
       "</style>\n",
       "<table border=\"1\" class=\"dataframe\">\n",
       "  <thead>\n",
       "    <tr style=\"text-align: right;\">\n",
       "      <th></th>\n",
       "      <th>temp_device</th>\n",
       "      <th>tripchain_id</th>\n",
       "      <th>leg_order</th>\n",
       "      <th>area_id</th>\n",
       "      <th>area_order</th>\n",
       "      <th>mode</th>\n",
       "    </tr>\n",
       "  </thead>\n",
       "  <tbody>\n",
       "    <tr>\n",
       "      <th>6470419</th>\n",
       "      <td>fGrP1kYqgYwx</td>\n",
       "      <td>0.0</td>\n",
       "      <td>1.0</td>\n",
       "      <td>64985.0</td>\n",
       "      <td>3.0</td>\n",
       "      <td>BEACON</td>\n",
       "    </tr>\n",
       "    <tr>\n",
       "      <th>6470422</th>\n",
       "      <td>fGrP1kYqgYwx</td>\n",
       "      <td>0.0</td>\n",
       "      <td>1.0</td>\n",
       "      <td>64989.0</td>\n",
       "      <td>1.0</td>\n",
       "      <td>BEACON</td>\n",
       "    </tr>\n",
       "    <tr>\n",
       "      <th>6470423</th>\n",
       "      <td>fGrP1kYqgYwx</td>\n",
       "      <td>0.0</td>\n",
       "      <td>1.0</td>\n",
       "      <td>64987.0</td>\n",
       "      <td>2.0</td>\n",
       "      <td>BEACON</td>\n",
       "    </tr>\n",
       "    <tr>\n",
       "      <th>6810010</th>\n",
       "      <td>fGrP1kYqgYwx</td>\n",
       "      <td>0.0</td>\n",
       "      <td>1.0</td>\n",
       "      <td>65817.0</td>\n",
       "      <td>4.0</td>\n",
       "      <td>BEACON</td>\n",
       "    </tr>\n",
       "  </tbody>\n",
       "</table>\n",
       "</div>"
      ],
      "text/plain": [
       "          temp_device  tripchain_id  leg_order  area_id  area_order    mode\n",
       "6470419  fGrP1kYqgYwx           0.0        1.0  64985.0         3.0  BEACON\n",
       "6470422  fGrP1kYqgYwx           0.0        1.0  64989.0         1.0  BEACON\n",
       "6470423  fGrP1kYqgYwx           0.0        1.0  64987.0         2.0  BEACON\n",
       "6810010  fGrP1kYqgYwx           0.0        1.0  65817.0         4.0  BEACON"
      ]
     },
     "execution_count": 12,
     "metadata": {},
     "output_type": "execute_result"
    }
   ],
   "source": [
    "df_beacon"
   ]
  },
  {
   "cell_type": "code",
   "execution_count": null,
   "metadata": {},
   "outputs": [],
   "source": []
  },
  {
   "cell_type": "code",
   "execution_count": null,
   "metadata": {},
   "outputs": [],
   "source": []
  },
  {
   "cell_type": "markdown",
   "metadata": {},
   "source": [
    "## 分析 + 表格总结"
   ]
  },
  {
   "cell_type": "code",
   "execution_count": null,
   "metadata": {},
   "outputs": [],
   "source": []
  }
 ],
 "metadata": {
  "kernelspec": {
   "display_name": "Python generic (scicomp-python-env/2024-01)",
   "language": "python",
   "name": "python3"
  },
  "language_info": {
   "codemirror_mode": {
    "name": "ipython",
    "version": 3
   },
   "file_extension": ".py",
   "mimetype": "text/x-python",
   "name": "python",
   "nbconvert_exporter": "python",
   "pygments_lexer": "ipython3",
   "version": "3.12.5"
  }
 },
 "nbformat": 4,
 "nbformat_minor": 4
}
