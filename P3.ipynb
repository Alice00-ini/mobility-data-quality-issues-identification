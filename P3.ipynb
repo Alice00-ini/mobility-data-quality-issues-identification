{
 "cells": [
  {
   "cell_type": "code",
   "execution_count": 1,
   "id": "62260dc5-e666-45dd-af79-3bf513391e8f",
   "metadata": {},
   "outputs": [
    {
     "name": "stderr",
     "output_type": "stream",
     "text": [
      "/scratch/work/lyub2/.conda_envs/lb-env/lib/python3.12/site-packages/tqdm/auto.py:21: TqdmWarning: IProgress not found. Please update jupyter and ipywidgets. See https://ipywidgets.readthedocs.io/en/stable/user_install.html\n",
      "  from .autonotebook import tqdm as notebook_tqdm\n"
     ]
    }
   ],
   "source": [
    "import pandas as pd\n",
    "import geopandas as gpd\n",
    "import numpy as np\n",
    "import matplotlib.pyplot as plt\n",
    "%matplotlib inline\n",
    "import pickle\n",
    "import os\n",
    "import seaborn as sns\n",
    "from tqdm.auto import tqdm"
   ]
  },
  {
   "cell_type": "markdown",
   "id": "e0014b20-4a63-4eda-b8ef-8b439a6a4fc2",
   "metadata": {
    "jp-MarkdownHeadingCollapsed": true
   },
   "source": [
    "### 集大成！"
   ]
  },
  {
   "cell_type": "code",
   "execution_count": 13,
   "id": "6330ac1e-7ee2-4fda-a4b6-ea189bc1a01d",
   "metadata": {
    "scrolled": true
   },
   "outputs": [
    {
     "data": {
      "application/vnd.jupyter.widget-view+json": {
       "model_id": "fc8f671531a44410b13b6664ec5beede",
       "version_major": 2,
       "version_minor": 0
      },
      "text/plain": [
       "Processing folders:   0%|          | 0/30 [00:00<?, ?it/s]"
      ]
     },
     "metadata": {},
     "output_type": "display_data"
    },
    {
     "name": "stdout",
     "output_type": "stream",
     "text": [
      "4571111\n"
     ]
    }
   ],
   "source": [
    "parent_directory = '/scratch/work/lyub2/Problem_output_September/'\n",
    "\n",
    "df_list = []\n",
    "total_len = 0\n",
    "\n",
    "# Iterate through all 30 folders with tqdm for progress bar\n",
    "for day in tqdm(range(1, 31), desc=\"Processing folders\"):\n",
    "    # Generate folder name in the format 'MMDD_output_csv' (e.g., '0901_output_csv')\n",
    "    folder_name = f\"09{str(day).zfill(2)}_output_csv\"\n",
    "    # Define the full path to the csv file\n",
    "    file_path = os.path.join(parent_directory, folder_name, 'P3_unfiltered_tripchain_travelling_time.csv')\n",
    "    \n",
    "    # Check if the file exists to avoid errors\n",
    "    if not os.path.isfile(file_path):\n",
    "        print(f\"File not found: {file_path}\")\n",
    "        continue\n",
    "    \n",
    "    # Read the current CSV file\n",
    "    df = pd.read_csv(file_path)\n",
    "    total_len += len(df)\n",
    "    df_list.append(df)\n",
    "    \n",
    "\n",
    "df_p3 = pd.concat(df_list, ignore_index=True)\n",
    "print(total_len)"
   ]
  },
  {
   "cell_type": "code",
   "execution_count": 15,
   "id": "a4e7b47a-9f58-428f-adb4-9c040343bded",
   "metadata": {},
   "outputs": [],
   "source": [
    "df_p3.to_csv('/scratch/work/lyub2/Problem_output_September/P3/df_p3.csv', index = False)"
   ]
  },
  {
   "cell_type": "code",
   "execution_count": 3,
   "id": "e2df7a22",
   "metadata": {},
   "outputs": [],
   "source": [
    "df_p3 = pd.read_csv(\"/scratch/work/lyub2/Problem_output_September/P3/df_p3.csv\")"
   ]
  },
  {
   "cell_type": "code",
   "execution_count": 5,
   "id": "208d4ee4",
   "metadata": {},
   "outputs": [
    {
     "data": {
      "text/html": [
       "<div>\n",
       "<style scoped>\n",
       "    .dataframe tbody tr th:only-of-type {\n",
       "        vertical-align: middle;\n",
       "    }\n",
       "\n",
       "    .dataframe tbody tr th {\n",
       "        vertical-align: top;\n",
       "    }\n",
       "\n",
       "    .dataframe thead th {\n",
       "        text-align: right;\n",
       "    }\n",
       "</style>\n",
       "<table border=\"1\" class=\"dataframe\">\n",
       "  <thead>\n",
       "    <tr style=\"text-align: right;\">\n",
       "      <th></th>\n",
       "      <th>temp_device</th>\n",
       "      <th>tripchain_id</th>\n",
       "      <th>total_duration_minutes</th>\n",
       "    </tr>\n",
       "  </thead>\n",
       "  <tbody>\n",
       "    <tr>\n",
       "      <th>0</th>\n",
       "      <td>004BbUb8ewhh</td>\n",
       "      <td>0.0</td>\n",
       "      <td>15.0</td>\n",
       "    </tr>\n",
       "    <tr>\n",
       "      <th>1</th>\n",
       "      <td>005eJfiOF2pc</td>\n",
       "      <td>0.0</td>\n",
       "      <td>45.0</td>\n",
       "    </tr>\n",
       "    <tr>\n",
       "      <th>2</th>\n",
       "      <td>005eJfiOF2pc</td>\n",
       "      <td>1.0</td>\n",
       "      <td>15.0</td>\n",
       "    </tr>\n",
       "    <tr>\n",
       "      <th>3</th>\n",
       "      <td>005eJfiOF2pc</td>\n",
       "      <td>2.0</td>\n",
       "      <td>44.7</td>\n",
       "    </tr>\n",
       "    <tr>\n",
       "      <th>4</th>\n",
       "      <td>005kboCECfb0</td>\n",
       "      <td>0.0</td>\n",
       "      <td>3.2</td>\n",
       "    </tr>\n",
       "  </tbody>\n",
       "</table>\n",
       "</div>"
      ],
      "text/plain": [
       "    temp_device  tripchain_id  total_duration_minutes\n",
       "0  004BbUb8ewhh           0.0                    15.0\n",
       "1  005eJfiOF2pc           0.0                    45.0\n",
       "2  005eJfiOF2pc           1.0                    15.0\n",
       "3  005eJfiOF2pc           2.0                    44.7\n",
       "4  005kboCECfb0           0.0                     3.2"
      ]
     },
     "execution_count": 5,
     "metadata": {},
     "output_type": "execute_result"
    }
   ],
   "source": [
    "df_p3.head()"
   ]
  },
  {
   "cell_type": "markdown",
   "id": "f1071852",
   "metadata": {},
   "source": [
    "## 在P1的基础上去除P2"
   ]
  },
  {
   "cell_type": "markdown",
   "id": "71df4fd9",
   "metadata": {
    "jp-MarkdownHeadingCollapsed": true
   },
   "source": [
    "### 先把需要的df1搞出来 30天的太大了 不能一起出来，分成了5组"
   ]
  },
  {
   "cell_type": "code",
   "execution_count": 2,
   "id": "f305c8c7",
   "metadata": {},
   "outputs": [
    {
     "name": "stderr",
     "output_type": "stream",
     "text": [
      "Processing folders:   0%|          | 0/6 [00:00<?, ?it/s]"
     ]
    },
    {
     "name": "stderr",
     "output_type": "stream",
     "text": [
      "/tmp/ipykernel_651652/3506847840.py:21: FutureWarning: The behavior of DataFrame concatenation with empty or all-NA entries is deprecated. In a future version, this will no longer exclude empty or all-NA columns when determining the result dtypes. To retain the old behavior, exclude the relevant entries before the concat operation.\n",
      "  df_all_1 = pd.concat([df_all_1, df], ignore_index=True)\n",
      "Processing folders: 100%|██████████| 6/6 [12:57<00:00, 129.62s/it]\n"
     ]
    }
   ],
   "source": [
    "folder_path = '/scratch/work/lyub2/2.df_tc_09'\n",
    "file_prefix = 'df_tc_'\n",
    "file_suffix = '.csv'\n",
    "#total_rows = 0\n",
    "\n",
    "# Initialize an empty DataFrame to store the aggregated missing counts\n",
    "df_all_1 = pd.DataFrame(columns=[\n",
    "    'temp_device', 'tripchain_id', 'leg_order', 'area_id', 'area_order', 'activity', 'km','line_name', 'line_type',\n",
    "    'time_start_distance', 'time_end_distance'])\n",
    "\n",
    "# Loop through each file and process\n",
    "for i in tqdm(range(1, 7), desc=\"Processing folders\"):\n",
    "    file_name = f'{file_prefix}{i:02d}{file_suffix}'\n",
    "    file_path = os.path.join(folder_path, file_name)\n",
    "    \n",
    "    # Read the CSV file\n",
    "    df = pd.read_csv(file_path, usecols=[\n",
    "        'temp_device', 'tripchain_id', 'leg_order', 'area_id', 'area_order', 'activity', \n",
    "        'km','line_name', 'line_type','time_start_distance', 'time_end_distance'])\n",
    "    \n",
    "    df_all_1 = pd.concat([df_all_1, df], ignore_index=True)\n",
    "\n",
    "df_all_1.to_csv('/scratch/work/lyub2/Problem_output_September/P3/df_all_1.csv', index = False)"
   ]
  },
  {
   "cell_type": "code",
   "execution_count": 3,
   "id": "f3c3c33e",
   "metadata": {},
   "outputs": [
    {
     "name": "stderr",
     "output_type": "stream",
     "text": [
      "Processing folders:   0%|          | 0/3 [00:00<?, ?it/s]/tmp/ipykernel_819633/2405882279.py:21: FutureWarning: The behavior of DataFrame concatenation with empty or all-NA entries is deprecated. In a future version, this will no longer exclude empty or all-NA columns when determining the result dtypes. To retain the old behavior, exclude the relevant entries before the concat operation.\n",
      "  df_all_2 = pd.concat([df_all_2, df], ignore_index=True)\n",
      "Processing folders: 100%|██████████| 3/3 [06:56<00:00, 138.88s/it]\n"
     ]
    }
   ],
   "source": [
    "folder_path = '/scratch/work/lyub2/2.df_tc_09'\n",
    "file_prefix = 'df_tc_'\n",
    "file_suffix = '.csv'\n",
    "#total_rows = 0\n",
    "\n",
    "# Initialize an empty DataFrame to store the aggregated missing counts\n",
    "df_all_2 = pd.DataFrame(columns=[\n",
    "    'temp_device', 'tripchain_id', 'leg_order', 'area_id', 'area_order', 'activity', 'km','line_name', 'line_type',\n",
    "    'time_start_distance', 'time_end_distance'])\n",
    "\n",
    "# Loop through each file and process\n",
    "for i in tqdm(range(7, 10), desc=\"Processing folders\"):\n",
    "    file_name = f'{file_prefix}{i:02d}{file_suffix}'\n",
    "    file_path = os.path.join(folder_path, file_name)\n",
    "    \n",
    "    # Read the CSV file\n",
    "    df = pd.read_csv(file_path, usecols=[\n",
    "        'temp_device', 'tripchain_id', 'leg_order', 'area_id', 'area_order', 'activity', \n",
    "        'km','line_name', 'line_type','time_start_distance', 'time_end_distance'])\n",
    "    \n",
    "    df_all_2 = pd.concat([df_all_2, df], ignore_index=True)\n",
    "\n",
    "df_all_2.to_csv('/scratch/work/lyub2/Problem_output_September/P3/df_all_2.csv', index = False)\n"
   ]
  },
  {
   "cell_type": "code",
   "execution_count": 2,
   "id": "9e5d2038",
   "metadata": {},
   "outputs": [
    {
     "name": "stderr",
     "output_type": "stream",
     "text": [
      "Processing folders:   0%|          | 0/6 [00:00<?, ?it/s]/tmp/ipykernel_929900/45709069.py:21: FutureWarning: The behavior of DataFrame concatenation with empty or all-NA entries is deprecated. In a future version, this will no longer exclude empty or all-NA columns when determining the result dtypes. To retain the old behavior, exclude the relevant entries before the concat operation.\n",
      "  df_all_3 = pd.concat([df_all_3, df], ignore_index=True)\n",
      "Processing folders: 100%|██████████| 6/6 [12:09<00:00, 121.53s/it]\n"
     ]
    }
   ],
   "source": [
    "folder_path = '/scratch/work/lyub2/2.df_tc_09'\n",
    "file_prefix = 'df_tc_'\n",
    "file_suffix = '.csv'\n",
    "#total_rows = 0\n",
    "\n",
    "# Initialize an empty DataFrame to store the aggregated missing counts\n",
    "df_all_3 = pd.DataFrame(columns=[\n",
    "    'temp_device', 'tripchain_id', 'leg_order', 'area_id', 'area_order', 'activity', 'km','line_name', 'line_type',\n",
    "    'time_start_distance', 'time_end_distance'])\n",
    "\n",
    "# Loop through each file and process\n",
    "for i in tqdm(range(10, 16), desc=\"Processing folders\"):\n",
    "    file_name = f'{file_prefix}{i:02d}{file_suffix}'\n",
    "    file_path = os.path.join(folder_path, file_name)\n",
    "    \n",
    "    # Read the CSV file\n",
    "    df = pd.read_csv(file_path, usecols=[\n",
    "        'temp_device', 'tripchain_id', 'leg_order', 'area_id', 'area_order', 'activity', \n",
    "        'km','line_name', 'line_type','time_start_distance', 'time_end_distance'])\n",
    "    \n",
    "    df_all_3 = pd.concat([df_all_3, df], ignore_index=True)\n",
    "\n",
    "df_all_3.to_csv('/scratch/work/lyub2/Problem_output_September/P3/df_all_3.csv', index = False)"
   ]
  },
  {
   "cell_type": "code",
   "execution_count": 2,
   "id": "457fd62c",
   "metadata": {},
   "outputs": [
    {
     "name": "stderr",
     "output_type": "stream",
     "text": [
      "Processing folders:   0%|          | 0/4 [00:00<?, ?it/s]"
     ]
    },
    {
     "name": "stderr",
     "output_type": "stream",
     "text": [
      "/tmp/ipykernel_1073657/749393217.py:21: FutureWarning: The behavior of DataFrame concatenation with empty or all-NA entries is deprecated. In a future version, this will no longer exclude empty or all-NA columns when determining the result dtypes. To retain the old behavior, exclude the relevant entries before the concat operation.\n",
      "  df_all_4 = pd.concat([df_all_4, df], ignore_index=True)\n",
      "Processing folders: 100%|██████████| 4/4 [09:13<00:00, 138.28s/it]\n"
     ]
    }
   ],
   "source": [
    "folder_path = '/scratch/work/lyub2/2.df_tc_09'\n",
    "file_prefix = 'df_tc_'\n",
    "file_suffix = '.csv'\n",
    "#total_rows = 0\n",
    "\n",
    "# Initialize an empty DataFrame to store the aggregated missing counts\n",
    "df_all_4 = pd.DataFrame(columns=[\n",
    "    'temp_device', 'tripchain_id', 'leg_order', 'area_id', 'area_order', 'activity', 'km','line_name', 'line_type',\n",
    "    'time_start_distance', 'time_end_distance'])\n",
    "\n",
    "# Loop through each file and process\n",
    "for i in tqdm(range(16, 20), desc=\"Processing folders\"):\n",
    "    file_name = f'{file_prefix}{i:02d}{file_suffix}'\n",
    "    file_path = os.path.join(folder_path, file_name)\n",
    "    \n",
    "    # Read the CSV file\n",
    "    df = pd.read_csv(file_path, usecols=[\n",
    "        'temp_device', 'tripchain_id', 'leg_order', 'area_id', 'area_order', 'activity', \n",
    "        'km','line_name', 'line_type','time_start_distance', 'time_end_distance'])\n",
    "    \n",
    "    df_all_4 = pd.concat([df_all_4, df], ignore_index=True)\n",
    "\n",
    "df_all_4.to_csv('/scratch/work/lyub2/Problem_output_September/P3/df_all_4.csv', index = False)"
   ]
  },
  {
   "cell_type": "code",
   "execution_count": 3,
   "id": "4e05a41c",
   "metadata": {},
   "outputs": [
    {
     "name": "stderr",
     "output_type": "stream",
     "text": [
      "Processing folders:   0%|          | 0/5 [00:00<?, ?it/s]/tmp/ipykernel_1073657/1313498430.py:21: FutureWarning: The behavior of DataFrame concatenation with empty or all-NA entries is deprecated. In a future version, this will no longer exclude empty or all-NA columns when determining the result dtypes. To retain the old behavior, exclude the relevant entries before the concat operation.\n",
      "  df_all_5 = pd.concat([df_all_5, df], ignore_index=True)\n",
      "Processing folders: 100%|██████████| 5/5 [08:47<00:00, 105.55s/it]\n"
     ]
    },
    {
     "ename": "",
     "evalue": "",
     "output_type": "error",
     "traceback": [
      "\u001b[1;31mThe Kernel crashed while executing code in the current cell or a previous cell. \n",
      "\u001b[1;31mPlease review the code in the cell(s) to identify a possible cause of the failure. \n",
      "\u001b[1;31mClick <a href='https://aka.ms/vscodeJupyterKernelCrash'>here</a> for more info. \n",
      "\u001b[1;31mView Jupyter <a href='command:jupyter.viewOutput'>log</a> for further details."
     ]
    }
   ],
   "source": [
    "folder_path = '/scratch/work/lyub2/2.df_tc_09'\n",
    "file_prefix = 'df_tc_'\n",
    "file_suffix = '.csv'\n",
    "#total_rows = 0\n",
    "\n",
    "# Initialize an empty DataFrame to store the aggregated missing counts\n",
    "df_all_5 = pd.DataFrame(columns=[\n",
    "    'temp_device', 'tripchain_id', 'leg_order', 'area_id', 'area_order', 'activity', 'km','line_name', 'line_type',\n",
    "    'time_start_distance', 'time_end_distance'])\n",
    "\n",
    "# Loop through each file and process\n",
    "for i in tqdm(range(20, 25), desc=\"Processing folders\"):\n",
    "    file_name = f'{file_prefix}{i:02d}{file_suffix}'\n",
    "    file_path = os.path.join(folder_path, file_name)\n",
    "    \n",
    "    # Read the CSV file\n",
    "    df = pd.read_csv(file_path, usecols=[\n",
    "        'temp_device', 'tripchain_id', 'leg_order', 'area_id', 'area_order', 'activity', \n",
    "        'km','line_name', 'line_type','time_start_distance', 'time_end_distance'])\n",
    "    \n",
    "    df_all_5 = pd.concat([df_all_5, df], ignore_index=True)\n",
    "\n",
    "df_all_5.to_csv('/scratch/work/lyub2/Problem_output_September/P3/df_all_5.csv', index = False)"
   ]
  },
  {
   "cell_type": "code",
   "execution_count": 3,
   "id": "ffc2e46b",
   "metadata": {},
   "outputs": [
    {
     "name": "stderr",
     "output_type": "stream",
     "text": [
      "Processing folders:   0%|          | 0/6 [00:00<?, ?it/s]/tmp/ipykernel_28563/1397153286.py:21: FutureWarning: The behavior of DataFrame concatenation with empty or all-NA entries is deprecated. In a future version, this will no longer exclude empty or all-NA columns when determining the result dtypes. To retain the old behavior, exclude the relevant entries before the concat operation.\n",
      "  df_all_6 = pd.concat([df_all_6, df], ignore_index=True)\n",
      "Processing folders:  83%|████████▎ | 5/6 [08:48<01:42, 102.30s/it]/tmp/ipykernel_28563/1397153286.py:17: DtypeWarning: Columns (21,22) have mixed types. Specify dtype option on import or set low_memory=False.\n",
      "  df = pd.read_csv(file_path, usecols=[\n",
      "Processing folders: 100%|██████████| 6/6 [09:38<00:00, 96.43s/it] \n"
     ]
    }
   ],
   "source": [
    "folder_path = '/scratch/work/lyub2/2.df_tc_09'\n",
    "file_prefix = 'df_tc_'\n",
    "file_suffix = '.csv'\n",
    "#total_rows = 0\n",
    "\n",
    "# Initialize an empty DataFrame to store the aggregated missing counts\n",
    "df_all_6 = pd.DataFrame(columns=[\n",
    "    'temp_device', 'tripchain_id', 'leg_order', 'area_id', 'area_order', 'activity', 'km','line_name', 'line_type',\n",
    "    'time_start_distance', 'time_end_distance'])\n",
    "\n",
    "# Loop through each file and process\n",
    "for i in tqdm(range(25, 31), desc=\"Processing folders\"):\n",
    "    file_name = f'{file_prefix}{i:02d}{file_suffix}'\n",
    "    file_path = os.path.join(folder_path, file_name)\n",
    "    \n",
    "    # Read the CSV file\n",
    "    df = pd.read_csv(file_path, usecols=[\n",
    "        'temp_device', 'tripchain_id', 'leg_order', 'area_id', 'area_order', 'activity', \n",
    "        'km','line_name', 'line_type','time_start_distance', 'time_end_distance'])\n",
    "    \n",
    "    df_all_6 = pd.concat([df_all_6, df], ignore_index=True)\n",
    "\n",
    "df_all_6.to_csv('/scratch/work/lyub2/Problem_output_September/P3/df_all_6.csv', index = False)"
   ]
  },
  {
   "cell_type": "code",
   "execution_count": 12,
   "id": "6681a335",
   "metadata": {},
   "outputs": [],
   "source": [
    "df_all = pd.concat([df_p1_1, df_p1_2], ignore_index=True)"
   ]
  },
  {
   "cell_type": "code",
   "execution_count": 26,
   "id": "21d6b69d",
   "metadata": {},
   "outputs": [
    {
     "name": "stdout",
     "output_type": "stream",
     "text": [
      "29194643\n"
     ]
    }
   ],
   "source": [
    "# print(len(df_p1_1))\n",
    "# print(len(df_p1_2))\n",
    "print(len(df_all))"
   ]
  },
  {
   "cell_type": "markdown",
   "id": "ece34189",
   "metadata": {},
   "source": [
    "## 删除含有’wrong detection line name‘的 并进行P3"
   ]
  },
  {
   "cell_type": "code",
   "execution_count": 2,
   "id": "926566b1",
   "metadata": {},
   "outputs": [],
   "source": [
    "wrong_detection_df= pd.read_csv(\"/scratch/work/lyub2/Problem_output_September/P2/df_wrongline.csv\")"
   ]
  },
  {
   "cell_type": "code",
   "execution_count": 3,
   "id": "3d00cc4c",
   "metadata": {},
   "outputs": [],
   "source": [
    "df_all_1= pd.read_csv(\"/scratch/work/lyub2/Problem_output_September/P1/df_all_1.csv\",)"
   ]
  },
  {
   "cell_type": "code",
   "execution_count": 5,
   "id": "68163153-0af0-47dc-b641-4ed99004777b",
   "metadata": {},
   "outputs": [
    {
     "name": "stdout",
     "output_type": "stream",
     "text": [
      "P3在1/6里, (legs)总长度和 in travelling 的长度 60804922 52908480\n"
     ]
    },
    {
     "name": "stderr",
     "output_type": "stream",
     "text": [
      "/tmp/ipykernel_4023960/4212058569.py:17: FutureWarning: In a future version of pandas, parsing datetimes with mixed time zones will raise an error unless `utc=True`. Please specify `utc=True` to opt in to the new behaviour and silence this warning. To create a `Series` with mixed offsets and `object` dtype, please use `apply` and `datetime.datetime.strptime`\n",
      "  df[column] = pd.to_datetime(df[column], errors='coerce')\n",
      "/tmp/ipykernel_4023960/4212058569.py:18: UserWarning: The argument 'infer_datetime_format' is deprecated and will be removed in a future version. A strict version of it is now the default, see https://pandas.pydata.org/pdeps/0004-consistent-to-datetime-parsing.html. You can safely remove this argument.\n",
      "  df[column] = pd.to_datetime(df[column], errors='coerce', infer_datetime_format=True).dt.tz_convert('Europe/Helsinki')\n",
      "/tmp/ipykernel_4023960/4212058569.py:17: FutureWarning: In a future version of pandas, parsing datetimes with mixed time zones will raise an error unless `utc=True`. Please specify `utc=True` to opt in to the new behaviour and silence this warning. To create a `Series` with mixed offsets and `object` dtype, please use `apply` and `datetime.datetime.strptime`\n",
      "  df[column] = pd.to_datetime(df[column], errors='coerce')\n",
      "/tmp/ipykernel_4023960/4212058569.py:18: UserWarning: The argument 'infer_datetime_format' is deprecated and will be removed in a future version. A strict version of it is now the default, see https://pandas.pydata.org/pdeps/0004-consistent-to-datetime-parsing.html. You can safely remove this argument.\n",
      "  df[column] = pd.to_datetime(df[column], errors='coerce', infer_datetime_format=True).dt.tz_convert('Europe/Helsinki')\n",
      "/tmp/ipykernel_4023960/4212058569.py:26: DeprecationWarning: DataFrameGroupBy.apply operated on the grouping columns. This behavior is deprecated, and in a future version of pandas the grouping columns will be excluded from the operation. Either pass `include_groups=False` to exclude the groupings or explicitly select the grouping columns after groupby to silence this warning.\n",
      "  .apply(lambda x: round((x['time_end_distance'].max() - x['time_start_distance'].min()).total_seconds() / 60, 2))\n"
     ]
    },
    {
     "name": "stdout",
     "output_type": "stream",
     "text": [
      "P3在1/6里，(tripchain)总长度和超出1h的长度： 924823 195326\n"
     ]
    }
   ],
   "source": [
    "##删除有P2的\n",
    "df = df_all_1[~df_all_1['line_name'].isin(wrong_detection_df['line_name'])]\n",
    "\n",
    "#进行P3, 记得得转时间格式\n",
    "activities_to_consider = ['BEACON', 'WALKING', 'RUNNING', 'IN_VEHICLE', 'COMBINED', 'ON_BICYCLE']\n",
    "# Iterate through each dataframe in the dictionary\n",
    "filtered_df = df[['temp_device','activity', 'tripchain_id',  'leg_order', 'time_start_distance', 'time_end_distance']]\n",
    "# Filter the DataFrame\n",
    "filtered_df = filtered_df[filtered_df['activity'].isin(activities_to_consider)]\n",
    "print('P3在1/6里, (legs)总长度和 in travelling 的长度', len(df), len(filtered_df),)\n",
    "      #'Proportion of legs that are in travelling:', len(filtered_df)/len(df_p21))\n",
    "\n",
    "def convert_time_columns_to_Helsinki_datetime(df):\n",
    "    for column in df.columns:\n",
    "        if column.startswith('time'):\n",
    "            # errors='coerce' will handle invalid parsing by setting NaT\n",
    "            df[column] = pd.to_datetime(df[column], errors='coerce')\n",
    "            df[column] = pd.to_datetime(df[column], errors='coerce', infer_datetime_format=True).dt.tz_convert('Europe/Helsinki') \n",
    "    return df\n",
    "convert_time_columns_to_Helsinki_datetime(filtered_df)\n",
    "\n",
    "# Group by tripchain_id and calculate the duration\n",
    "# result = pd.DataFrame(filtered_df.groupby('tripchain_id').apply(\n",
    "# lambda x: round((x['time_end_distance'].max() - x['time_start_distance'].min()).total_seconds()/60, 2)),columns=[\"total_duration_minutes\"]).reset_index()\n",
    "result_df = (filtered_df.groupby(['temp_device', 'tripchain_id'])\n",
    "    .apply(lambda x: round((x['time_end_distance'].max() - x['time_start_distance'].min()).total_seconds() / 60, 2))\n",
    "    .reset_index(name='total_duration_minutes'))\n",
    "\n",
    "more_than_1h = result_df[result_df['total_duration_minutes'] > 60]\n",
    "print('P3在1/6里，(tripchain)总长度和超出1h的长度：', len(result_df), len(more_than_1h))\n",
    "\n",
    "\n",
    "## 然后在P2的基础上删除P3\n",
    "mask = ~df.set_index(['temp_device', 'tripchain_id']).index.isin(\n",
    "    more_than_1h.set_index(['temp_device', 'tripchain_id']).index\n",
    ")\n",
    "\n",
    "# Filter df using the mask\n",
    "df_p41 = df[mask].reset_index(drop=True)\n",
    "df_p41.to_csv('/scratch/work/lyub2/Problem_output_September/P4/df_p41.csv', index = False)"
   ]
  },
  {
   "cell_type": "code",
   "execution_count": 6,
   "id": "37007c1a-ed1b-4e1c-90e5-08f005fdf9ff",
   "metadata": {},
   "outputs": [
    {
     "name": "stdout",
     "output_type": "stream",
     "text": [
      "P2在1/6里, (legs)去除P2前和去除P2后的长度 61904380 60804922\n"
     ]
    }
   ],
   "source": [
    "print('P2在1/6里, (legs)去除P2前和去除P2后的长度',len(df_all_1), len(df))"
   ]
  },
  {
   "cell_type": "code",
   "execution_count": 9,
   "id": "66bfdc44-2cbb-455b-8a41-3bba77c3dade",
   "metadata": {},
   "outputs": [
    {
     "name": "stdout",
     "output_type": "stream",
     "text": [
      "去除P2P3后的长度 32773312\n"
     ]
    }
   ],
   "source": [
    "print('去除P2P3后的长度', len(df_p41))"
   ]
  },
  {
   "cell_type": "code",
   "execution_count": 4,
   "id": "733340c7",
   "metadata": {
    "scrolled": true
   },
   "outputs": [],
   "source": [
    "df_all_2= pd.read_csv(\"/scratch/work/lyub2/Problem_output_September/P1/df_all_2.csv\")"
   ]
  },
  {
   "cell_type": "code",
   "execution_count": 5,
   "id": "122ef22c-e68f-41f3-954b-84ad78766062",
   "metadata": {},
   "outputs": [
    {
     "name": "stdout",
     "output_type": "stream",
     "text": [
      "P2在2/6里, (legs)去除P2前和去除P2后的长度 32998220 32401192\n",
      "P3在2/6里, (legs)总长度和 in travelling 的长度 32401192 28154701\n"
     ]
    },
    {
     "name": "stderr",
     "output_type": "stream",
     "text": [
      "/tmp/ipykernel_4035926/2238402059.py:18: UserWarning: The argument 'infer_datetime_format' is deprecated and will be removed in a future version. A strict version of it is now the default, see https://pandas.pydata.org/pdeps/0004-consistent-to-datetime-parsing.html. You can safely remove this argument.\n",
      "  df[column] = pd.to_datetime(df[column], errors='coerce', infer_datetime_format=True).dt.tz_convert('Europe/Helsinki')\n",
      "/tmp/ipykernel_4035926/2238402059.py:18: UserWarning: The argument 'infer_datetime_format' is deprecated and will be removed in a future version. A strict version of it is now the default, see https://pandas.pydata.org/pdeps/0004-consistent-to-datetime-parsing.html. You can safely remove this argument.\n",
      "  df[column] = pd.to_datetime(df[column], errors='coerce', infer_datetime_format=True).dt.tz_convert('Europe/Helsinki')\n",
      "/tmp/ipykernel_4035926/2238402059.py:26: DeprecationWarning: DataFrameGroupBy.apply operated on the grouping columns. This behavior is deprecated, and in a future version of pandas the grouping columns will be excluded from the operation. Either pass `include_groups=False` to exclude the groupings or explicitly select the grouping columns after groupby to silence this warning.\n",
      "  .apply(lambda x: round((x['time_end_distance'].max() - x['time_start_distance'].min()).total_seconds() / 60, 2))\n"
     ]
    },
    {
     "name": "stdout",
     "output_type": "stream",
     "text": [
      "P3在2/6里，(tripchain)总长度和超出1h的长度： 483784 106130\n",
      "去除P2P3后的长度 16906025\n"
     ]
    }
   ],
   "source": [
    "##删除有P2的\n",
    "df = df_all_2[~df_all_2['line_name'].isin(wrong_detection_df['line_name'])]\n",
    "print('P2在2/6里, (legs)去除P2前和去除P2后的长度', len(df_all_2), len(df))\n",
    "#进行P3, 记得得转时间格式\n",
    "activities_to_consider = ['BEACON', 'WALKING', 'RUNNING', 'IN_VEHICLE', 'COMBINED', 'ON_BICYCLE']\n",
    "# Iterate through each dataframe in the dictionary\n",
    "filtered_df = df[['temp_device','activity', 'tripchain_id',  'leg_order', 'time_start_distance', 'time_end_distance']]\n",
    "# Filter the DataFrame\n",
    "filtered_df = filtered_df[filtered_df['activity'].isin(activities_to_consider)]\n",
    "print('P3在2/6里, (legs)总长度和 in travelling 的长度', len(df), len(filtered_df),)\n",
    "      #'Proportion of legs that are in travelling:', len(filtered_df)/len(df_p21))\n",
    "\n",
    "def convert_time_columns_to_Helsinki_datetime(df):\n",
    "    for column in df.columns:\n",
    "        if column.startswith('time'):\n",
    "            # errors='coerce' will handle invalid parsing by setting NaT\n",
    "            df[column] = pd.to_datetime(df[column], errors='coerce')\n",
    "            df[column] = pd.to_datetime(df[column], errors='coerce', infer_datetime_format=True).dt.tz_convert('Europe/Helsinki') \n",
    "    return df\n",
    "convert_time_columns_to_Helsinki_datetime(filtered_df)\n",
    "\n",
    "# Group by tripchain_id and calculate the duration\n",
    "# result = pd.DataFrame(filtered_df.groupby('tripchain_id').apply(\n",
    "# lambda x: round((x['time_end_distance'].max() - x['time_start_distance'].min()).total_seconds()/60, 2)),columns=[\"total_duration_minutes\"]).reset_index()\n",
    "result_df = (filtered_df.groupby(['temp_device', 'tripchain_id'])\n",
    "    .apply(lambda x: round((x['time_end_distance'].max() - x['time_start_distance'].min()).total_seconds() / 60, 2))\n",
    "    .reset_index(name='total_duration_minutes'))\n",
    "\n",
    "more_than_1h = result_df[result_df['total_duration_minutes'] > 60]\n",
    "print('P3在2/6里，(tripchain)总长度和超出1h的长度：', len(result_df), len(more_than_1h))\n",
    "\n",
    "\n",
    "## 然后在P2的基础上删除P3\n",
    "mask = ~df.set_index(['temp_device', 'tripchain_id']).index.isin(\n",
    "    more_than_1h.set_index(['temp_device', 'tripchain_id']).index\n",
    ")\n",
    "\n",
    "# Filter df using the mask\n",
    "df_p42 = df[mask].reset_index(drop=True)\n",
    "print('去除P2P3后的长度', len(df_p42))\n",
    "df_p42.to_csv('/scratch/work/lyub2/Problem_output_September/P4/df_p42.csv', index = False)"
   ]
  },
  {
   "cell_type": "code",
   "execution_count": 6,
   "id": "6ba44e19-75b7-47c5-9e2a-e1d4d0758cfb",
   "metadata": {},
   "outputs": [],
   "source": [
    "df_all_3= pd.read_csv(\"/scratch/work/lyub2/Problem_output_September/P1/df_all_3.csv\")"
   ]
  },
  {
   "cell_type": "code",
   "execution_count": 7,
   "id": "2d5199c5-79dd-46a7-b9ca-60e3e87682e9",
   "metadata": {},
   "outputs": [
    {
     "name": "stdout",
     "output_type": "stream",
     "text": [
      "P2在3/6里, (legs)去除P2前和去除P2后的长度 63559191 62341788\n",
      "P3在3/6里, (legs)总长度和 in travelling 的长度 62341788 54416407\n"
     ]
    },
    {
     "name": "stderr",
     "output_type": "stream",
     "text": [
      "/tmp/ipykernel_4035926/3957622912.py:17: FutureWarning: In a future version of pandas, parsing datetimes with mixed time zones will raise an error unless `utc=True`. Please specify `utc=True` to opt in to the new behaviour and silence this warning. To create a `Series` with mixed offsets and `object` dtype, please use `apply` and `datetime.datetime.strptime`\n",
      "  df[column] = pd.to_datetime(df[column], errors='coerce')\n",
      "/tmp/ipykernel_4035926/3957622912.py:18: UserWarning: The argument 'infer_datetime_format' is deprecated and will be removed in a future version. A strict version of it is now the default, see https://pandas.pydata.org/pdeps/0004-consistent-to-datetime-parsing.html. You can safely remove this argument.\n",
      "  df[column] = pd.to_datetime(df[column], errors='coerce', infer_datetime_format=True).dt.tz_convert('Europe/Helsinki')\n",
      "/tmp/ipykernel_4035926/3957622912.py:17: FutureWarning: In a future version of pandas, parsing datetimes with mixed time zones will raise an error unless `utc=True`. Please specify `utc=True` to opt in to the new behaviour and silence this warning. To create a `Series` with mixed offsets and `object` dtype, please use `apply` and `datetime.datetime.strptime`\n",
      "  df[column] = pd.to_datetime(df[column], errors='coerce')\n",
      "/tmp/ipykernel_4035926/3957622912.py:18: UserWarning: The argument 'infer_datetime_format' is deprecated and will be removed in a future version. A strict version of it is now the default, see https://pandas.pydata.org/pdeps/0004-consistent-to-datetime-parsing.html. You can safely remove this argument.\n",
      "  df[column] = pd.to_datetime(df[column], errors='coerce', infer_datetime_format=True).dt.tz_convert('Europe/Helsinki')\n",
      "/tmp/ipykernel_4035926/3957622912.py:26: DeprecationWarning: DataFrameGroupBy.apply operated on the grouping columns. This behavior is deprecated, and in a future version of pandas the grouping columns will be excluded from the operation. Either pass `include_groups=False` to exclude the groupings or explicitly select the grouping columns after groupby to silence this warning.\n",
      "  .apply(lambda x: round((x['time_end_distance'].max() - x['time_start_distance'].min()).total_seconds() / 60, 2))\n"
     ]
    },
    {
     "name": "stdout",
     "output_type": "stream",
     "text": [
      "P3在3/6里，(tripchain)总长度和超出1h的长度： 960644 196186\n",
      "去除P2P3后的长度 34075388\n"
     ]
    }
   ],
   "source": [
    "##删除有P2的\n",
    "df = df_all_3[~df_all_3['line_name'].isin(wrong_detection_df['line_name'])]\n",
    "print('P2在3/6里, (legs)去除P2前和去除P2后的长度', len(df_all_3), len(df))\n",
    "#进行P3, 记得得转时间格式\n",
    "activities_to_consider = ['BEACON', 'WALKING', 'RUNNING', 'IN_VEHICLE', 'COMBINED', 'ON_BICYCLE']\n",
    "# Iterate through each dataframe in the dictionary\n",
    "filtered_df = df[['temp_device','activity', 'tripchain_id',  'leg_order', 'time_start_distance', 'time_end_distance']]\n",
    "# Filter the DataFrame\n",
    "filtered_df = filtered_df[filtered_df['activity'].isin(activities_to_consider)]\n",
    "print('P3在3/6里, (legs)总长度和 in travelling 的长度', len(df), len(filtered_df),)\n",
    "      #'Proportion of legs that are in travelling:', len(filtered_df)/len(df_p21))\n",
    "\n",
    "def convert_time_columns_to_Helsinki_datetime(df):\n",
    "    for column in df.columns:\n",
    "        if column.startswith('time'):\n",
    "            # errors='coerce' will handle invalid parsing by setting NaT\n",
    "            df[column] = pd.to_datetime(df[column], errors='coerce')\n",
    "            df[column] = pd.to_datetime(df[column], errors='coerce', infer_datetime_format=True).dt.tz_convert('Europe/Helsinki') \n",
    "    return df\n",
    "convert_time_columns_to_Helsinki_datetime(filtered_df)\n",
    "\n",
    "# Group by tripchain_id and calculate the duration\n",
    "# result = pd.DataFrame(filtered_df.groupby('tripchain_id').apply(\n",
    "# lambda x: round((x['time_end_distance'].max() - x['time_start_distance'].min()).total_seconds()/60, 2)),columns=[\"total_duration_minutes\"]).reset_index()\n",
    "result_df = (filtered_df.groupby(['temp_device', 'tripchain_id'])\n",
    "    .apply(lambda x: round((x['time_end_distance'].max() - x['time_start_distance'].min()).total_seconds() / 60, 2))\n",
    "    .reset_index(name='total_duration_minutes'))\n",
    "\n",
    "more_than_1h = result_df[result_df['total_duration_minutes'] > 60]\n",
    "print('P3在3/6里，(tripchain)总长度和超出1h的长度：', len(result_df), len(more_than_1h))\n",
    "\n",
    "\n",
    "## 然后在P2的基础上删除P3\n",
    "mask = ~df.set_index(['temp_device', 'tripchain_id']).index.isin(\n",
    "    more_than_1h.set_index(['temp_device', 'tripchain_id']).index\n",
    ")\n",
    "\n",
    "# Filter df using the mask\n",
    "df_p43 = df[mask].reset_index(drop=True)\n",
    "print('去除P2P3后的长度', len(df_p43))\n",
    "df_p43.to_csv('/scratch/work/lyub2/Problem_output_September/P4/df_p43.csv', index = False)"
   ]
  },
  {
   "cell_type": "code",
   "execution_count": 8,
   "id": "8e80af9f-502a-468d-be85-b68e879075ac",
   "metadata": {},
   "outputs": [],
   "source": [
    "df_all_4= pd.read_csv(\"/scratch/work/lyub2/Problem_output_September/P1/df_all_4.csv\")"
   ]
  },
  {
   "cell_type": "code",
   "execution_count": 9,
   "id": "b781a90d-5117-4394-86df-e905097be66b",
   "metadata": {},
   "outputs": [
    {
     "name": "stdout",
     "output_type": "stream",
     "text": [
      "P2在4/6里, (legs)去除P2前和去除P2后的长度 36846955 36188121\n",
      "P3在4/6里, (legs)总长度和 in travelling 的长度 36188121 31492165\n"
     ]
    },
    {
     "name": "stderr",
     "output_type": "stream",
     "text": [
      "/tmp/ipykernel_4035926/3554944260.py:17: FutureWarning: In a future version of pandas, parsing datetimes with mixed time zones will raise an error unless `utc=True`. Please specify `utc=True` to opt in to the new behaviour and silence this warning. To create a `Series` with mixed offsets and `object` dtype, please use `apply` and `datetime.datetime.strptime`\n",
      "  df[column] = pd.to_datetime(df[column], errors='coerce')\n",
      "/tmp/ipykernel_4035926/3554944260.py:18: UserWarning: The argument 'infer_datetime_format' is deprecated and will be removed in a future version. A strict version of it is now the default, see https://pandas.pydata.org/pdeps/0004-consistent-to-datetime-parsing.html. You can safely remove this argument.\n",
      "  df[column] = pd.to_datetime(df[column], errors='coerce', infer_datetime_format=True).dt.tz_convert('Europe/Helsinki')\n",
      "/tmp/ipykernel_4035926/3554944260.py:17: FutureWarning: In a future version of pandas, parsing datetimes with mixed time zones will raise an error unless `utc=True`. Please specify `utc=True` to opt in to the new behaviour and silence this warning. To create a `Series` with mixed offsets and `object` dtype, please use `apply` and `datetime.datetime.strptime`\n",
      "  df[column] = pd.to_datetime(df[column], errors='coerce')\n",
      "/tmp/ipykernel_4035926/3554944260.py:18: UserWarning: The argument 'infer_datetime_format' is deprecated and will be removed in a future version. A strict version of it is now the default, see https://pandas.pydata.org/pdeps/0004-consistent-to-datetime-parsing.html. You can safely remove this argument.\n",
      "  df[column] = pd.to_datetime(df[column], errors='coerce', infer_datetime_format=True).dt.tz_convert('Europe/Helsinki')\n",
      "/tmp/ipykernel_4035926/3554944260.py:26: DeprecationWarning: DataFrameGroupBy.apply operated on the grouping columns. This behavior is deprecated, and in a future version of pandas the grouping columns will be excluded from the operation. Either pass `include_groups=False` to exclude the groupings or explicitly select the grouping columns after groupby to silence this warning.\n",
      "  .apply(lambda x: round((x['time_end_distance'].max() - x['time_start_distance'].min()).total_seconds() / 60, 2))\n"
     ]
    },
    {
     "name": "stdout",
     "output_type": "stream",
     "text": [
      "P3在4/6里，(tripchain)总长度和超出1h的长度： 560655 116028\n",
      "去除P2P3后的长度 19629007\n"
     ]
    }
   ],
   "source": [
    "df = df_all_4[~df_all_4['line_name'].isin(wrong_detection_df['line_name'])]\n",
    "print('P2在4/6里, (legs)去除P2前和去除P2后的长度', len(df_all_4), len(df))\n",
    "\n",
    "#进行P3, 记得得转时间格式\n",
    "activities_to_consider = ['BEACON', 'WALKING', 'RUNNING', 'IN_VEHICLE', 'COMBINED', 'ON_BICYCLE']\n",
    "# Iterate through each dataframe in the dictionary\n",
    "filtered_df = df[['temp_device','activity', 'tripchain_id',  'leg_order', 'time_start_distance', 'time_end_distance']]\n",
    "# Filter the DataFrame\n",
    "filtered_df = filtered_df[filtered_df['activity'].isin(activities_to_consider)]\n",
    "print('P3在4/6里, (legs)总长度和 in travelling 的长度', len(df), len(filtered_df),)\n",
    "      #'Proportion of legs that are in travelling:', len(filtered_df)/len(df_p21))\n",
    "\n",
    "def convert_time_columns_to_Helsinki_datetime(df):\n",
    "    for column in df.columns:\n",
    "        if column.startswith('time'):\n",
    "            # errors='coerce' will handle invalid parsing by setting NaT\n",
    "            df[column] = pd.to_datetime(df[column], errors='coerce')\n",
    "            df[column] = pd.to_datetime(df[column], errors='coerce', infer_datetime_format=True).dt.tz_convert('Europe/Helsinki') \n",
    "    return df\n",
    "convert_time_columns_to_Helsinki_datetime(filtered_df)\n",
    "\n",
    "# Group by tripchain_id and calculate the duration\n",
    "# result = pd.DataFrame(filtered_df.groupby('tripchain_id').apply(\n",
    "# lambda x: round((x['time_end_distance'].max() - x['time_start_distance'].min()).total_seconds()/60, 2)),columns=[\"total_duration_minutes\"]).reset_index()\n",
    "result_df = (filtered_df.groupby(['temp_device', 'tripchain_id'])\n",
    "    .apply(lambda x: round((x['time_end_distance'].max() - x['time_start_distance'].min()).total_seconds() / 60, 2))\n",
    "    .reset_index(name='total_duration_minutes'))\n",
    "\n",
    "more_than_1h = result_df[result_df['total_duration_minutes'] > 60]\n",
    "print('P3在4/6里，(tripchain)总长度和超出1h的长度：', len(result_df), len(more_than_1h))\n",
    "\n",
    "\n",
    "## 然后在P2的基础上删除P3\n",
    "mask = ~df.set_index(['temp_device', 'tripchain_id']).index.isin(\n",
    "    more_than_1h.set_index(['temp_device', 'tripchain_id']).index\n",
    ")\n",
    "\n",
    "# Filter df using the mask\n",
    "df_p44 = df[mask].reset_index(drop=True)\n",
    "print('去除P2P3后的长度', len(df_p44))\n",
    "df_p44.to_csv('/scratch/work/lyub2/Problem_output_September/P4/df_p44.csv', index = False)"
   ]
  },
  {
   "cell_type": "code",
   "execution_count": 3,
   "id": "3c436ae6-ddbb-4655-a8a2-dbfde8f1e669",
   "metadata": {},
   "outputs": [],
   "source": [
    "df_all_5= pd.read_csv(\"/scratch/work/lyub2/Problem_output_September/P1/df_all_5.csv\")"
   ]
  },
  {
   "cell_type": "code",
   "execution_count": 4,
   "id": "63fe7ba7-b35b-486d-8bee-ef2c7382d86d",
   "metadata": {},
   "outputs": [
    {
     "name": "stdout",
     "output_type": "stream",
     "text": [
      "P2在5/6里, (legs)去除P2前和去除P2后的长度 49499313 48532143\n",
      "P3在5/6里, (legs)总长度和 in travelling 的长度 48532143 42236539\n"
     ]
    },
    {
     "name": "stderr",
     "output_type": "stream",
     "text": [
      "/tmp/ipykernel_1785825/709372690.py:17: FutureWarning: In a future version of pandas, parsing datetimes with mixed time zones will raise an error unless `utc=True`. Please specify `utc=True` to opt in to the new behaviour and silence this warning. To create a `Series` with mixed offsets and `object` dtype, please use `apply` and `datetime.datetime.strptime`\n",
      "  df[column] = pd.to_datetime(df[column], errors='coerce')\n",
      "/tmp/ipykernel_1785825/709372690.py:18: UserWarning: The argument 'infer_datetime_format' is deprecated and will be removed in a future version. A strict version of it is now the default, see https://pandas.pydata.org/pdeps/0004-consistent-to-datetime-parsing.html. You can safely remove this argument.\n",
      "  df[column] = pd.to_datetime(df[column], errors='coerce', infer_datetime_format=True).dt.tz_convert('Europe/Helsinki')\n",
      "/tmp/ipykernel_1785825/709372690.py:17: FutureWarning: In a future version of pandas, parsing datetimes with mixed time zones will raise an error unless `utc=True`. Please specify `utc=True` to opt in to the new behaviour and silence this warning. To create a `Series` with mixed offsets and `object` dtype, please use `apply` and `datetime.datetime.strptime`\n",
      "  df[column] = pd.to_datetime(df[column], errors='coerce')\n",
      "/tmp/ipykernel_1785825/709372690.py:18: UserWarning: The argument 'infer_datetime_format' is deprecated and will be removed in a future version. A strict version of it is now the default, see https://pandas.pydata.org/pdeps/0004-consistent-to-datetime-parsing.html. You can safely remove this argument.\n",
      "  df[column] = pd.to_datetime(df[column], errors='coerce', infer_datetime_format=True).dt.tz_convert('Europe/Helsinki')\n",
      "/tmp/ipykernel_1785825/709372690.py:26: DeprecationWarning: DataFrameGroupBy.apply operated on the grouping columns. This behavior is deprecated, and in a future version of pandas the grouping columns will be excluded from the operation. Either pass `include_groups=False` to exclude the groupings or explicitly select the grouping columns after groupby to silence this warning.\n",
      "  .apply(lambda x: round((x['time_end_distance'].max() - x['time_start_distance'].min()).total_seconds() / 60, 2))\n"
     ]
    },
    {
     "name": "stdout",
     "output_type": "stream",
     "text": [
      "P3在5/6里，(tripchain)总长度和超出1h的长度： 743357 155960\n",
      "去除P2P3后的长度 26215546\n"
     ]
    }
   ],
   "source": [
    "df = df_all_5[~df_all_5['line_name'].isin(wrong_detection_df['line_name'])]\n",
    "print('P2在5/6里, (legs)去除P2前和去除P2后的长度', len(df_all_5), len(df))\n",
    "\n",
    "#进行P3, 记得得转时间格式\n",
    "activities_to_consider = ['BEACON', 'WALKING', 'RUNNING', 'IN_VEHICLE', 'COMBINED', 'ON_BICYCLE']\n",
    "# Iterate through each dataframe in the dictionary\n",
    "filtered_df = df[['temp_device','activity', 'tripchain_id',  'leg_order', 'time_start_distance', 'time_end_distance']]\n",
    "# Filter the DataFrame\n",
    "filtered_df = filtered_df[filtered_df['activity'].isin(activities_to_consider)]\n",
    "print('P3在5/6里, (legs)总长度和 in travelling 的长度', len(df), len(filtered_df),)\n",
    "      #'Proportion of legs that are in travelling:', len(filtered_df)/len(df_p21))\n",
    "\n",
    "def convert_time_columns_to_Helsinki_datetime(df):\n",
    "    for column in df.columns:\n",
    "        if column.startswith('time'):\n",
    "            # errors='coerce' will handle invalid parsing by setting NaT\n",
    "            df[column] = pd.to_datetime(df[column], errors='coerce')\n",
    "            df[column] = pd.to_datetime(df[column], errors='coerce', infer_datetime_format=True).dt.tz_convert('Europe/Helsinki') \n",
    "    return df\n",
    "convert_time_columns_to_Helsinki_datetime(filtered_df)\n",
    "\n",
    "# Group by tripchain_id and calculate the duration\n",
    "# result = pd.DataFrame(filtered_df.groupby('tripchain_id').apply(\n",
    "# lambda x: round((x['time_end_distance'].max() - x['time_start_distance'].min()).total_seconds()/60, 2)),columns=[\"total_duration_minutes\"]).reset_index()\n",
    "result_df = (filtered_df.groupby(['temp_device', 'tripchain_id'])\n",
    "    .apply(lambda x: round((x['time_end_distance'].max() - x['time_start_distance'].min()).total_seconds() / 60, 2))\n",
    "    .reset_index(name='total_duration_minutes'))\n",
    "\n",
    "more_than_1h = result_df[result_df['total_duration_minutes'] > 60]\n",
    "print('P3在5/6里，(tripchain)总长度和超出1h的长度：', len(result_df), len(more_than_1h))\n",
    "\n",
    "\n",
    "## 然后在P2的基础上删除P3\n",
    "mask = ~df.set_index(['temp_device', 'tripchain_id']).index.isin(\n",
    "    more_than_1h.set_index(['temp_device', 'tripchain_id']).index\n",
    ")\n",
    "\n",
    "# Filter df using the mask\n",
    "df_p45 = df[mask].reset_index(drop=True)\n",
    "print('去除P2P3后的长度', len(df_p45))\n",
    "df_p45.to_csv('/scratch/work/lyub2/Problem_output_September/P4/df_p45.csv', index = False)"
   ]
  },
  {
   "cell_type": "code",
   "execution_count": 3,
   "id": "c6558dfe-119f-4a29-a654-ff351f1cb12d",
   "metadata": {},
   "outputs": [],
   "source": [
    "df_all_6= pd.read_csv(\"/scratch/work/lyub2/Problem_output_September/P1/df_all_6.csv\")"
   ]
  },
  {
   "cell_type": "code",
   "execution_count": 4,
   "id": "0ba69d0a-a8c1-4633-b926-1b7376b00be8",
   "metadata": {
    "scrolled": true
   },
   "outputs": [
    {
     "name": "stdout",
     "output_type": "stream",
     "text": [
      "P2在6/6里, (legs)去除P2前和去除P2后的长度 52821215 51779694\n",
      "P3在6/6里, (legs)总长度和 in travelling 的长度 51779694 45216980\n"
     ]
    },
    {
     "name": "stderr",
     "output_type": "stream",
     "text": [
      "/tmp/ipykernel_1801860/4031616599.py:17: FutureWarning: In a future version of pandas, parsing datetimes with mixed time zones will raise an error unless `utc=True`. Please specify `utc=True` to opt in to the new behaviour and silence this warning. To create a `Series` with mixed offsets and `object` dtype, please use `apply` and `datetime.datetime.strptime`\n",
      "  df[column] = pd.to_datetime(df[column], errors='coerce')\n",
      "/tmp/ipykernel_1801860/4031616599.py:18: UserWarning: The argument 'infer_datetime_format' is deprecated and will be removed in a future version. A strict version of it is now the default, see https://pandas.pydata.org/pdeps/0004-consistent-to-datetime-parsing.html. You can safely remove this argument.\n",
      "  df[column] = pd.to_datetime(df[column], errors='coerce', infer_datetime_format=True).dt.tz_convert('Europe/Helsinki')\n",
      "/tmp/ipykernel_1801860/4031616599.py:17: FutureWarning: In a future version of pandas, parsing datetimes with mixed time zones will raise an error unless `utc=True`. Please specify `utc=True` to opt in to the new behaviour and silence this warning. To create a `Series` with mixed offsets and `object` dtype, please use `apply` and `datetime.datetime.strptime`\n",
      "  df[column] = pd.to_datetime(df[column], errors='coerce')\n",
      "/tmp/ipykernel_1801860/4031616599.py:18: UserWarning: The argument 'infer_datetime_format' is deprecated and will be removed in a future version. A strict version of it is now the default, see https://pandas.pydata.org/pdeps/0004-consistent-to-datetime-parsing.html. You can safely remove this argument.\n",
      "  df[column] = pd.to_datetime(df[column], errors='coerce', infer_datetime_format=True).dt.tz_convert('Europe/Helsinki')\n",
      "/tmp/ipykernel_1801860/4031616599.py:26: DeprecationWarning: DataFrameGroupBy.apply operated on the grouping columns. This behavior is deprecated, and in a future version of pandas the grouping columns will be excluded from the operation. Either pass `include_groups=False` to exclude the groupings or explicitly select the grouping columns after groupby to silence this warning.\n",
      "  .apply(lambda x: round((x['time_end_distance'].max() - x['time_start_distance'].min()).total_seconds() / 60, 2))\n"
     ]
    },
    {
     "name": "stdout",
     "output_type": "stream",
     "text": [
      "P3在6/6里，(tripchain)总长度和超出1h的长度： 831687 166929\n",
      "去除P2P3后的长度 28685720\n"
     ]
    }
   ],
   "source": [
    "df = df_all_6[~df_all_6['line_name'].isin(wrong_detection_df['line_name'])]\n",
    "print('P2在6/6里, (legs)去除P2前和去除P2后的长度', len(df_all_6), len(df))\n",
    "\n",
    "#进行P3, 记得得转时间格式\n",
    "activities_to_consider = ['BEACON', 'WALKING', 'RUNNING', 'IN_VEHICLE', 'COMBINED', 'ON_BICYCLE']\n",
    "# Iterate through each dataframe in the dictionary\n",
    "filtered_df = df[['temp_device','activity', 'tripchain_id',  'leg_order', 'time_start_distance', 'time_end_distance']]\n",
    "# Filter the DataFrame\n",
    "filtered_df = filtered_df[filtered_df['activity'].isin(activities_to_consider)]\n",
    "print('P3在6/6里, (legs)总长度和 in travelling 的长度', len(df), len(filtered_df),)\n",
    "      #'Proportion of legs that are in travelling:', len(filtered_df)/len(df_p21))\n",
    "\n",
    "def convert_time_columns_to_Helsinki_datetime(df):\n",
    "    for column in df.columns:\n",
    "        if column.startswith('time'):\n",
    "            # errors='coerce' will handle invalid parsing by setting NaT\n",
    "            df[column] = pd.to_datetime(df[column], errors='coerce')\n",
    "            df[column] = pd.to_datetime(df[column], errors='coerce', infer_datetime_format=True).dt.tz_convert('Europe/Helsinki') \n",
    "    return df\n",
    "convert_time_columns_to_Helsinki_datetime(filtered_df)\n",
    "\n",
    "# Group by tripchain_id and calculate the duration\n",
    "# result = pd.DataFrame(filtered_df.groupby('tripchain_id').apply(\n",
    "# lambda x: round((x['time_end_distance'].max() - x['time_start_distance'].min()).total_seconds()/60, 2)),columns=[\"total_duration_minutes\"]).reset_index()\n",
    "result_df = (filtered_df.groupby(['temp_device', 'tripchain_id'])\n",
    "    .apply(lambda x: round((x['time_end_distance'].max() - x['time_start_distance'].min()).total_seconds() / 60, 2))\n",
    "    .reset_index(name='total_duration_minutes'))\n",
    "\n",
    "more_than_1h = result_df[result_df['total_duration_minutes'] > 60]\n",
    "print('P3在6/6里，(tripchain)总长度和超出1h的长度：', len(result_df), len(more_than_1h))\n",
    "\n",
    "\n",
    "## 然后在P2的基础上删除P3\n",
    "mask = ~df.set_index(['temp_device', 'tripchain_id']).index.isin(\n",
    "    more_than_1h.set_index(['temp_device', 'tripchain_id']).index\n",
    ")\n",
    "\n",
    "# Filter df using the mask\n",
    "df_p46 = df[mask].reset_index(drop=True)\n",
    "print('去除P2P3后的长度', len(df_p46))\n",
    "df_p46.to_csv('/scratch/work/lyub2/Problem_output_September/P4/df_p46.csv', index = False)"
   ]
  },
  {
   "cell_type": "markdown",
   "id": "c9101808-f613-41f8-9309-5a64c03d0526",
   "metadata": {},
   "source": [
    "## 结果"
   ]
  },
  {
   "cell_type": "code",
   "execution_count": 17,
   "id": "e54b57d0-d791-4ecc-a949-2f76e5a0ed8b",
   "metadata": {},
   "outputs": [
    {
     "name": "stdout",
     "output_type": "stream",
     "text": [
      "263907877.0 258958837.0 4949040.0 \n",
      " 225598889.0 87.12 \n",
      " 4504950 936559 20.79\n"
     ]
    }
   ],
   "source": [
    "#total legs before filtering out P2P3\n",
    "total_legs = round((61904380  + 32998220 + 63559191 + 36846955 + 49499313 + 52821215) * (1-0.1133), 0)\n",
    "legs_after_p2 = round((60804922 + 32401192 + 62341788 + 36188121 + 48532143 + 51779694) * (1-0.1133), 0)\n",
    "legs_p2 = total_legs - legs_after_p2\n",
    "\n",
    "#legs with travelling activities after filtering P2\n",
    "legs_travelling_after_p2 = round((52908480 + 28154701 + 54416407 + 31492165 + 42236539 + 45216980) * (1-0.1133), 0)\n",
    "proport_travelling_legs = round(legs_travelling_after_p2/legs_after_p2 * 100, 2)\n",
    "\n",
    "#trip chains after filtering out P2\n",
    "tripchains_after_p2 = 924823 + 483784 + 960644 + 560655 + 743357 + 831687\n",
    "tc_more_than_1h = 195326 + 106130 + 196186 + 116028 + 155960 + 166929\n",
    "proport_tc_more_than_1h = round(tc_more_than_1h/tripchains_after_p2 * 100, 2)\n",
    "\n",
    "print(total_legs, legs_after_p2, legs_p2,'\\n' ,\n",
    "      legs_travelling_after_p2, proport_travelling_legs, '\\n',\n",
    "      tripchains_after_p2, tc_more_than_1h, proport_tc_more_than_1h)"
   ]
  },
  {
   "cell_type": "code",
   "execution_count": 2,
   "id": "ec6a1aa2",
   "metadata": {},
   "outputs": [
    {
     "name": "stdout",
     "output_type": "stream",
     "text": [
      "297629274 292047860 5581414 \n",
      " 254425272 87.12 \n",
      " 4504950 936559 20.79\n"
     ]
    }
   ],
   "source": [
    "#total legs before filtering out P2P3\n",
    "total_legs = round(61904380  + 32998220 + 63559191 + 36846955 + 49499313 + 52821215, 0)\n",
    "legs_after_p2 = round(60804922 + 32401192 + 62341788 + 36188121 + 48532143 + 51779694, 0)\n",
    "legs_p2 = total_legs - legs_after_p2\n",
    "\n",
    "#legs with travelling activities after filtering P2\n",
    "legs_travelling_after_p2 = round(52908480 + 28154701 + 54416407 + 31492165 + 42236539 + 45216980, 0)\n",
    "proport_travelling_legs = round(legs_travelling_after_p2/legs_after_p2 * 100, 2)\n",
    "\n",
    "#trip chains after filtering out P2\n",
    "tripchains_after_p2 = 924823 + 483784 + 960644 + 560655 + 743357 + 831687\n",
    "tc_more_than_1h = 195326 + 106130 + 196186 + 116028 + 155960 + 166929\n",
    "proport_tc_more_than_1h = round(tc_more_than_1h/tripchains_after_p2 * 100, 2)\n",
    "\n",
    "print(total_legs, legs_after_p2, legs_p2,'\\n' ,\n",
    "      legs_travelling_after_p2, proport_travelling_legs, '\\n',\n",
    "      tripchains_after_p2, tc_more_than_1h, proport_tc_more_than_1h)"
   ]
  },
  {
   "cell_type": "markdown",
   "id": "5285a0ef",
   "metadata": {
    "jp-MarkdownHeadingCollapsed": true
   },
   "source": [
    "## numerical类型"
   ]
  },
  {
   "cell_type": "code",
   "execution_count": 11,
   "id": "45a14164-2822-48e9-ae9c-897646c2c763",
   "metadata": {
    "scrolled": true
   },
   "outputs": [
    {
     "name": "stderr",
     "output_type": "stream",
     "text": [
      "Processing folders: 100%|██████████| 30/30 [22:10<00:00, 44.34s/it] \n"
     ]
    }
   ],
   "source": [
    "## distance table\n",
    "numerical_columns = ['leg_order', 'km']\n",
    "\n",
    "folder_path = '/scratch/work/lyub2/2.df_tc_09'\n",
    "file_prefix = 'df_tc_'\n",
    "file_suffix = '.csv'\n",
    "\n",
    "\n",
    "df_nue_dis = pd.DataFrame()\n",
    "\n",
    "for i in tqdm(range(1, 31), desc=\"Processing folders\"):\n",
    "    file_name = f'{file_prefix}{i:02d}{file_suffix}'\n",
    "    file_path = os.path.join(folder_path, file_name)\n",
    "    \n",
    "    # Read the CSV file\n",
    "    df_tc = pd.read_csv(file_path, usecols = numerical_columns)\n",
    "    \n",
    "    df_nue_dis = pd.concat([df_nue_dis, df_tc[numerical_columns]], ignore_index=True)\n",
    "\n"
   ]
  },
  {
   "cell_type": "code",
   "execution_count": 6,
   "id": "2dfd48cf-523c-4f91-948f-c7d9b9b4323b",
   "metadata": {},
   "outputs": [],
   "source": [
    "df_nue_dis.to_csv('/scratch/work/lyub2/Problem_output_September/P1/df_nue_dis.csv', index = False)"
   ]
  },
  {
   "cell_type": "code",
   "execution_count": 2,
   "id": "cf0ca48f",
   "metadata": {},
   "outputs": [],
   "source": [
    "df_nue_dis= pd.read_csv(\"/scratch/work/lyub2/Problem_output_September/P1/df_nue_dis.csv\")"
   ]
  },
  {
   "cell_type": "code",
   "execution_count": 25,
   "id": "dee0fbc4-3533-4132-a135-f5e9ea9edfbe",
   "metadata": {},
   "outputs": [
    {
     "data": {
      "text/plain": [
       "Index(['leg_order', 'id', 'km', 'time_start_distance'], dtype='object')"
      ]
     },
     "execution_count": 25,
     "metadata": {},
     "output_type": "execute_result"
    }
   ],
   "source": [
    "df_nue.columns"
   ]
  },
  {
   "cell_type": "code",
   "execution_count": 12,
   "id": "7e39331f-56d6-4a20-891a-d479db9f360f",
   "metadata": {
    "scrolled": true
   },
   "outputs": [
    {
     "data": {
      "image/png": "[encoded data removed]",
      "text/plain": [
       "<Figure size 800x600 with 1 Axes>"
      ]
     },
     "metadata": {},
     "output_type": "display_data"
    }
   ],
   "source": [
    "## Distance table plot Data distribution\n",
    "plt.figure(figsize=(8, 6))\n",
    "\n",
    "plt.hist(df_nue_dis['leg_order'].dropna(), bins=30, color='skyblue', log=True)  # Use log=True to plot the y-axis on a logarithmic scale\n",
    "plt.title('Log-Scale Histogram of leg order of Distance Features')\n",
    "plt.xlabel('Leg_order')\n",
    "plt.ylabel('Frequency (log scale)')\n",
    "\n",
    "nan_count = df_nue_dis['leg_order'].isna().sum()\n",
    "\n",
    "plt.text(0.95, 0.95, f'NaN count: {nan_count}', ha='right', va='top', transform=plt.gca().transAxes)\n",
    "plt.show()"
   ]
  },
  {
   "cell_type": "code",
   "execution_count": 13,
   "id": "282f781e",
   "metadata": {},
   "outputs": [
    {
     "data": {
      "image/png": "[encoded data removed]",
      "text/plain": [
       "<Figure size 800x800 with 1 Axes>"
      ]
     },
     "metadata": {},
     "output_type": "display_data"
    }
   ],
   "source": [
    "plt.figure(figsize=(8, 8))\n",
    "\n",
    "plt.hist(df_nue_dis['km'].dropna(), bins=30, color='skyblue', log=True)  # Use log=True to plot the y-axis on a logarithmic scale\n",
    "plt.title('Log-Scale Histogram of Km of Distance Features')\n",
    "plt.xlabel('Km')\n",
    "plt.ylabel('Frequency (log scale)')\n",
    "\n",
    "nan_count = df_nue_dis['km'].isna().sum()\n",
    "\n",
    "plt.text(0.95, 0.95, f'NaN count: {nan_count}', ha='right', va='top', transform=plt.gca().transAxes)\n",
    "plt.show()"
   ]
  },
  {
   "cell_type": "code",
   "execution_count": 2,
   "id": "0d0082c6-fbb8-4b1c-b98b-21453f03bc1b",
   "metadata": {},
   "outputs": [
    {
     "data": {
      "application/vnd.jupyter.widget-view+json": {
       "model_id": "3a11491731ab43a890f5d6b268afb2ad",
       "version_major": 2,
       "version_minor": 0
      },
      "text/plain": [
       "Processing folders:   0%|          | 0/30 [00:00<?, ?it/s]"
      ]
     },
     "metadata": {},
     "output_type": "display_data"
    },
    {
     "name": "stderr",
     "output_type": "stream",
     "text": [
      "/tmp/ipykernel_799001/2962168734.py:17: DtypeWarning: Columns (13,21,22,23,24,25) have mixed types. Specify dtype option on import or set low_memory=False.\n",
      "  df_tc = pd.read_csv(file_path)\n"
     ]
    }
   ],
   "source": [
    "## Pubtrans table\n",
    "numerical_columns = ['distances_id', 'latitude_start', 'longitude_start', 'stopcode_start']\n",
    "#不要'vehicle_ref', 因为他是无法被转为int 或者 float的类型\n",
    "\n",
    "folder_path = '/scratch/work/lyub2/2.df_tc_09'\n",
    "file_prefix = 'df_tc_'\n",
    "file_suffix = '.csv'\n",
    "\n",
    "\n",
    "df_nue_pub = pd.DataFrame()\n",
    "\n",
    "for i in tqdm(range(1, 31), desc=\"Processing folders\"):\n",
    "    file_name = f'{file_prefix}{i:02d}{file_suffix}'\n",
    "    file_path = os.path.join(folder_path, file_name)\n",
    "    \n",
    "    # Read the CSV file\n",
    "    df_tc = pd.read_csv(file_path)\n",
    "    \n",
    "    df_nue_pub = pd.concat([df_nue_pub, df_tc[numerical_columns]], ignore_index=True)\n",
    "\n"
   ]
  },
  {
   "cell_type": "code",
   "execution_count": 5,
   "id": "50a5e344-3217-4a09-8f5a-c11a66f581c4",
   "metadata": {},
   "outputs": [],
   "source": [
    "df_nue_pub.to_csv('/scratch/work/lyub2/Problem_output_September/P1/df_nue_pub.csv', index = False)"
   ]
  },
  {
   "cell_type": "code",
   "execution_count": null,
   "id": "753ffe10",
   "metadata": {},
   "outputs": [],
   "source": []
  },
  {
   "cell_type": "code",
   "execution_count": 3,
   "id": "8cb4ffcb-1ea2-4872-86b3-cd0cde6afe1b",
   "metadata": {},
   "outputs": [
    {
     "data": {
      "application/vnd.jupyter.widget-view+json": {
       "model_id": "6642f75deb9e48908ce6fe339ec408f8",
       "version_major": 2,
       "version_minor": 0
      },
      "text/plain": [
       "0it [00:00, ?it/s]"
      ]
     },
     "metadata": {},
     "output_type": "display_data"
    },
    {
     "ename": "ValueError",
     "evalue": "num must be an integer with 1 <= num <= 3, not 4",
     "output_type": "error",
     "traceback": [
      "\u001b[0;31m---------------------------------------------------------------------------\u001b[0m",
      "\u001b[0;31mValueError\u001b[0m                                Traceback (most recent call last)",
      "Cell \u001b[0;32mIn[3], line 5\u001b[0m\n\u001b[1;32m      2\u001b[0m plt\u001b[38;5;241m.\u001b[39mfigure(figsize\u001b[38;5;241m=\u001b[39m(\u001b[38;5;241m20\u001b[39m, \u001b[38;5;241m10\u001b[39m))\n\u001b[1;32m      4\u001b[0m \u001b[38;5;28;01mfor\u001b[39;00m i, col \u001b[38;5;129;01min\u001b[39;00m tqdm(\u001b[38;5;28menumerate\u001b[39m(numerical_columns, \u001b[38;5;241m1\u001b[39m)):\n\u001b[0;32m----> 5\u001b[0m     \u001b[43mplt\u001b[49m\u001b[38;5;241;43m.\u001b[39;49m\u001b[43msubplot\u001b[49m\u001b[43m(\u001b[49m\u001b[38;5;241;43m1\u001b[39;49m\u001b[43m,\u001b[49m\u001b[43m \u001b[49m\u001b[38;5;241;43m3\u001b[39;49m\u001b[43m,\u001b[49m\u001b[43m \u001b[49m\u001b[43mi\u001b[49m\u001b[43m)\u001b[49m\n\u001b[1;32m      6\u001b[0m     plt\u001b[38;5;241m.\u001b[39mhist(df_nue_pub[col]\u001b[38;5;241m.\u001b[39mdropna(), bins\u001b[38;5;241m=\u001b[39m\u001b[38;5;241m30\u001b[39m, color\u001b[38;5;241m=\u001b[39m\u001b[38;5;124m'\u001b[39m\u001b[38;5;124mskyblue\u001b[39m\u001b[38;5;124m'\u001b[39m, log\u001b[38;5;241m=\u001b[39m\u001b[38;5;28;01mTrue\u001b[39;00m)  \u001b[38;5;66;03m# Use log=True to plot the y-axis on a logarithmic scale\u001b[39;00m\n\u001b[1;32m      7\u001b[0m     plt\u001b[38;5;241m.\u001b[39mtitle(\u001b[38;5;124mf\u001b[39m\u001b[38;5;124m'\u001b[39m\u001b[38;5;124mLog-Scale Histogram of \u001b[39m\u001b[38;5;132;01m{\u001b[39;00mcol\u001b[38;5;132;01m}\u001b[39;00m\u001b[38;5;124m of PT Features\u001b[39m\u001b[38;5;124m'\u001b[39m)\n",
      "File \u001b[0;32m/appl/scibuilder-mamba/aalto-rhel9/prod/software/scicomp-python-env/2024-01/f56a564/lib/python3.11/site-packages/matplotlib/pyplot.py:1440\u001b[0m, in \u001b[0;36msubplot\u001b[0;34m(*args, **kwargs)\u001b[0m\n\u001b[1;32m   1437\u001b[0m fig \u001b[38;5;241m=\u001b[39m gcf()\n\u001b[1;32m   1439\u001b[0m \u001b[38;5;66;03m# First, search for an existing subplot with a matching spec.\u001b[39;00m\n\u001b[0;32m-> 1440\u001b[0m key \u001b[38;5;241m=\u001b[39m \u001b[43mSubplotSpec\u001b[49m\u001b[38;5;241;43m.\u001b[39;49m\u001b[43m_from_subplot_args\u001b[49m\u001b[43m(\u001b[49m\u001b[43mfig\u001b[49m\u001b[43m,\u001b[49m\u001b[43m \u001b[49m\u001b[43margs\u001b[49m\u001b[43m)\u001b[49m\n\u001b[1;32m   1442\u001b[0m \u001b[38;5;28;01mfor\u001b[39;00m ax \u001b[38;5;129;01min\u001b[39;00m fig\u001b[38;5;241m.\u001b[39maxes:\n\u001b[1;32m   1443\u001b[0m     \u001b[38;5;66;03m# If we found an Axes at the position, we can re-use it if the user passed no\u001b[39;00m\n\u001b[1;32m   1444\u001b[0m     \u001b[38;5;66;03m# kwargs or if the axes class and kwargs are identical.\u001b[39;00m\n\u001b[1;32m   1445\u001b[0m     \u001b[38;5;28;01mif\u001b[39;00m (ax\u001b[38;5;241m.\u001b[39mget_subplotspec() \u001b[38;5;241m==\u001b[39m key\n\u001b[1;32m   1446\u001b[0m         \u001b[38;5;129;01mand\u001b[39;00m (kwargs \u001b[38;5;241m==\u001b[39m {}\n\u001b[1;32m   1447\u001b[0m              \u001b[38;5;129;01mor\u001b[39;00m (ax\u001b[38;5;241m.\u001b[39m_projection_init\n\u001b[1;32m   1448\u001b[0m                  \u001b[38;5;241m==\u001b[39m fig\u001b[38;5;241m.\u001b[39m_process_projection_requirements(\u001b[38;5;241m*\u001b[39m\u001b[38;5;241m*\u001b[39mkwargs)))):\n",
      "File \u001b[0;32m/appl/scibuilder-mamba/aalto-rhel9/prod/software/scicomp-python-env/2024-01/f56a564/lib/python3.11/site-packages/matplotlib/gridspec.py:599\u001b[0m, in \u001b[0;36mSubplotSpec._from_subplot_args\u001b[0;34m(figure, args)\u001b[0m\n\u001b[1;32m    597\u001b[0m \u001b[38;5;28;01melse\u001b[39;00m:\n\u001b[1;32m    598\u001b[0m     \u001b[38;5;28;01mif\u001b[39;00m \u001b[38;5;129;01mnot\u001b[39;00m \u001b[38;5;28misinstance\u001b[39m(num, Integral) \u001b[38;5;129;01mor\u001b[39;00m num \u001b[38;5;241m<\u001b[39m \u001b[38;5;241m1\u001b[39m \u001b[38;5;129;01mor\u001b[39;00m num \u001b[38;5;241m>\u001b[39m rows\u001b[38;5;241m*\u001b[39mcols:\n\u001b[0;32m--> 599\u001b[0m         \u001b[38;5;28;01mraise\u001b[39;00m \u001b[38;5;167;01mValueError\u001b[39;00m(\n\u001b[1;32m    600\u001b[0m             \u001b[38;5;124mf\u001b[39m\u001b[38;5;124m\"\u001b[39m\u001b[38;5;124mnum must be an integer with 1 <= num <= \u001b[39m\u001b[38;5;132;01m{\u001b[39;00mrows\u001b[38;5;241m*\u001b[39mcols\u001b[38;5;132;01m}\u001b[39;00m\u001b[38;5;124m, \u001b[39m\u001b[38;5;124m\"\u001b[39m\n\u001b[1;32m    601\u001b[0m             \u001b[38;5;124mf\u001b[39m\u001b[38;5;124m\"\u001b[39m\u001b[38;5;124mnot \u001b[39m\u001b[38;5;132;01m{\u001b[39;00mnum\u001b[38;5;132;01m!r}\u001b[39;00m\u001b[38;5;124m\"\u001b[39m\n\u001b[1;32m    602\u001b[0m         )\n\u001b[1;32m    603\u001b[0m     i \u001b[38;5;241m=\u001b[39m j \u001b[38;5;241m=\u001b[39m num\n\u001b[1;32m    604\u001b[0m \u001b[38;5;28;01mreturn\u001b[39;00m gs[i\u001b[38;5;241m-\u001b[39m\u001b[38;5;241m1\u001b[39m:j]\n",
      "\u001b[0;31mValueError\u001b[0m: num must be an integer with 1 <= num <= 3, not 4"
     ]
    },
    {
     "data": {
      "image/png": "[encoded data removed]",
      "text/plain": [
       "<Figure size 2000x1000 with 3 Axes>"
      ]
     },
     "metadata": {},
     "output_type": "display_data"
    }
   ],
   "source": [
    "## Pubtrans table plot Data distribution\n",
    "plt.figure(figsize=(20, 10))\n",
    "\n",
    "for i, col in tqdm(enumerate(numerical_columns, 1)):\n",
    "    plt.subplot(1, 3, i)\n",
    "    plt.hist(df_nue_pub[col].dropna(), bins=30, color='skyblue', log=True)  # Use log=True to plot the y-axis on a logarithmic scale\n",
    "    plt.title(f'Log-Scale Histogram of {col} of PT Features')\n",
    "    plt.xlabel(col)\n",
    "    plt.ylabel('Frequency')\n",
    "\n",
    "plt.tight_layout()\n",
    "plt.show()"
   ]
  },
  {
   "cell_type": "code",
   "execution_count": null,
   "id": "cb217895",
   "metadata": {},
   "outputs": [],
   "source": []
  },
  {
   "cell_type": "code",
   "execution_count": 4,
   "id": "6f7b4d60-c057-44bf-898e-2e46c39a4916",
   "metadata": {},
   "outputs": [
    {
     "data": {
      "image/png": "[encoded data removed]",
      "text/plain": [
       "<Figure size 2000x1000 with 1 Axes>"
      ]
     },
     "metadata": {},
     "output_type": "display_data"
    }
   ],
   "source": [
    "plt.figure(figsize=(20, 10))\n",
    "plt.hist(df_nue_pub['stopcode_start'].dropna(), bins=30, color='skyblue', log=True)\n",
    "plt.title('Log-Scale Histogram of stopcode_start of PT Features')\n",
    "plt.show()"
   ]
  },
  {
   "cell_type": "code",
   "execution_count": 38,
   "id": "ae1747b7-cfb5-4a0f-a266-da75c4574e50",
   "metadata": {},
   "outputs": [],
   "source": [
    "def convert_time_columns_to_Helsinki_datetime(df):\n",
    "    for column in df.columns:\n",
    "        if column.startswith('time'):\n",
    "            # errors='coerce' will handle invalid parsing by setting NaT\n",
    "            df[column] = pd.to_datetime(df[column], errors='coerce')\n",
    "            df[column] = pd.to_datetime(df[column], errors='coerce', infer_datetime_format=True).dt.tz_convert('Europe/Helsinki') \n",
    "    return df"
   ]
  },
  {
   "cell_type": "code",
   "execution_count": 39,
   "id": "64ce4575-94b4-408a-8a57-76925f04bb26",
   "metadata": {},
   "outputs": [
    {
     "name": "stderr",
     "output_type": "stream",
     "text": [
      "/tmp/ipykernel_783267/1312891617.py:5: FutureWarning: In a future version of pandas, parsing datetimes with mixed time zones will raise an error unless `utc=True`. Please specify `utc=True` to opt in to the new behaviour and silence this warning. To create a `Series` with mixed offsets and `object` dtype, please use `apply` and `datetime.datetime.strptime`\n",
      "  df[column] = pd.to_datetime(df[column], errors='coerce')\n",
      "/tmp/ipykernel_783267/1312891617.py:6: UserWarning: The argument 'infer_datetime_format' is deprecated and will be removed in a future version. A strict version of it is now the default, see https://pandas.pydata.org/pdeps/0004-consistent-to-datetime-parsing.html. You can safely remove this argument.\n",
      "  df[column] = pd.to_datetime(df[column], errors='coerce', infer_datetime_format=True).dt.tz_convert('Europe/Helsinki')\n"
     ]
    },
    {
     "data": {
      "text/html": [
       "<div>\n",
       "<style scoped>\n",
       "    .dataframe tbody tr th:only-of-type {\n",
       "        vertical-align: middle;\n",
       "    }\n",
       "\n",
       "    .dataframe tbody tr th {\n",
       "        vertical-align: top;\n",
       "    }\n",
       "\n",
       "    .dataframe thead th {\n",
       "        text-align: right;\n",
       "    }\n",
       "</style>\n",
       "<table border=\"1\" class=\"dataframe\">\n",
       "  <thead>\n",
       "    <tr style=\"text-align: right;\">\n",
       "      <th></th>\n",
       "      <th>leg_order</th>\n",
       "      <th>id</th>\n",
       "      <th>km</th>\n",
       "      <th>time_start_distance</th>\n",
       "    </tr>\n",
       "  </thead>\n",
       "  <tbody>\n",
       "    <tr>\n",
       "      <th>0</th>\n",
       "      <td>NaN</td>\n",
       "      <td>NaN</td>\n",
       "      <td>NaN</td>\n",
       "      <td>NaT</td>\n",
       "    </tr>\n",
       "    <tr>\n",
       "      <th>1</th>\n",
       "      <td>NaN</td>\n",
       "      <td>NaN</td>\n",
       "      <td>NaN</td>\n",
       "      <td>NaT</td>\n",
       "    </tr>\n",
       "    <tr>\n",
       "      <th>2</th>\n",
       "      <td>NaN</td>\n",
       "      <td>NaN</td>\n",
       "      <td>NaN</td>\n",
       "      <td>NaT</td>\n",
       "    </tr>\n",
       "    <tr>\n",
       "      <th>3</th>\n",
       "      <td>NaN</td>\n",
       "      <td>NaN</td>\n",
       "      <td>NaN</td>\n",
       "      <td>NaT</td>\n",
       "    </tr>\n",
       "    <tr>\n",
       "      <th>4</th>\n",
       "      <td>NaN</td>\n",
       "      <td>NaN</td>\n",
       "      <td>NaN</td>\n",
       "      <td>NaT</td>\n",
       "    </tr>\n",
       "    <tr>\n",
       "      <th>...</th>\n",
       "      <td>...</td>\n",
       "      <td>...</td>\n",
       "      <td>...</td>\n",
       "      <td>...</td>\n",
       "    </tr>\n",
       "    <tr>\n",
       "      <th>297629269</th>\n",
       "      <td>NaN</td>\n",
       "      <td>NaN</td>\n",
       "      <td>NaN</td>\n",
       "      <td>NaT</td>\n",
       "    </tr>\n",
       "    <tr>\n",
       "      <th>297629270</th>\n",
       "      <td>NaN</td>\n",
       "      <td>NaN</td>\n",
       "      <td>NaN</td>\n",
       "      <td>NaT</td>\n",
       "    </tr>\n",
       "    <tr>\n",
       "      <th>297629271</th>\n",
       "      <td>NaN</td>\n",
       "      <td>NaN</td>\n",
       "      <td>NaN</td>\n",
       "      <td>NaT</td>\n",
       "    </tr>\n",
       "    <tr>\n",
       "      <th>297629272</th>\n",
       "      <td>NaN</td>\n",
       "      <td>NaN</td>\n",
       "      <td>NaN</td>\n",
       "      <td>NaT</td>\n",
       "    </tr>\n",
       "    <tr>\n",
       "      <th>297629273</th>\n",
       "      <td>NaN</td>\n",
       "      <td>NaN</td>\n",
       "      <td>NaN</td>\n",
       "      <td>NaT</td>\n",
       "    </tr>\n",
       "  </tbody>\n",
       "</table>\n",
       "<p>297629274 rows × 4 columns</p>\n",
       "</div>"
      ],
      "text/plain": [
       "           leg_order  id  km time_start_distance\n",
       "0                NaN NaN NaN                 NaT\n",
       "1                NaN NaN NaN                 NaT\n",
       "2                NaN NaN NaN                 NaT\n",
       "3                NaN NaN NaN                 NaT\n",
       "4                NaN NaN NaN                 NaT\n",
       "...              ...  ..  ..                 ...\n",
       "297629269        NaN NaN NaN                 NaT\n",
       "297629270        NaN NaN NaN                 NaT\n",
       "297629271        NaN NaN NaN                 NaT\n",
       "297629272        NaN NaN NaN                 NaT\n",
       "297629273        NaN NaN NaN                 NaT\n",
       "\n",
       "[297629274 rows x 4 columns]"
      ]
     },
     "execution_count": 39,
     "metadata": {},
     "output_type": "execute_result"
    }
   ],
   "source": [
    "convert_time_columns_to_Helsinki_datetime(df_nue)"
   ]
  },
  {
   "cell_type": "code",
   "execution_count": null,
   "id": "7ee32bc2-e700-4611-a893-a11e2c94388a",
   "metadata": {
    "scrolled": true
   },
   "outputs": [],
   "source": [
    "plt.figure(figsize=(20, 10))\n",
    "plt.hist(df_nue['time_start_distance'].dt.date.dropna(), bins=30, color='skyblue', log=True)\n",
    "plt.title('Log-Scale Histogram of time_start_distance of Distance Features')\n",
    "plt.show()"
   ]
  },
  {
   "cell_type": "code",
   "execution_count": null,
   "id": "a2ea9b83-192a-44ce-b78b-18b834909584",
   "metadata": {},
   "outputs": [],
   "source": []
  },
  {
   "cell_type": "code",
   "execution_count": null,
   "id": "b82f6453-6f18-4f32-bd33-0f159766bf02",
   "metadata": {},
   "outputs": [],
   "source": [
    "# 1. Log-transformation and plotting histograms\n",
    "plt.figure(figsize=(20, 10))\n",
    "\n",
    "for i, col in tqdm(enumerate(numerical_columns, 1)):\n",
    "    plt.subplot(1, 3, i)\n",
    "    plt.hist(df_nue[col].dropna(), bins=30, color='skyblue', log=True)  # Use log=True to plot the y-axis on a logarithmic scale\n",
    "    plt.title(f'Log-Scale Histogram of {col}')\n",
    "    plt.xlabel(col)\n",
    "    plt.ylabel('Frequency')\n",
    "\n",
    "plt.tight_layout()\n",
    "plt.show()"
   ]
  },
  {
   "cell_type": "code",
   "execution_count": null,
   "id": "4fdc8e48-b714-43cc-8c2b-826e042e2ec3",
   "metadata": {},
   "outputs": [],
   "source": []
  },
  {
   "cell_type": "code",
   "execution_count": 5,
   "id": "f135e68e-afcf-43a9-b476-0be3af2c0a7b",
   "metadata": {},
   "outputs": [],
   "source": [
    "def convert_time_columns_to_Helsinki_datetime(df):\n",
    "    for column in df.columns:\n",
    "        if column.startswith('time'):\n",
    "            # errors='coerce' will handle invalid parsing by setting NaT\n",
    "            df[column] = pd.to_datetime(df[column], errors='coerce')\n",
    "            df[column] = pd.to_datetime(df[column], errors='coerce', infer_datetime_format=True).dt.tz_convert('Europe/Helsinki') \n",
    "    return df"
   ]
  },
  {
   "cell_type": "code",
   "execution_count": 15,
   "id": "080dbca6",
   "metadata": {},
   "outputs": [
    {
     "name": "stderr",
     "output_type": "stream",
     "text": [
      "Processing files:   0%|          | 0/2 [00:00<?, ?it/s]/tmp/ipykernel_3757620/1312891617.py:6: UserWarning: The argument 'infer_datetime_format' is deprecated and will be removed in a future version. A strict version of it is now the default, see https://pandas.pydata.org/pdeps/0004-consistent-to-datetime-parsing.html. You can safely remove this argument.\n",
      "  df[column] = pd.to_datetime(df[column], errors='coerce', infer_datetime_format=True).dt.tz_convert('Europe/Helsinki')\n",
      "/tmp/ipykernel_3757620/1312891617.py:6: UserWarning: The argument 'infer_datetime_format' is deprecated and will be removed in a future version. A strict version of it is now the default, see https://pandas.pydata.org/pdeps/0004-consistent-to-datetime-parsing.html. You can safely remove this argument.\n",
      "  df[column] = pd.to_datetime(df[column], errors='coerce', infer_datetime_format=True).dt.tz_convert('Europe/Helsinki')\n",
      "Processing files:  50%|█████     | 1/2 [00:33<00:33, 33.45s/it]/tmp/ipykernel_3757620/1312891617.py:6: UserWarning: The argument 'infer_datetime_format' is deprecated and will be removed in a future version. A strict version of it is now the default, see https://pandas.pydata.org/pdeps/0004-consistent-to-datetime-parsing.html. You can safely remove this argument.\n",
      "  df[column] = pd.to_datetime(df[column], errors='coerce', infer_datetime_format=True).dt.tz_convert('Europe/Helsinki')\n",
      "/tmp/ipykernel_3757620/1312891617.py:6: UserWarning: The argument 'infer_datetime_format' is deprecated and will be removed in a future version. A strict version of it is now the default, see https://pandas.pydata.org/pdeps/0004-consistent-to-datetime-parsing.html. You can safely remove this argument.\n",
      "  df[column] = pd.to_datetime(df[column], errors='coerce', infer_datetime_format=True).dt.tz_convert('Europe/Helsinki')\n",
      "Processing files: 100%|██████████| 2/2 [00:57<00:00, 28.66s/it]\n"
     ]
    }
   ],
   "source": [
    "folder_path = '/scratch/work/lyub2/2.df_tc_09'\n",
    "file_prefix = 'df_tc_'\n",
    "file_suffix = '.csv'\n",
    "\n",
    "# Initialize dictionaries to keep track of counts\n",
    "hour_counts = {'start_hour': {i: 0 for i in range(24)}, 'end_hour': {i: 0 for i in range(24)}}\n",
    "hour_counts['start_hour']['NaN'] = 0\n",
    "hour_counts['end_hour']['NaN'] = 0\n",
    "\n",
    "day_counts = {'start_day': {day: 0 for day in ['Monday', 'Tuesday', 'Wednesday', 'Thursday', 'Friday', 'Saturday', 'Sunday']},\n",
    "              'end_day': {day: 0 for day in ['Monday', 'Tuesday', 'Wednesday', 'Thursday', 'Friday', 'Saturday', 'Sunday']}}\n",
    "day_counts['start_day']['NaN'] = 0\n",
    "day_counts['end_day']['NaN'] = 0\n",
    "\n",
    "# Function to update counts based on the column values\n",
    "def update_counts(df, column_name, hour_key, day_key):\n",
    "    # Extract hour and day name\n",
    "    df['hour'] = df[column_name].dt.hour\n",
    "    df['day'] = df[column_name].dt.day_name()\n",
    "\n",
    "    # Update hour counts\n",
    "    hour_count_series = df['hour'].value_counts(dropna=False)\n",
    "    for hour, count in hour_count_series.items():\n",
    "        if pd.notna(hour):\n",
    "            hour_counts[hour_key][hour] += count\n",
    "        else:\n",
    "            hour_counts[hour_key]['NaN'] += count\n",
    "\n",
    "    # Update day counts\n",
    "    day_count_series = df['day'].value_counts(dropna=False)\n",
    "    for day, count in day_count_series.items():\n",
    "        if pd.notna(day):\n",
    "            day_counts[day_key][day] += count\n",
    "        else:\n",
    "            day_counts[day_key]['NaN'] += count\n",
    "\n",
    "# Process each CSV file\n",
    "for i in tqdm(range(1, 31), desc=\"Processing files\"):\n",
    "    file_name = f'{file_prefix}{i:02d}{file_suffix}'\n",
    "    file_path = os.path.join(folder_path, file_name)\n",
    "    df = pd.read_csv(file_path, usecols=['time_start_distance','time_end_distance'])\n",
    "\n",
    "    # Convert columns to datetime and localize to Helsinki time\n",
    "    df = convert_time_columns_to_Helsinki_datetime(df)\n",
    "\n",
    "    # Update counts for 'time_start_distance'\n",
    "    update_counts(df, 'time_start_distance', 'start_hour', 'start_day')\n",
    "    \n",
    "    # Update counts for 'time_end_distance'\n",
    "    update_counts(df, 'time_end_distance', 'end_hour', 'end_day')\n",
    "\n",
    "# Convert dictionaries to DataFrames for final output\n",
    "dis_hour = pd.DataFrame({\n",
    "    'start_hour': list(hour_counts['start_hour'].keys()),\n",
    "    'start_hour_count': list(hour_counts['start_hour'].values()),\n",
    "    'end_hour': list(hour_counts['end_hour'].keys()),\n",
    "    'end_hour_count': list(hour_counts['end_hour'].values())\n",
    "})\n",
    "\n",
    "dis_day = pd.DataFrame({\n",
    "    'start_day': list(day_counts['start_day'].keys()),\n",
    "    'start_day_count': list(day_counts['start_day'].values()),\n",
    "    'end_day': list(day_counts['end_day'].keys()),\n",
    "    'end_day_count': list(day_counts['end_day'].values())\n",
    "})\n"
   ]
  },
  {
   "cell_type": "code",
   "execution_count": 11,
   "id": "d6f8346c",
   "metadata": {},
   "outputs": [
    {
     "name": "stdout",
     "output_type": "stream",
     "text": [
      "<class 'pandas.core.frame.DataFrame'>\n",
      "RangeIndex: 25 entries, 0 to 24\n",
      "Data columns (total 4 columns):\n",
      " #   Column            Non-Null Count  Dtype  \n",
      "---  ------            --------------  -----  \n",
      " 0   start_hour        24 non-null     float64\n",
      " 1   start_hour_count  25 non-null     int64  \n",
      " 2   end_hour          24 non-null     float64\n",
      " 3   end_hour_count    25 non-null     int64  \n",
      "dtypes: float64(2), int64(2)\n",
      "memory usage: 932.0 bytes\n"
     ]
    }
   ],
   "source": [
    "dis_hour.info()"
   ]
  },
  {
   "cell_type": "code",
   "execution_count": 13,
   "id": "ab491c9b",
   "metadata": {},
   "outputs": [],
   "source": [
    "dis_hour.to_csv('/scratch/work/lyub2/Problem_output_September/P1/dis_hour.csv', index = False)"
   ]
  },
  {
   "cell_type": "code",
   "execution_count": 10,
   "id": "81b2fc11",
   "metadata": {},
   "outputs": [
    {
     "name": "stdout",
     "output_type": "stream",
     "text": [
      "<class 'pandas.core.frame.DataFrame'>\n",
      "RangeIndex: 8 entries, 0 to 7\n",
      "Data columns (total 4 columns):\n",
      " #   Column           Non-Null Count  Dtype \n",
      "---  ------           --------------  ----- \n",
      " 0   start_day        7 non-null      object\n",
      " 1   start_day_count  8 non-null      int64 \n",
      " 2   end_day          7 non-null      object\n",
      " 3   end_day_count    8 non-null      int64 \n",
      "dtypes: int64(2), object(2)\n",
      "memory usage: 388.0+ bytes\n"
     ]
    }
   ],
   "source": [
    "dis_day.info()"
   ]
  },
  {
   "cell_type": "code",
   "execution_count": 14,
   "id": "c613d179",
   "metadata": {},
   "outputs": [],
   "source": [
    "dis_day.to_csv('/scratch/work/lyub2/Problem_output_September/P1/dis_day.csv', index = False)"
   ]
  },
  {
   "cell_type": "code",
   "execution_count": 2,
   "id": "835e9b4c-7e49-4e77-aac1-3e00c198a53f",
   "metadata": {},
   "outputs": [
    {
     "name": "stderr",
     "output_type": "stream",
     "text": [
      "  0%|          | 0/30 [00:00<?, ?it/s]"
     ]
    },
    {
     "name": "stderr",
     "output_type": "stream",
     "text": [
      "100%|██████████| 30/30 [19:14<00:00, 38.48s/it]\n"
     ]
    }
   ],
   "source": [
    "folder_path = '/scratch/work/lyub2/2.df_tc_09'\n",
    "file_prefix = 'df_tc_'\n",
    "file_suffix = '.csv'\n",
    "\n",
    "# List of categorical columns to analyze\n",
    "category_columns = ['activity', 'operatingSystem', 'beaconsAvailable', 'locationAvailable']\n",
    "\n",
    "# Initialize a dictionary to store Series for each categorical column\n",
    "category_data = {col: pd.Series(dtype=int) for col in category_columns}\n",
    "\n",
    "# Loop through each file and process\n",
    "for i in tqdm(range(1, 31)):\n",
    "    file_name = f'{file_prefix}{i:02d}{file_suffix}'\n",
    "    file_path = os.path.join(folder_path, file_name)\n",
    "    \n",
    "    # Read the CSV file\n",
    "    df = pd.read_csv(file_path, usecols= category_columns)\n",
    "    \n",
    "    # Aggregate the categorical column values\n",
    "    for col in category_columns:\n",
    "        category_data[col] = pd.concat([category_data[col], df[col]], ignore_index=True)\n"
   ]
  },
  {
   "cell_type": "code",
   "execution_count": 3,
   "id": "69756f9a",
   "metadata": {},
   "outputs": [
    {
     "ename": "",
     "evalue": "",
     "output_type": "error",
     "traceback": [
      "\u001b[1;31mThe Kernel crashed while executing code in the current cell or a previous cell. \n",
      "\u001b[1;31mPlease review the code in the cell(s) to identify a possible cause of the failure. \n",
      "\u001b[1;31mClick <a href='https://aka.ms/vscodeJupyterKernelCrash'>here</a> for more info. \n",
      "\u001b[1;31mView Jupyter <a href='command:jupyter.viewOutput'>log</a> for further details."
     ]
    }
   ],
   "source": [
    "category_df = pd.DataFrame(category_data)\n",
    "category_df.head()"
   ]
  },
  {
   "cell_type": "code",
   "execution_count": null,
   "id": "3fe85611",
   "metadata": {},
   "outputs": [],
   "source": [
    "category_df.to_csv('/scratch/work/lyub2/Problem_output_September/P1/category_df.csv')"
   ]
  },
  {
   "cell_type": "code",
   "execution_count": null,
   "id": "b39f8f00",
   "metadata": {},
   "outputs": [],
   "source": []
  },
  {
   "cell_type": "code",
   "execution_count": 3,
   "id": "3c5e3917-d4f5-4189-956c-3ed2b9bb3087",
   "metadata": {},
   "outputs": [
    {
     "data": {
      "image/png": "[encoded data removed]",
      "text/plain": [
       "<Figure size 2000x2000 with 4 Axes>"
      ]
     },
     "metadata": {},
     "output_type": "display_data"
    }
   ],
   "source": [
    "# Plotting the distribution of categorical columns\n",
    "n_columns = len(category_columns)\n",
    "plt.figure(figsize=(20, 5 * n_columns))\n",
    "\n",
    "for i, col in enumerate(category_columns, 1):\n",
    "    plt.subplot(n_columns, 1, i)\n",
    "    \n",
    "    # Count the frequency of each category\n",
    "    counts = category_data[col].value_counts(dropna=False)\n",
    "    counts.index = counts.index.fillna('NaN')\n",
    "    \n",
    "    # Plotting\n",
    "    counts.plot(kind='bar', color='skyblue')\n",
    "    plt.title(f'Distribution of {col}')\n",
    "    plt.xlabel(col)\n",
    "    plt.ylabel('Frequency')\n",
    "\n",
    "plt.tight_layout()\n",
    "plt.show()"
   ]
  },
  {
   "cell_type": "code",
   "execution_count": 7,
   "id": "b487293f",
   "metadata": {},
   "outputs": [
    {
     "data": {
      "image/png": "[encoded data removed]",
      "text/plain": [
       "<Figure size 800x600 with 1 Axes>"
      ]
     },
     "metadata": {},
     "output_type": "display_data"
    }
   ],
   "source": [
    "plt.figure(figsize=(8, 6))\n",
    "counts = category_data['activity'].value_counts(dropna=False)\n",
    "counts.index = counts.index.fillna('NaN')\n",
    "    \n",
    "# Plotting\n",
    "counts.plot(kind='bar', color='skyblue')\n",
    "plt.title(f'Distribution of Activity')\n",
    "plt.xlabel('Activity')\n",
    "plt.ylabel('Frequency')\n",
    "\n",
    "plt.tight_layout()\n",
    "plt.show()"
   ]
  },
  {
   "cell_type": "code",
   "execution_count": null,
   "id": "a6da1f27-98ea-4c0c-b3d1-d0413e148967",
   "metadata": {},
   "outputs": [],
   "source": []
  }
 ],
 "metadata": {
  "kernelspec": {
   "display_name": "Python generic (scicomp-python-env/2024-01)",
   "language": "python",
   "name": "python3"
  },
  "language_info": {
   "codemirror_mode": {
    "name": "ipython",
    "version": 3
   },
   "file_extension": ".py",
   "mimetype": "text/x-python",
   "name": "python",
   "nbconvert_exporter": "python",
   "pygments_lexer": "ipython3",
   "version": "3.12.5"
  }
 },
 "nbformat": 4,
 "nbformat_minor": 5
}
