{
 "cells": [
  {
   "cell_type": "code",
   "execution_count": 1,
   "id": "af183e14-66cd-4c20-8744-7f4f8afbb0e9",
   "metadata": {},
   "outputs": [],
   "source": [
    "import pandas as pd\n",
    "import geopandas as gpd\n",
    "import numpy as np\n",
    "import matplotlib.pyplot as plt\n",
    "%matplotlib inline\n",
    "import pickle\n",
    "import os\n",
    "import seaborn as sns\n",
    "from tqdm.auto import tqdm"
   ]
  },
  {
   "cell_type": "markdown",
   "id": "4263f71d-21c3-4ff1-b47c-0172b3f53dab",
   "metadata": {},
   "source": [
    "## 集大成！"
   ]
  },
  {
   "cell_type": "code",
   "execution_count": 9,
   "id": "8fa5d87c-67a2-459c-88ac-a6cbb189a6f9",
   "metadata": {},
   "outputs": [
    {
     "data": {
      "application/vnd.jupyter.widget-view+json": {
       "model_id": "6d9c5361834346bda774422aed4223fb",
       "version_major": 2,
       "version_minor": 0
      },
      "text/plain": [
       "Processing files:   0%|          | 0/30 [00:00<?, ?it/s]"
      ]
     },
     "metadata": {},
     "output_type": "display_data"
    },
    {
     "name": "stdout",
     "output_type": "stream",
     "text": [
      "DONE!!!\n"
     ]
    }
   ],
   "source": [
    "# Define the folder path and file naming convention\n",
    "folder_path = '/scratch/work/lyub2/2.df_tc_09'\n",
    "file_prefix = 'df_tc_'\n",
    "file_suffix = '.csv'\n",
    "\n",
    "# Columns to check for missing values\n",
    "columns_to_check = ['leg_order', 'id', 'activity', 'km', 'time_start_distance', 'time_end_distance']\n",
    "cols = ['leg_order', 'id', 'activity', 'km', 'time_start_distance', 'time_end_distance', 'locationAvailable']\n",
    "\n",
    "# Initialize accumulators for total counts\n",
    "total_location_counts = pd.Series([0, 0, 0, 0], index=['Always', 'Denied', 'Unknown', 'WhenInUse'])\n",
    "total_missing_counts = pd.DataFrame(0, index=columns_to_check, columns=['Always_missing_counts', 'Denied_missing_counts', 'Unknown_missing_counts', 'WhenInUse_missing_counts'])\n",
    "\n",
    "# Loop through each CSV file\n",
    "for i in tqdm(range(1, 31), desc=\"Processing files\"):\n",
    "    file_name = f'{file_prefix}{i:02d}{file_suffix}'\n",
    "    file_path = os.path.join(folder_path, file_name)\n",
    "    \n",
    "    # Check if the file exists to avoid errors\n",
    "    if not os.path.isfile(file_path):\n",
    "        print(f\"File not found: {file_path}\")\n",
    "        continue\n",
    "    \n",
    "    # Read the CSV file\n",
    "    df_tc = pd.read_csv(file_path, usecols=cols)\n",
    "    \n",
    "    # Get the locationAvailable counts for this file\n",
    "    location_counts = df_tc['locationAvailable'].value_counts()\n",
    "    location_counts = location_counts.reindex(['Always', 'Denied', 'Unknown', 'WhenInUse'], fill_value=0)\n",
    "    \n",
    "    # Update the total counts for locationAvailable\n",
    "    total_location_counts += location_counts\n",
    "\n",
    "    # Group by 'locationAvailable' and count missing values for each column\n",
    "    missing_values_location = df_tc.groupby('locationAvailable')[columns_to_check].apply(lambda x: x.isna().sum())\n",
    "\n",
    "    # Update the total missing counts\n",
    "    total_missing_counts['Always_missing_counts'] += missing_values_location.loc['Always', columns_to_check].values\n",
    "    total_missing_counts['Denied_missing_counts'] += missing_values_location.loc['Denied', columns_to_check].values\n",
    "    total_missing_counts['Unknown_missing_counts'] += missing_values_location.loc['Unknown', columns_to_check].values\n",
    "    total_missing_counts['WhenInUse_missing_counts'] += missing_values_location.loc['WhenInUse', columns_to_check].values\n",
    "\n",
    "# Calculate the overall missing percentages after accumulating all counts\n",
    "total_missing_percentages = pd.DataFrame(0, index=columns_to_check, columns=['Always_missing_%', 'Denied_missing_%', 'Unknown_missing_%', 'WhenInUse_missing_%'])\n",
    "total_missing_percentages['Always_missing_%'] = round((total_missing_counts['Always_missing_counts'] / total_location_counts['Always']) * 100, 2)\n",
    "total_missing_percentages['Denied_missing_%'] = round((total_missing_counts['Denied_missing_counts'] / total_location_counts['Denied']) * 100, 2)\n",
    "total_missing_percentages['Unknown_missing_%'] = round((total_missing_counts['Unknown_missing_counts'] / total_location_counts['Unknown']) * 100, 2)\n",
    "total_missing_percentages['WhenInUse_missing_%'] = round((total_missing_counts['WhenInUse_missing_counts'] / total_location_counts['WhenInUse']) * 100, 2)\n",
    "\n",
    "# Create the final DataFrame combining counts and percentages\n",
    "df_a4 = pd.concat([total_missing_counts, total_missing_percentages], axis=1)\n",
    "\n",
    "print('DONE!!!')"
   ]
  },
  {
   "cell_type": "code",
   "execution_count": 10,
   "id": "39d105a6",
   "metadata": {},
   "outputs": [
    {
     "data": {
      "text/html": [
       "<div>\n",
       "<style scoped>\n",
       "    .dataframe tbody tr th:only-of-type {\n",
       "        vertical-align: middle;\n",
       "    }\n",
       "\n",
       "    .dataframe tbody tr th {\n",
       "        vertical-align: top;\n",
       "    }\n",
       "\n",
       "    .dataframe thead th {\n",
       "        text-align: right;\n",
       "    }\n",
       "</style>\n",
       "<table border=\"1\" class=\"dataframe\">\n",
       "  <thead>\n",
       "    <tr style=\"text-align: right;\">\n",
       "      <th></th>\n",
       "      <th>Always_missing_counts</th>\n",
       "      <th>Denied_missing_counts</th>\n",
       "      <th>Unknown_missing_counts</th>\n",
       "      <th>WhenInUse_missing_counts</th>\n",
       "      <th>Always_missing_%</th>\n",
       "      <th>Denied_missing_%</th>\n",
       "      <th>Unknown_missing_%</th>\n",
       "      <th>WhenInUse_missing_%</th>\n",
       "    </tr>\n",
       "  </thead>\n",
       "  <tbody>\n",
       "    <tr>\n",
       "      <th>leg_order</th>\n",
       "      <td>13234228</td>\n",
       "      <td>578</td>\n",
       "      <td>201</td>\n",
       "      <td>15310020</td>\n",
       "      <td>9.57</td>\n",
       "      <td>9.63</td>\n",
       "      <td>9.12</td>\n",
       "      <td>9.94</td>\n",
       "    </tr>\n",
       "    <tr>\n",
       "      <th>id</th>\n",
       "      <td>13244026</td>\n",
       "      <td>578</td>\n",
       "      <td>201</td>\n",
       "      <td>15318304</td>\n",
       "      <td>9.58</td>\n",
       "      <td>9.63</td>\n",
       "      <td>9.12</td>\n",
       "      <td>9.94</td>\n",
       "    </tr>\n",
       "    <tr>\n",
       "      <th>activity</th>\n",
       "      <td>13244026</td>\n",
       "      <td>578</td>\n",
       "      <td>201</td>\n",
       "      <td>15318304</td>\n",
       "      <td>9.58</td>\n",
       "      <td>9.63</td>\n",
       "      <td>9.12</td>\n",
       "      <td>9.94</td>\n",
       "    </tr>\n",
       "    <tr>\n",
       "      <th>km</th>\n",
       "      <td>13244026</td>\n",
       "      <td>578</td>\n",
       "      <td>201</td>\n",
       "      <td>15318304</td>\n",
       "      <td>9.58</td>\n",
       "      <td>9.63</td>\n",
       "      <td>9.12</td>\n",
       "      <td>9.94</td>\n",
       "    </tr>\n",
       "    <tr>\n",
       "      <th>time_start_distance</th>\n",
       "      <td>13244026</td>\n",
       "      <td>578</td>\n",
       "      <td>201</td>\n",
       "      <td>15318304</td>\n",
       "      <td>9.58</td>\n",
       "      <td>9.63</td>\n",
       "      <td>9.12</td>\n",
       "      <td>9.94</td>\n",
       "    </tr>\n",
       "    <tr>\n",
       "      <th>time_end_distance</th>\n",
       "      <td>13244026</td>\n",
       "      <td>578</td>\n",
       "      <td>201</td>\n",
       "      <td>15318304</td>\n",
       "      <td>9.58</td>\n",
       "      <td>9.63</td>\n",
       "      <td>9.12</td>\n",
       "      <td>9.94</td>\n",
       "    </tr>\n",
       "  </tbody>\n",
       "</table>\n",
       "</div>"
      ],
      "text/plain": [
       "                     Always_missing_counts  Denied_missing_counts  \\\n",
       "leg_order                         13234228                    578   \n",
       "id                                13244026                    578   \n",
       "activity                          13244026                    578   \n",
       "km                                13244026                    578   \n",
       "time_start_distance               13244026                    578   \n",
       "time_end_distance                 13244026                    578   \n",
       "\n",
       "                     Unknown_missing_counts  WhenInUse_missing_counts  \\\n",
       "leg_order                               201                  15310020   \n",
       "id                                      201                  15318304   \n",
       "activity                                201                  15318304   \n",
       "km                                      201                  15318304   \n",
       "time_start_distance                     201                  15318304   \n",
       "time_end_distance                       201                  15318304   \n",
       "\n",
       "                     Always_missing_%  Denied_missing_%  Unknown_missing_%  \\\n",
       "leg_order                        9.57              9.63               9.12   \n",
       "id                               9.58              9.63               9.12   \n",
       "activity                         9.58              9.63               9.12   \n",
       "km                               9.58              9.63               9.12   \n",
       "time_start_distance              9.58              9.63               9.12   \n",
       "time_end_distance                9.58              9.63               9.12   \n",
       "\n",
       "                     WhenInUse_missing_%  \n",
       "leg_order                           9.94  \n",
       "id                                  9.94  \n",
       "activity                            9.94  \n",
       "km                                  9.94  \n",
       "time_start_distance                 9.94  \n",
       "time_end_distance                   9.94  "
      ]
     },
     "execution_count": 10,
     "metadata": {},
     "output_type": "execute_result"
    }
   ],
   "source": [
    "df_a4"
   ]
  },
  {
   "cell_type": "code",
   "execution_count": 6,
   "id": "2c81aecc",
   "metadata": {},
   "outputs": [],
   "source": [
    "df_a4.to_csv('/scratch/work/lyub2/Problem_output_September/P1A4/df_a4.csv')"
   ]
  },
  {
   "cell_type": "code",
   "execution_count": 7,
   "id": "df2df420-44a1-469e-be6b-e2dcc4f30227",
   "metadata": {},
   "outputs": [
    {
     "data": {
      "text/plain": [
       "Always       138289873\n",
       "Denied            6004\n",
       "Unknown           2203\n",
       "WhenInUse    154053451\n",
       "dtype: int64"
      ]
     },
     "execution_count": 7,
     "metadata": {},
     "output_type": "execute_result"
    }
   ],
   "source": [
    "total_location_counts"
   ]
  },
  {
   "cell_type": "markdown",
   "id": "64162e65-fcb8-4db3-94c6-7e06372c71cb",
   "metadata": {},
   "source": [
    "### Plot"
   ]
  },
  {
   "cell_type": "code",
   "execution_count": null,
   "id": "2342c584-1c58-437a-8675-2a684e13c17f",
   "metadata": {},
   "outputs": [],
   "source": []
  }
 ],
 "metadata": {
  "kernelspec": {
   "display_name": "Python generic (scicomp-python-env/2024-01)",
   "language": "python",
   "name": "python3"
  },
  "language_info": {
   "codemirror_mode": {
    "name": "ipython",
    "version": 3
   },
   "file_extension": ".py",
   "mimetype": "text/x-python",
   "name": "python",
   "nbconvert_exporter": "python",
   "pygments_lexer": "ipython3",
   "version": "3.12.5"
  }
 },
 "nbformat": 4,
 "nbformat_minor": 5
}
