{
 "cells": [
  {
   "cell_type": "code",
   "execution_count": 1,
   "id": "325c3671-fdea-44c9-b0d2-faf549a26098",
   "metadata": {},
   "outputs": [
    {
     "name": "stderr",
     "output_type": "stream",
     "text": [
      "/scratch/work/lyub2/.conda_envs/lb-env/lib/python3.12/site-packages/tqdm/auto.py:21: TqdmWarning: IProgress not found. Please update jupyter and ipywidgets. See https://ipywidgets.readthedocs.io/en/stable/user_install.html\n",
      "  from .autonotebook import tqdm as notebook_tqdm\n"
     ]
    }
   ],
   "source": [
    "import pandas as pd\n",
    "import geopandas as gpd\n",
    "import numpy as np\n",
    "import matplotlib.pyplot as plt\n",
    "%matplotlib inline\n",
    "import pickle\n",
    "import os\n",
    "import seaborn as sns\n",
    "from tqdm.auto import tqdm"
   ]
  },
  {
   "cell_type": "code",
   "execution_count": 2,
   "id": "8c6a325e-1959-45b3-8c34-606debab332f",
   "metadata": {},
   "outputs": [],
   "source": [
    "import folium\n",
    "from shapely.geometry import Point\n",
    "from shapely.wkt import loads as wkt_loads\n",
    "from shapely.geometry import shape\n",
    "import branca.colormap as cm\n",
    "from branca.colormap import LinearColormap"
   ]
  },
  {
   "cell_type": "code",
   "execution_count": 3,
   "id": "ec63e6b6-8bc5-4786-8b30-692a342284c7",
   "metadata": {},
   "outputs": [],
   "source": [
    "## pip install folium \n",
    "#已经安装好了"
   ]
  },
  {
   "cell_type": "markdown",
   "id": "1737b25a-0b7f-4211-b1f0-a6faf3c99366",
   "metadata": {},
   "source": [
    "## P1A1 missing values -- areaid"
   ]
  },
  {
   "cell_type": "markdown",
   "id": "c349dbf7-7da0-4b7d-939f-d71d6a78babb",
   "metadata": {
    "jp-MarkdownHeadingCollapsed": true
   },
   "source": [
    "### df_a1整合"
   ]
  },
  {
   "cell_type": "code",
   "execution_count": 3,
   "id": "0fc2fe55-ba8b-406f-81bc-013c5ba968be",
   "metadata": {
    "scrolled": true
   },
   "outputs": [
    {
     "name": "stderr",
     "output_type": "stream",
     "text": [
      "Processing folders: 100%|██████████| 30/30 [00:37<00:00,  1.26s/it]\n"
     ]
    }
   ],
   "source": [
    "# Initialize an empty DataFrame for the final result\n",
    "df_a1 = pd.DataFrame(columns=['area_id', 'areaid_count', 'missing_counts', 'missing_percentage'])\n",
    "\n",
    "# Define the path to the parent directory\n",
    "parent_directory = '/scratch/work/lyub2/Problem_output_September/'\n",
    "\n",
    "df_list = []\n",
    "\n",
    "# Iterate through all 30 folders with tqdm for progress bar\n",
    "for day in tqdm(range(1, 31), desc=\"Processing folders\"):\n",
    "    # Generate folder name in the format 'MMDD_output_csv' (e.g., '0901_output_csv')\n",
    "    folder_name = f\"09{str(day).zfill(2)}_output_csv\"\n",
    "    # Define the full path to the csv file\n",
    "    file_path = os.path.join(parent_directory, folder_name, 'P1A1_missing_values_areaid.csv')\n",
    "    \n",
    "    # Check if the file exists to avoid errors\n",
    "    if not os.path.isfile(file_path):\n",
    "        print(f\"File not found: {file_path}\")\n",
    "        continue\n",
    "    \n",
    "    # Read the current CSV file\n",
    "    df_current = pd.read_csv(file_path)\n",
    "    \n",
    "    # Drop the 'missing_info' column as it's not needed\n",
    "    df_current = df_current.drop(columns=['missing_info'])\n",
    "    \n",
    "    # Append the current dataframe to the list\n",
    "    df_list.append(df_current)\n",
    "\n",
    "# Concatenate all dataframes in the list\n",
    "df_a1 = pd.concat(df_list, ignore_index=True)\n",
    "\n",
    "# Group by 'area_id' and sum the 'areaid_count' and 'missing_counts'\n",
    "df_a1 = df_a1.groupby('area_id', as_index=False).agg({\n",
    "    'areaid_count': 'sum',\n",
    "    'missing_counts': 'sum'\n",
    "})\n",
    "\n",
    "# Calculate the missing percentage for each area_id\n",
    "df_a1['missing_percentage'] = (df_a1['missing_counts'] / df_a1['areaid_count']) * 100\n"
   ]
  },
  {
   "cell_type": "code",
   "execution_count": 4,
   "id": "ed9f90e6-2c58-489e-ba25-27c167a09c73",
   "metadata": {},
   "outputs": [],
   "source": [
    "# Display the final DataFrame\n",
    "df_a1.to_csv(\"/scratch/work/lyub2/Problem_output_September/P1A1/P1A1.csv\",index=False)"
   ]
  },
  {
   "cell_type": "markdown",
   "id": "562574a7-6560-4c4a-824a-834da33903c2",
   "metadata": {},
   "source": [
    "### 合并df_tc和geo map"
   ]
  },
  {
   "cell_type": "code",
   "execution_count": 3,
   "id": "8988cdf1-4d65-43a6-8d4a-5f03d1ceb9cd",
   "metadata": {},
   "outputs": [],
   "source": [
    "gdf_map = gpd.read_file(r'/scratch/work/lyub2/HZR/ykr_250_15_kuntaa_grid_v2.geojson').to_crs('EPSG:4326')\n",
    "\n",
    "gdf_map.to_file('/scratch/work/lyub2/HZR/geo_map.geojson', driver=\"GeoJSON\")"
   ]
  },
  {
   "cell_type": "code",
   "execution_count": null,
   "id": "b863338f",
   "metadata": {},
   "outputs": [],
   "source": [
    "geo_df = gdf_map.merge(df_a1, left_on='id', right_on='area_id', how='left')"
   ]
  },
  {
   "cell_type": "code",
   "execution_count": 6,
   "id": "960c67e0-94ce-4626-a4f2-bc89520619e7",
   "metadata": {},
   "outputs": [
    {
     "data": {
      "text/html": [
       "<div>\n",
       "<style scoped>\n",
       "    .dataframe tbody tr th:only-of-type {\n",
       "        vertical-align: middle;\n",
       "    }\n",
       "\n",
       "    .dataframe tbody tr th {\n",
       "        vertical-align: top;\n",
       "    }\n",
       "\n",
       "    .dataframe thead th {\n",
       "        text-align: right;\n",
       "    }\n",
       "</style>\n",
       "<table border=\"1\" class=\"dataframe\">\n",
       "  <thead>\n",
       "    <tr style=\"text-align: right;\">\n",
       "      <th></th>\n",
       "      <th>id</th>\n",
       "      <th>geometry</th>\n",
       "      <th>area_id</th>\n",
       "      <th>areaid_count</th>\n",
       "      <th>missing_counts</th>\n",
       "      <th>missing_percentage</th>\n",
       "    </tr>\n",
       "  </thead>\n",
       "  <tbody>\n",
       "    <tr>\n",
       "      <th>0</th>\n",
       "      <td>4</td>\n",
       "      <td>MULTIPOLYGON (((24.30521 60.00698, 24.30073 60...</td>\n",
       "      <td>4.0</td>\n",
       "      <td>8.0</td>\n",
       "      <td>6.0</td>\n",
       "      <td>75.000000</td>\n",
       "    </tr>\n",
       "    <tr>\n",
       "      <th>1</th>\n",
       "      <td>5</td>\n",
       "      <td>MULTIPOLYGON (((24.30968 60.00708, 24.30521 60...</td>\n",
       "      <td>5.0</td>\n",
       "      <td>3.0</td>\n",
       "      <td>2.0</td>\n",
       "      <td>66.666667</td>\n",
       "    </tr>\n",
       "    <tr>\n",
       "      <th>2</th>\n",
       "      <td>6</td>\n",
       "      <td>MULTIPOLYGON (((24.31416 60.00717, 24.30968 60...</td>\n",
       "      <td>6.0</td>\n",
       "      <td>6.0</td>\n",
       "      <td>0.0</td>\n",
       "      <td>0.000000</td>\n",
       "    </tr>\n",
       "    <tr>\n",
       "      <th>3</th>\n",
       "      <td>7</td>\n",
       "      <td>MULTIPOLYGON (((24.31864 60.00726, 24.31416 60...</td>\n",
       "      <td>NaN</td>\n",
       "      <td>NaN</td>\n",
       "      <td>NaN</td>\n",
       "      <td>NaN</td>\n",
       "    </tr>\n",
       "    <tr>\n",
       "      <th>4</th>\n",
       "      <td>8</td>\n",
       "      <td>MULTIPOLYGON (((24.32312 60.00735, 24.31864 60...</td>\n",
       "      <td>8.0</td>\n",
       "      <td>5.0</td>\n",
       "      <td>5.0</td>\n",
       "      <td>100.000000</td>\n",
       "    </tr>\n",
       "    <tr>\n",
       "      <th>...</th>\n",
       "      <td>...</td>\n",
       "      <td>...</td>\n",
       "      <td>...</td>\n",
       "      <td>...</td>\n",
       "      <td>...</td>\n",
       "      <td>...</td>\n",
       "    </tr>\n",
       "    <tr>\n",
       "      <th>75424</th>\n",
       "      <td>93612</td>\n",
       "      <td>MULTIPOLYGON (((25.43944 60.67859, 25.43487 60...</td>\n",
       "      <td>93612.0</td>\n",
       "      <td>4.0</td>\n",
       "      <td>0.0</td>\n",
       "      <td>0.000000</td>\n",
       "    </tr>\n",
       "    <tr>\n",
       "      <th>75425</th>\n",
       "      <td>93613</td>\n",
       "      <td>MULTIPOLYGON (((25.44402 60.67864, 25.43944 60...</td>\n",
       "      <td>NaN</td>\n",
       "      <td>NaN</td>\n",
       "      <td>NaN</td>\n",
       "      <td>NaN</td>\n",
       "    </tr>\n",
       "    <tr>\n",
       "      <th>75426</th>\n",
       "      <td>93614</td>\n",
       "      <td>MULTIPOLYGON (((25.44859 60.67869, 25.44402 60...</td>\n",
       "      <td>93614.0</td>\n",
       "      <td>2.0</td>\n",
       "      <td>0.0</td>\n",
       "      <td>0.000000</td>\n",
       "    </tr>\n",
       "    <tr>\n",
       "      <th>75427</th>\n",
       "      <td>93615</td>\n",
       "      <td>MULTIPOLYGON (((25.45317 60.67875, 25.44859 60...</td>\n",
       "      <td>93615.0</td>\n",
       "      <td>4.0</td>\n",
       "      <td>0.0</td>\n",
       "      <td>0.000000</td>\n",
       "    </tr>\n",
       "    <tr>\n",
       "      <th>75428</th>\n",
       "      <td>93616</td>\n",
       "      <td>MULTIPOLYGON (((25.45774 60.6788, 25.45317 60....</td>\n",
       "      <td>93616.0</td>\n",
       "      <td>1.0</td>\n",
       "      <td>1.0</td>\n",
       "      <td>100.000000</td>\n",
       "    </tr>\n",
       "  </tbody>\n",
       "</table>\n",
       "<p>75429 rows × 6 columns</p>\n",
       "</div>"
      ],
      "text/plain": [
       "          id                                           geometry  area_id  \\\n",
       "0          4  MULTIPOLYGON (((24.30521 60.00698, 24.30073 60...      4.0   \n",
       "1          5  MULTIPOLYGON (((24.30968 60.00708, 24.30521 60...      5.0   \n",
       "2          6  MULTIPOLYGON (((24.31416 60.00717, 24.30968 60...      6.0   \n",
       "3          7  MULTIPOLYGON (((24.31864 60.00726, 24.31416 60...      NaN   \n",
       "4          8  MULTIPOLYGON (((24.32312 60.00735, 24.31864 60...      8.0   \n",
       "...      ...                                                ...      ...   \n",
       "75424  93612  MULTIPOLYGON (((25.43944 60.67859, 25.43487 60...  93612.0   \n",
       "75425  93613  MULTIPOLYGON (((25.44402 60.67864, 25.43944 60...      NaN   \n",
       "75426  93614  MULTIPOLYGON (((25.44859 60.67869, 25.44402 60...  93614.0   \n",
       "75427  93615  MULTIPOLYGON (((25.45317 60.67875, 25.44859 60...  93615.0   \n",
       "75428  93616  MULTIPOLYGON (((25.45774 60.6788, 25.45317 60....  93616.0   \n",
       "\n",
       "       areaid_count  missing_counts  missing_percentage  \n",
       "0               8.0             6.0           75.000000  \n",
       "1               3.0             2.0           66.666667  \n",
       "2               6.0             0.0            0.000000  \n",
       "3               NaN             NaN                 NaN  \n",
       "4               5.0             5.0          100.000000  \n",
       "...             ...             ...                 ...  \n",
       "75424           4.0             0.0            0.000000  \n",
       "75425           NaN             NaN                 NaN  \n",
       "75426           2.0             0.0            0.000000  \n",
       "75427           4.0             0.0            0.000000  \n",
       "75428           1.0             1.0          100.000000  \n",
       "\n",
       "[75429 rows x 6 columns]"
      ]
     },
     "execution_count": 6,
     "metadata": {},
     "output_type": "execute_result"
    }
   ],
   "source": [
    "geo_df"
   ]
  },
  {
   "cell_type": "markdown",
   "id": "72ac38d3-595c-44b6-8ba8-c9e6dfec37c2",
   "metadata": {},
   "source": [
    "### 保存geo_df 或者 打开geo_df"
   ]
  },
  {
   "cell_type": "code",
   "execution_count": 7,
   "id": "71f01d5d-0f18-4781-8041-29bae73f4ef5",
   "metadata": {},
   "outputs": [],
   "source": [
    "geo_df.to_csv(\"/scratch/work/lyub2/Problem_output_September/P1A1/geo_df.csv\", index=False)"
   ]
  },
  {
   "cell_type": "code",
   "execution_count": 2,
   "id": "58fe60d7-d8e3-4dae-8184-1817e57262d3",
   "metadata": {},
   "outputs": [],
   "source": [
    "geo_df=pd.read_csv(\"/scratch/work/lyub2/Problem_output_September/P1A1/geo_df.csv\")"
   ]
  },
  {
   "cell_type": "code",
   "execution_count": null,
   "id": "71aed7bf-a021-4390-a918-ed3e180d9b69",
   "metadata": {},
   "outputs": [],
   "source": []
  },
  {
   "cell_type": "markdown",
   "id": "dfff709e-9967-445d-b8da-5338c9ed5e0a",
   "metadata": {},
   "source": [
    "### 从普通的pandas df 转为 geopandas df"
   ]
  },
  {
   "cell_type": "code",
   "execution_count": 6,
   "id": "1c9ad0b9-10d8-430b-99ce-3b175f5d00da",
   "metadata": {},
   "outputs": [
    {
     "name": "stdout",
     "output_type": "stream",
     "text": [
      "<class 'str'>\n"
     ]
    }
   ],
   "source": [
    "from shapely.wkt import loads as wkt_loads\n",
    "\n",
    "first_geom = geo_df['geometry'].iloc[0]\n",
    "print(type(first_geom))\n",
    "\n",
    "# Convert the geometry column if necessary\n",
    "if isinstance(first_geom, str):\n",
    "    geo_df['geometry'] = geo_df['geometry'].apply(wkt_loads)\n",
    "elif isinstance(first_geom, dict):\n",
    "    geo_df['geometry'] = geo_df['geometry'].apply(shape)\n",
    "\n",
    "# Convert to a GeoDataFrame\n",
    "geo_df = gpd.GeoDataFrame(geo_df, geometry='geometry', crs='EPSG:4326')"
   ]
  },
  {
   "cell_type": "code",
   "execution_count": 7,
   "id": "3dc4acf3-868d-4758-87f7-68c1d1ae53d1",
   "metadata": {},
   "outputs": [
    {
     "name": "stdout",
     "output_type": "stream",
     "text": [
      "<class 'geopandas.geodataframe.GeoDataFrame'>\n",
      "<class 'geopandas.geoseries.GeoSeries'>\n"
     ]
    }
   ],
   "source": [
    "## 需要的话 检查一下类型\n",
    "print(type(geo_df))\n",
    "print(type(geo_df.geometry))"
   ]
  },
  {
   "cell_type": "markdown",
   "id": "904050d6-d9f1-432f-856a-c6c4690aa6fc",
   "metadata": {},
   "source": [
    "### 总图 和 五个组的分开图"
   ]
  },
  {
   "cell_type": "code",
   "execution_count": null,
   "id": "c86198ab-bc67-47f2-9894-6f645248200a",
   "metadata": {},
   "outputs": [],
   "source": [
    "geo_df['centroid'] = geo_df.geometry.centroid\n",
    "\n",
    "# Ensure centroids are Points and extract their coordinates\n",
    "geo_df['coordinates'] = geo_df['centroid'].apply(lambda x: [x.y, x.x] if isinstance(x, Point) else None)\n",
    "\n",
    "# Filter out any rows where the centroid could not be computed properly (i.e., coordinates are None)\n",
    "geo_df = geo_df.dropna(subset=['coordinates'])\n",
    "\n",
    "# Debugging: Print the first few rows\n",
    "print(geo_df[['area_id', 'coordinates', 'missing_percentage']].head())\n",
    "\n",
    "# Check the number of valid rows\n",
    "print(f\"Number of valid rows: {len(geo_df)}\")\n",
    "\n",
    "# Define the custom groups\n",
    "bins = [0, 20, 40, 60, 80, 100]  # Define the intervals for the groups\n",
    "\n",
    "# Assign colors to each group, from light to dark\n",
    "colors = ['#1f77b4', '#ff7f0e', '#9467bd', '#e377c2', '#d62728']  # from lighter color to darker ones\n",
    "\n",
    "# Initialize the map centered around Helsinki\n",
    "m = folium.Map(location=[60.2, 24.9], zoom_start=10)\n",
    "\n",
    "# Function to assign color based on the group\n",
    "def get_color(missing_percentage):\n",
    "    for i in range(len(bins) - 1):\n",
    "        if bins[i] < missing_percentage <= bins[i + 1]:\n",
    "            return colors[i]\n",
    "    return colors[-1]  # Default to the last color if out of bounds\n",
    "\n",
    "# Add each area to the map with a dynamic color based on the group of missing_percentage\n",
    "for idx, row in geo_df.iterrows():\n",
    "    folium.CircleMarker(\n",
    "        location=row['coordinates'],\n",
    "        radius=0.2,  # Adjusted radius for visibility\n",
    "        color=get_color(row['missing_percentage']),\n",
    "        fill=True,\n",
    "        fill_opacity=0.7,\n",
    "        popup=f\"Area ID: {row['area_id']}<br>Missing Percentage: {row['missing_percentage']:.2f}%\"\n",
    "    ).add_to(m)\n",
    "\n",
    "# Create a legend manually using a color map with text annotations\n",
    "legend_html = '''\n",
    "<div style=\"position: fixed;\n",
    "            bottom: 50px; left: 50px; width: 150px; height: 150px;\n",
    "            border:2px solid grey; z-index:9999; font-size:14px;\n",
    "            background-color:white; padding: 10px;\">\n",
    "&emsp;<b>Legend</b><br>\n",
    "&emsp;<i style=\"background:#1f77b4;color:#1f77b4\">.....</i> 0-20%<br>\n",
    "&emsp;<i style=\"background:#2ca02c;color:#2ca02c\">.....</i> 21-40%<br>\n",
    "&emsp;<i style=\"background:#ff7f0e;color:#ff7f0e\">.....</i> 41-60%<br>\n",
    "&emsp;<i style=\"background:#9467bd;color:#9467bd\">.....</i> 61-80%<br>\n",
    "&emsp;<i style=\"background:#d62728;color:#d62728\">.....</i> 81-100%<br>\n",
    "</div>\n",
    "'''\n",
    "\n",
    "m.get_root().html.add_child(folium.Element(legend_html))\n",
    "\n",
    "# Save or display the map\n",
    "m.save('/scratch/work/lyub2/Problem_output_September/P1A1/missing_percentage_map.html')\n",
    "m"
   ]
  },
  {
   "cell_type": "code",
   "execution_count": null,
   "id": "493f3a9b-ba1f-4abe-bcd8-67d36fc546ee",
   "metadata": {},
   "outputs": [],
   "source": []
  },
  {
   "cell_type": "code",
   "execution_count": 10,
   "id": "6d186b77-80c5-4842-8039-7c15fd7ea102",
   "metadata": {},
   "outputs": [
    {
     "name": "stderr",
     "output_type": "stream",
     "text": [
      "/tmp/ipykernel_169290/1137339467.py:1: UserWarning: Geometry is in a geographic CRS. Results from 'centroid' are likely incorrect. Use 'GeoSeries.to_crs()' to re-project geometries to a projected CRS before this operation.\n",
      "\n",
      "  geo_df['centroid'] = geo_df.geometry.centroid\n"
     ]
    },
    {
     "name": "stdout",
     "output_type": "stream",
     "text": [
      "   area_id                              coordinates  missing_percentage\n",
      "0      4.0  [60.00805922805692, 24.302875155805474]           75.000000\n",
      "1      5.0  [60.008150640226056, 24.30735337174473]           66.666667\n",
      "2      6.0  [60.008241900685185, 24.31183161650042]            0.000000\n",
      "3      NaN   [60.00833300943239, 24.31630989002495]                 NaN\n",
      "4      8.0     [60.0084239664657, 24.3207881922707]          100.000000\n",
      "Number of valid rows: 75429\n"
     ]
    }
   ],
   "source": [
    "geo_df['centroid'] = geo_df.geometry.centroid\n",
    "\n",
    "# Ensure centroids are Points and extract their coordinates\n",
    "geo_df['coordinates'] = geo_df['centroid'].apply(lambda x: [x.y, x.x] if isinstance(x, Point) else None)\n",
    "\n",
    "# Filter out any rows where the centroid could not be computed properly (i.e., coordinates are None)\n",
    "geo_df = geo_df.dropna(subset=['coordinates'])\n",
    "\n",
    "# Define the custom groups\n",
    "bins = [0, 20, 40, 60, 80, 100]  # Define the intervals for the groups\n",
    "\n",
    "# Assign distinct colors to each group, avoiding green and yellow\n",
    "colors = ['#1f77b4', '#ff7f0e', '#9467bd', '#e377c2', '#d62728']  # Distinct colors without green/yellow\n",
    "\n",
    "# Prepare a dictionary for mapping bins to colors\n",
    "group_mapping = {\n",
    "    '0-20%': {'bin': (0, 20), 'color': '#1f77b4'},\n",
    "    '21-40%': {'bin': (20, 40), 'color': '#ff7f0e'},\n",
    "    '41-60%': {'bin': (40, 60), 'color': '#9467bd'},\n",
    "    '61-80%': {'bin': (60, 80), 'color': '#e377c2'},\n",
    "    '81-100%': {'bin': (80, 100), 'color': '#d62728'}\n",
    "}\n",
    "\n",
    "# Debugging: Print the first few rows\n",
    "print(geo_df[['area_id', 'coordinates', 'missing_percentage']].head())\n",
    "\n",
    "# Check the number of valid rows\n",
    "print(f\"Number of valid rows: {len(geo_df)}\")"
   ]
  },
  {
   "cell_type": "code",
   "execution_count": null,
   "id": "d170cd4e-24c3-4fd0-b951-dcd10e322db0",
   "metadata": {},
   "outputs": [],
   "source": [
    "group1_df = geo_df[(geo_df['missing_percentage'] > 0) & (geo_df['missing_percentage'] <= 20)]\n",
    "\n",
    "# Initialize a map centered around Finland or Helsinki\n",
    "m1 = folium.Map(location=[64.0, 26.0], zoom_start=6)\n",
    "\n",
    "# Add each area in Group 1 to the map\n",
    "for idx, row in group1_df.iterrows():\n",
    "    folium.CircleMarker(\n",
    "        location=row['coordinates'],\n",
    "        radius=0.2,  # Adjusted radius for visibility\n",
    "        color='#1f77b4',\n",
    "        fill=True,\n",
    "        fill_opacity=0.7,\n",
    "        popup=f\"Area ID: {row['area_id']}<br>Missing Percentage: {row['missing_percentage']:.2f}%\"\n",
    "    ).add_to(m1)\n",
    "\n",
    "legend_html = '''\n",
    "<div style=\"position: fixed;\n",
    "            bottom: 50px; left: 50px; width: 150px; height: auto;\n",
    "            border:2px solid grey; z-index:9999; font-size:14px;\n",
    "            background-color:white; padding: 10px;\">\n",
    "&emsp;<b>Legend</b><br>\n",
    "&emsp;<i style=\"background:#1f77b4;color:#1f77b4\">.....</i> 0-20%<br>\n",
    "</div>\n",
    "'''\n",
    "\n",
    "m1.get_root().html.add_child(folium.Element(legend_html))\n",
    "# Save or display the map for Group 1\n",
    "m1.save('/scratch/work/lyub2/Problem_output_September/P1A1/[0-20]_missing_percentage_map.html')\n",
    "m1"
   ]
  },
  {
   "cell_type": "code",
   "execution_count": 8,
   "id": "b52da641",
   "metadata": {},
   "outputs": [
    {
     "data": {
      "text/html": [
       "<div>\n",
       "<style scoped>\n",
       "    .dataframe tbody tr th:only-of-type {\n",
       "        vertical-align: middle;\n",
       "    }\n",
       "\n",
       "    .dataframe tbody tr th {\n",
       "        vertical-align: top;\n",
       "    }\n",
       "\n",
       "    .dataframe thead th {\n",
       "        text-align: right;\n",
       "    }\n",
       "</style>\n",
       "<table border=\"1\" class=\"dataframe\">\n",
       "  <thead>\n",
       "    <tr style=\"text-align: right;\">\n",
       "      <th></th>\n",
       "      <th>id</th>\n",
       "      <th>geometry</th>\n",
       "      <th>area_id</th>\n",
       "      <th>areaid_count</th>\n",
       "      <th>missing_counts</th>\n",
       "      <th>missing_percentage</th>\n",
       "    </tr>\n",
       "  </thead>\n",
       "  <tbody>\n",
       "    <tr>\n",
       "      <th>5</th>\n",
       "      <td>9</td>\n",
       "      <td>MULTIPOLYGON (((24.3276 60.00744, 24.32312 60....</td>\n",
       "      <td>9.0</td>\n",
       "      <td>25.0</td>\n",
       "      <td>3.0</td>\n",
       "      <td>12.000000</td>\n",
       "    </tr>\n",
       "    <tr>\n",
       "      <th>26</th>\n",
       "      <td>30</td>\n",
       "      <td>MULTIPOLYGON (((24.42164 60.00931, 24.41717 60...</td>\n",
       "      <td>30.0</td>\n",
       "      <td>35.0</td>\n",
       "      <td>4.0</td>\n",
       "      <td>11.428571</td>\n",
       "    </tr>\n",
       "    <tr>\n",
       "      <th>29</th>\n",
       "      <td>33</td>\n",
       "      <td>MULTIPOLYGON (((24.43508 60.00957, 24.4306 60....</td>\n",
       "      <td>33.0</td>\n",
       "      <td>117.0</td>\n",
       "      <td>7.0</td>\n",
       "      <td>5.982906</td>\n",
       "    </tr>\n",
       "    <tr>\n",
       "      <th>30</th>\n",
       "      <td>34</td>\n",
       "      <td>MULTIPOLYGON (((24.43956 60.00966, 24.43508 60...</td>\n",
       "      <td>34.0</td>\n",
       "      <td>49.0</td>\n",
       "      <td>2.0</td>\n",
       "      <td>4.081633</td>\n",
       "    </tr>\n",
       "    <tr>\n",
       "      <th>31</th>\n",
       "      <td>35</td>\n",
       "      <td>MULTIPOLYGON (((24.44404 60.00974, 24.43956 60...</td>\n",
       "      <td>35.0</td>\n",
       "      <td>26.0</td>\n",
       "      <td>3.0</td>\n",
       "      <td>11.538462</td>\n",
       "    </tr>\n",
       "  </tbody>\n",
       "</table>\n",
       "</div>"
      ],
      "text/plain": [
       "    id                                           geometry  area_id  \\\n",
       "5    9  MULTIPOLYGON (((24.3276 60.00744, 24.32312 60....      9.0   \n",
       "26  30  MULTIPOLYGON (((24.42164 60.00931, 24.41717 60...     30.0   \n",
       "29  33  MULTIPOLYGON (((24.43508 60.00957, 24.4306 60....     33.0   \n",
       "30  34  MULTIPOLYGON (((24.43956 60.00966, 24.43508 60...     34.0   \n",
       "31  35  MULTIPOLYGON (((24.44404 60.00974, 24.43956 60...     35.0   \n",
       "\n",
       "    areaid_count  missing_counts  missing_percentage  \n",
       "5           25.0             3.0           12.000000  \n",
       "26          35.0             4.0           11.428571  \n",
       "29         117.0             7.0            5.982906  \n",
       "30          49.0             2.0            4.081633  \n",
       "31          26.0             3.0           11.538462  "
      ]
     },
     "execution_count": 8,
     "metadata": {},
     "output_type": "execute_result"
    }
   ],
   "source": [
    "group1_df = geo_df[(geo_df['missing_percentage'] > 0) & (geo_df['missing_percentage'] <= 20)]\n",
    "group1_df.head()"
   ]
  },
  {
   "cell_type": "code",
   "execution_count": 9,
   "id": "8e80f83c",
   "metadata": {},
   "outputs": [
    {
     "data": {
      "text/plain": [
       "geopandas.geodataframe.GeoDataFrame"
      ]
     },
     "execution_count": 9,
     "metadata": {},
     "output_type": "execute_result"
    }
   ],
   "source": [
    "type(group1_df)"
   ]
  },
  {
   "cell_type": "code",
   "execution_count": 10,
   "id": "5c78d32a",
   "metadata": {},
   "outputs": [
    {
     "name": "stderr",
     "output_type": "stream",
     "text": [
      "/scratch/work/lyub2/.conda_envs/lb-env/lib/python3.12/site-packages/geopandas/geodataframe.py:1819: SettingWithCopyWarning: \n",
      "A value is trying to be set on a copy of a slice from a DataFrame.\n",
      "Try using .loc[row_indexer,col_indexer] = value instead\n",
      "\n",
      "See the caveats in the documentation: https://pandas.pydata.org/pandas-docs/stable/user_guide/indexing.html#returning-a-view-versus-a-copy\n",
      "  super().__setitem__(key, value)\n"
     ]
    }
   ],
   "source": [
    "group1_df.set_crs(epsg=4326, inplace=True)  # WGS84 is commonly used for lat/lon data\n",
    "\n",
    "# Save to GeoJSON file\n",
    "group1_df.to_file('/scratch/work/lyub2/Problem_output_September/P1A1/gdf_G1.geojson', driver='GeoJSON')"
   ]
  },
  {
   "cell_type": "code",
   "execution_count": null,
   "id": "ceafbf1a-5cce-461c-b5b4-4a0e54cbed05",
   "metadata": {},
   "outputs": [],
   "source": [
    "group2_df = geo_df[(geo_df['missing_percentage'] > 20) & (geo_df['missing_percentage'] <= 40)]\n",
    "\n",
    "# Initialize a map centered around Finland or Helsinki\n",
    "m2 = folium.Map(location=[64.0, 26.0], zoom_start=6)\n",
    "\n",
    "# Add each area in Group 2 to the map\n",
    "for idx, row in group2_df.iterrows():\n",
    "    folium.CircleMarker(\n",
    "        location=row['coordinates'],\n",
    "        radius=1.5,  # Adjusted radius for visibility\n",
    "        color='#ff7f0e',\n",
    "        fill=True,\n",
    "        fill_opacity=0.7,\n",
    "        popup=f\"Area ID: {row['area_id']}<br>Missing Percentage: {row['missing_percentage']:.2f}%\"\n",
    "    ).add_to(m2)\n",
    "\n",
    "legend_html = '''\n",
    "<div style=\"position: fixed;\n",
    "            bottom: 50px; left: 50px; width: 150px; height: auto;\n",
    "            border:2px solid grey; z-index:9999; font-size:14px;\n",
    "            background-color:white; padding: 10px;\">\n",
    "&emsp;<b>Legend</b><br>\n",
    "&emsp;<i style=\"background:#ff7f0e;color:#ff7f0e\">.....</i> 20-40%<br>\n",
    "</div>\n",
    "'''\n",
    "\n",
    "m2.get_root().html.add_child(folium.Element(legend_html))\n",
    "# Save or display the map for Group 2\n",
    "m2.save('/scratch/work/lyub2/Problem_output_September/P1A1/(20-40]_missing_percentage_map.html')\n",
    "m2"
   ]
  },
  {
   "cell_type": "code",
   "execution_count": 11,
   "id": "cd101992",
   "metadata": {},
   "outputs": [
    {
     "name": "stdout",
     "output_type": "stream",
     "text": [
      "<class 'geopandas.geodataframe.GeoDataFrame'>\n"
     ]
    },
    {
     "name": "stderr",
     "output_type": "stream",
     "text": [
      "/scratch/work/lyub2/.conda_envs/lb-env/lib/python3.12/site-packages/geopandas/geodataframe.py:1819: SettingWithCopyWarning: \n",
      "A value is trying to be set on a copy of a slice from a DataFrame.\n",
      "Try using .loc[row_indexer,col_indexer] = value instead\n",
      "\n",
      "See the caveats in the documentation: https://pandas.pydata.org/pandas-docs/stable/user_guide/indexing.html#returning-a-view-versus-a-copy\n",
      "  super().__setitem__(key, value)\n"
     ]
    }
   ],
   "source": [
    "group2_df = geo_df[(geo_df['missing_percentage'] > 20) & (geo_df['missing_percentage'] <= 40)]\n",
    "print(type(group2_df))\n",
    "\n",
    "group2_df.set_crs(epsg=4326, inplace=True)  # WGS84 is commonly used for lat/lon data\n",
    "\n",
    "# Save to GeoJSON file\n",
    "group2_df.to_file('/scratch/work/lyub2/Problem_output_September/P1A1/gdf_G2.geojson', driver='GeoJSON')"
   ]
  },
  {
   "cell_type": "code",
   "execution_count": null,
   "id": "cb20623a-3760-4e19-b456-da82ac49012d",
   "metadata": {},
   "outputs": [],
   "source": [
    "group3_df = geo_df[(geo_df['missing_percentage'] > 40) & (geo_df['missing_percentage'] <= 60)]\n",
    "\n",
    "# Initialize a map centered around Finland or Helsinki\n",
    "m3 = folium.Map(location=[64.0, 26.0], zoom_start=6)\n",
    "\n",
    "# Add each area in Group 3 to the map\n",
    "for idx, row in group3_df.iterrows():\n",
    "    folium.CircleMarker(\n",
    "        location=row['coordinates'],\n",
    "        radius=1.5,  # Adjusted radius for visibility\n",
    "        color='#9467bd',\n",
    "        fill=True,\n",
    "        fill_opacity=0.7,\n",
    "        popup=f\"Area ID: {row['area_id']}<br>Missing Percentage: {row['missing_percentage']:.2f}%\"\n",
    "    ).add_to(m3)\n",
    "\n",
    "legend_html = '''\n",
    "<div style=\"position: fixed;\n",
    "            bottom: 50px; left: 50px; width: 150px; height: auto;\n",
    "            border:2px solid grey; z-index:9999; font-size:14px;\n",
    "            background-color:white; padding: 10px;\">\n",
    "&emsp;<b>Legend</b><br>\n",
    "&emsp;<i style=\"background:#9467bd;color:#9467bd\">.....</i> 40-60%<br>\n",
    "</div>\n",
    "'''\n",
    "\n",
    "m3.get_root().html.add_child(folium.Element(legend_html))\n",
    "# Save or display the map for Group 1\n",
    "m3.save('/scratch/work/lyub2/Problem_output_September/P1A1/(40-60]_missing_percentage_map.html')\n",
    "m3"
   ]
  },
  {
   "cell_type": "code",
   "execution_count": 12,
   "id": "c4af9dab",
   "metadata": {},
   "outputs": [
    {
     "name": "stdout",
     "output_type": "stream",
     "text": [
      "<class 'geopandas.geodataframe.GeoDataFrame'>\n"
     ]
    },
    {
     "name": "stderr",
     "output_type": "stream",
     "text": [
      "/scratch/work/lyub2/.conda_envs/lb-env/lib/python3.12/site-packages/geopandas/geodataframe.py:1819: SettingWithCopyWarning: \n",
      "A value is trying to be set on a copy of a slice from a DataFrame.\n",
      "Try using .loc[row_indexer,col_indexer] = value instead\n",
      "\n",
      "See the caveats in the documentation: https://pandas.pydata.org/pandas-docs/stable/user_guide/indexing.html#returning-a-view-versus-a-copy\n",
      "  super().__setitem__(key, value)\n"
     ]
    }
   ],
   "source": [
    "group3_df = geo_df[(geo_df['missing_percentage'] > 40) & (geo_df['missing_percentage'] <= 60)]\n",
    "print(type(group3_df))\n",
    "\n",
    "group3_df.set_crs(epsg=4326, inplace=True)  # WGS84 is commonly used for lat/lon data\n",
    "\n",
    "# Save to GeoJSON file\n",
    "group3_df.to_file('/scratch/work/lyub2/Problem_output_September/P1A1/gdf_G3.geojson', driver='GeoJSON')"
   ]
  },
  {
   "cell_type": "code",
   "execution_count": null,
   "id": "270d4567-0a6e-4d2d-8c49-c654448d266a",
   "metadata": {},
   "outputs": [],
   "source": [
    "group4_df = geo_df[(geo_df['missing_percentage'] > 60) & (geo_df['missing_percentage'] <= 80)]\n",
    "\n",
    "# Initialize a map centered around Finland or Helsinki\n",
    "m4 = folium.Map(location=[64.0, 26.0], zoom_start=6)\n",
    "\n",
    "# Add each area in Group 4 to the map\n",
    "for idx, row in group4_df.iterrows():\n",
    "    folium.CircleMarker(\n",
    "        location=row['coordinates'],\n",
    "        radius=1.5,  # Adjusted radius for visibility\n",
    "        color='#e377c2',\n",
    "        fill=True,\n",
    "        fill_opacity=0.7,\n",
    "        popup=f\"Area ID: {row['area_id']}<br>Missing Percentage: {row['missing_percentage']:.2f}%\"\n",
    "    ).add_to(m4)\n",
    "\n",
    "legend_html = '''\n",
    "<div style=\"position: fixed;\n",
    "            bottom: 50px; left: 50px; width: 150px; height: auto;\n",
    "            border:2px solid grey; z-index:9999; font-size:14px;\n",
    "            background-color:white; padding: 10px;\">\n",
    "&emsp;<b>Legend</b><br>\n",
    "&emsp;<i style=\"background:#e377c2;color:#e377c2\">.....</i> 60-80%<br>\n",
    "</div>\n",
    "'''\n",
    "\n",
    "m4.get_root().html.add_child(folium.Element(legend_html))\n",
    "# Save or display the map for Group 1\n",
    "m4.save('/scratch/work/lyub2/Problem_output_September/P1A1/(60-80]_missing_percentage_map.html')\n",
    "m4"
   ]
  },
  {
   "cell_type": "code",
   "execution_count": 13,
   "id": "e9d02abd",
   "metadata": {},
   "outputs": [
    {
     "name": "stdout",
     "output_type": "stream",
     "text": [
      "<class 'geopandas.geodataframe.GeoDataFrame'>\n"
     ]
    },
    {
     "name": "stderr",
     "output_type": "stream",
     "text": [
      "/scratch/work/lyub2/.conda_envs/lb-env/lib/python3.12/site-packages/geopandas/geodataframe.py:1819: SettingWithCopyWarning: \n",
      "A value is trying to be set on a copy of a slice from a DataFrame.\n",
      "Try using .loc[row_indexer,col_indexer] = value instead\n",
      "\n",
      "See the caveats in the documentation: https://pandas.pydata.org/pandas-docs/stable/user_guide/indexing.html#returning-a-view-versus-a-copy\n",
      "  super().__setitem__(key, value)\n"
     ]
    }
   ],
   "source": [
    "group4_df = geo_df[(geo_df['missing_percentage'] > 60) & (geo_df['missing_percentage'] <= 80)]\n",
    "print(type(group4_df))\n",
    "\n",
    "group4_df.set_crs(epsg=4326, inplace=True)  # WGS84 is commonly used for lat/lon data\n",
    "\n",
    "# Save to GeoJSON file\n",
    "group4_df.to_file('/scratch/work/lyub2/Problem_output_September/P1A1/gdf_G4.geojson', driver='GeoJSON')"
   ]
  },
  {
   "cell_type": "code",
   "execution_count": null,
   "id": "6118e68f-1c6b-4d28-b925-e69518371659",
   "metadata": {},
   "outputs": [],
   "source": [
    "group5_df = geo_df[(geo_df['missing_percentage'] > 80) & (geo_df['missing_percentage'] <= 100)]\n",
    "\n",
    "# Initialize a map centered around Finland or Helsinki\n",
    "m5 = folium.Map(location=[64.0, 26.0], zoom_start=6)\n",
    "\n",
    "# Add each area in Group 5 to the map\n",
    "for idx, row in group5_df.iterrows():\n",
    "    folium.CircleMarker(\n",
    "        location=row['coordinates'],\n",
    "        radius=1.5,  # Adjusted radius for visibility\n",
    "        color='#d62728',\n",
    "        fill=True,\n",
    "        fill_opacity=0.7,\n",
    "        popup=f\"Area ID: {row['area_id']}<br>Missing Percentage: {row['missing_percentage']:.2f}%\"\n",
    "    ).add_to(m5)\n",
    "\n",
    "legend_html = '''\n",
    "<div style=\"position: fixed;\n",
    "            bottom: 50px; left: 50px; width: 150px; height: auto;\n",
    "            border:2px solid grey; z-index:9999; font-size:14px;\n",
    "            background-color:white; padding: 10px;\">\n",
    "&emsp;<b>Legend</b><br>\n",
    "&emsp;<i style=\"background:#d62728;color:#d62728\">.....</i> 80-100%<br>\n",
    "</div>\n",
    "'''\n",
    "\n",
    "m5.get_root().html.add_child(folium.Element(legend_html))\n",
    "# Save or display the map for Group 1\n",
    "m5.save('/scratch/work/lyub2/Problem_output_September/P1A1/(80-100]_missing_percentage_map.html')\n",
    "m5"
   ]
  },
  {
   "cell_type": "code",
   "execution_count": 14,
   "id": "5e11b148",
   "metadata": {},
   "outputs": [
    {
     "name": "stdout",
     "output_type": "stream",
     "text": [
      "<class 'geopandas.geodataframe.GeoDataFrame'>\n"
     ]
    },
    {
     "name": "stderr",
     "output_type": "stream",
     "text": [
      "/scratch/work/lyub2/.conda_envs/lb-env/lib/python3.12/site-packages/geopandas/geodataframe.py:1819: SettingWithCopyWarning: \n",
      "A value is trying to be set on a copy of a slice from a DataFrame.\n",
      "Try using .loc[row_indexer,col_indexer] = value instead\n",
      "\n",
      "See the caveats in the documentation: https://pandas.pydata.org/pandas-docs/stable/user_guide/indexing.html#returning-a-view-versus-a-copy\n",
      "  super().__setitem__(key, value)\n"
     ]
    }
   ],
   "source": [
    "group5_df = geo_df[(geo_df['missing_percentage'] > 80) & (geo_df['missing_percentage'] <= 100)]\n",
    "print(type(group5_df))\n",
    "\n",
    "group5_df.set_crs(epsg=4326, inplace=True)  # WGS84 is commonly used for lat/lon data\n",
    "\n",
    "# Save to GeoJSON file\n",
    "group5_df.to_file('/scratch/work/lyub2/Problem_output_September/P1A1/gdf_G5.geojson', driver='GeoJSON')"
   ]
  },
  {
   "cell_type": "code",
   "execution_count": null,
   "id": "52ed28f2-3524-48db-81ad-96364a45bdd2",
   "metadata": {},
   "outputs": [],
   "source": []
  },
  {
   "cell_type": "markdown",
   "id": "136279f6-a444-464e-836e-5b6e970f6367",
   "metadata": {
    "jp-MarkdownHeadingCollapsed": true
   },
   "source": [
    "### missing percentage的比例分布"
   ]
  },
  {
   "cell_type": "code",
   "execution_count": 9,
   "id": "d5e70ca5-6cd3-46c5-989c-e1f932bc501a",
   "metadata": {},
   "outputs": [
    {
     "name": "stdout",
     "output_type": "stream",
     "text": [
      "Counts by Group:\n",
      "group\n",
      "G1 0-20%      30127\n",
      "G2 20-40%     11635\n",
      "G3 40-60%      5447\n",
      "G4 60-80%      2889\n",
      "G5 80-100%    11199\n",
      "Name: count, dtype: int64\n",
      "\n",
      "Percentages by Group:\n",
      "group\n",
      "G1 0-20%      39.940872\n",
      "G2 20-40%     15.425102\n",
      "G3 40-60%      7.221360\n",
      "G4 60-80%      3.830092\n",
      "G5 80-100%    14.847075\n",
      "Name: count, dtype: float64\n"
     ]
    }
   ],
   "source": [
    "\n",
    "group_labels = ['G1 0-20%', 'G2 20-40%', 'G3 40-60%', 'G4 60-80%', 'G5 80-100%']\n",
    "bins = [0, 20, 40, 60, 80, 100]\n",
    "\n",
    "# Add a new column to categorize the missing_percentage into groups\n",
    "geo_df['group'] = pd.cut(geo_df['missing_percentage'], bins=bins, labels=group_labels, include_lowest=True, right=True)\n",
    "\n",
    "# Calculate counts and percentages\n",
    "group_counts = geo_df['group'].value_counts(sort=False)\n",
    "group_percentages = (group_counts / len(geo_df)) * 100\n",
    "\n",
    "# Display the results\n",
    "print(\"Counts by Group:\")\n",
    "print(group_counts)\n",
    "print(\"\\nPercentages by Group:\")\n",
    "print(group_percentages)\n"
   ]
  },
  {
   "cell_type": "code",
   "execution_count": 10,
   "id": "cbfc5edf-0910-41ec-8a8b-9a732475645e",
   "metadata": {},
   "outputs": [
    {
     "data": {
      "image/png": "[encoded data removed]",
      "text/plain": [
       "<Figure size 1000x600 with 1 Axes>"
      ]
     },
     "metadata": {},
     "output_type": "display_data"
    }
   ],
   "source": [
    "# Define colors corresponding to the groups (same as in the Folium maps)\n",
    "colors = ['#1f77b4', '#ff7f0e', '#9467bd', '#e377c2', '#d62728']\n",
    "\n",
    "plt.figure(figsize=(10, 6))\n",
    "bars = plt.bar(group_labels, group_percentages, color=colors)\n",
    "\n",
    "# Annotate each bar with its corresponding percentage\n",
    "for bar, percentage in zip(bars, group_percentages):\n",
    "    height = bar.get_height()\n",
    "    plt.text(bar.get_x() + bar.get_width() / 2, height,\n",
    "             f'{percentage:.2f}%', ha='center', va='bottom')\n",
    "\n",
    "# Alternatively, create a bar plot for the percentages\n",
    "\n",
    "plt.title('Distribution of Missing Percentage by Group')\n",
    "plt.xlabel('Missing Percentage of groups')\n",
    "plt.ylabel('Percentage Taken By Each Group')\n",
    "plt.show()\n"
   ]
  },
  {
   "cell_type": "code",
   "execution_count": null,
   "id": "5848c8a8-d87c-4935-b247-f11fd71e977b",
   "metadata": {},
   "outputs": [],
   "source": []
  }
 ],
 "metadata": {
  "kernelspec": {
   "display_name": "Python generic (scicomp-python-env/2024-01)",
   "language": "python",
   "name": "python3"
  },
  "language_info": {
   "codemirror_mode": {
    "name": "ipython",
    "version": 3
   },
   "file_extension": ".py",
   "mimetype": "text/x-python",
   "name": "python",
   "nbconvert_exporter": "python",
   "pygments_lexer": "ipython3",
   "version": "3.12.5"
  }
 },
 "nbformat": 4,
 "nbformat_minor": 5
}
